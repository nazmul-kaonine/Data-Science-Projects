{
  "nbformat": 4,
  "nbformat_minor": 0,
  "metadata": {
    "colab": {
      "name": "Raw_Input_DL1.ipynb",
      "provenance": [],
      "collapsed_sections": [],
      "include_colab_link": true
    },
    "kernelspec": {
      "name": "python3",
      "display_name": "Python 3"
    }
  },
  "cells": [
    {
      "cell_type": "markdown",
      "metadata": {
        "id": "view-in-github",
        "colab_type": "text"
      },
      "source": [
        "<a href=\"https://colab.research.google.com/github/nazmul-kaonine/Data-Science-Projects/blob/master/Handwritten%20Digit%20Classification%20using%20Multiple%20Descriptors%20%26%20ANN/Raw_Input.ipynb\" target=\"_parent\"><img src=\"https://colab.research.google.com/assets/colab-badge.svg\" alt=\"Open In Colab\"/></a>"
      ]
    },
    {
      "cell_type": "markdown",
      "metadata": {
        "id": "soPWtc-mgZOg",
        "colab_type": "text"
      },
      "source": [
        "#Submitted by:\n",
        "###Nazmul Kaonine\n",
        "####PostGrad- UTS"
      ]
    },
    {
      "cell_type": "markdown",
      "metadata": {
        "id": "e4SuEbCYgSNS",
        "colab_type": "text"
      },
      "source": [
        "# Initializing ALL libraries and loader functions"
      ]
    },
    {
      "cell_type": "code",
      "metadata": {
        "id": "SGsqwhylaNZt",
        "colab_type": "code",
        "colab": {
          "base_uri": "https://localhost:8080/",
          "height": 69
        },
        "outputId": "1e89f75c-d228-443c-cce9-b8d8b02319dd"
      },
      "source": [
        "import numpy as np\n",
        "import matplotlib.pyplot as plt\n",
        "from skimage import feature \n",
        "from sklearn import svm \n",
        "%matplotlib inline\n",
        "import seaborn as sns \n",
        "from sklearn.model_selection import train_test_split\n",
        "from sklearn.neighbors import KNeighborsClassifier\n",
        "from sklearn import metrics\n",
        "import math, numpy as np\n",
        "import sklearn.datasets\n",
        "import matplotlib.pyplot as plt\n",
        "import os\n",
        "import h5py\n",
        "import glob\n",
        "import cv2\n",
        "from keras.preprocessing import image"
      ],
      "execution_count": null,
      "outputs": [
        {
          "output_type": "stream",
          "text": [
            "/usr/local/lib/python3.6/dist-packages/statsmodels/tools/_testing.py:19: FutureWarning: pandas.util.testing is deprecated. Use the functions in the public API at pandas.testing instead.\n",
            "  import pandas.util.testing as tm\n",
            "Using TensorFlow backend.\n"
          ],
          "name": "stderr"
        }
      ]
    },
    {
      "cell_type": "code",
      "metadata": {
        "id": "2LaJ1y4Gp1pA",
        "colab_type": "code",
        "colab": {
          "base_uri": "https://localhost:8080/",
          "height": 34
        },
        "outputId": "8a30cfab-cdfe-44b8-a2b0-d78ac5b0dfb3"
      },
      "source": [
        "    os.system('wget -N http://yann.lecun.com/exdb/mnist/train-images-idx3-ubyte.gz')\n",
        "    os.system('wget -N http://yann.lecun.com/exdb/mnist/train-labels-idx1-ubyte.gz')\n",
        "    os.system('wget -N http://yann.lecun.com/exdb/mnist/t10k-images-idx3-ubyte.gz')\n",
        "    os.system('wget -N http://yann.lecun.com/exdb/mnist/t10k-labels-idx1-ubyte.gz')"
      ],
      "execution_count": null,
      "outputs": [
        {
          "output_type": "execute_result",
          "data": {
            "text/plain": [
              "0"
            ]
          },
          "metadata": {
            "tags": []
          },
          "execution_count": 8
        }
      ]
    },
    {
      "cell_type": "code",
      "metadata": {
        "id": "-GvcFJe1aiRu",
        "colab_type": "code",
        "colab": {}
      },
      "source": [
        "def load_mnist(path, kind='train'):\n",
        "    import os\n",
        "    import gzip\n",
        "    import numpy as np\n",
        "\n",
        "    \"\"\"Load MNIST data from `path`\"\"\"\n",
        "    labels_path = os.path.join(path,\n",
        "                               '%s-labels-idx1-ubyte.gz'\n",
        "                               % kind)\n",
        "    images_path = os.path.join(path,\n",
        "                               '%s-images-idx3-ubyte.gz'\n",
        "                               % kind)\n",
        "\n",
        "    with gzip.open(labels_path, 'rb') as lbpath:\n",
        "        labels = np.frombuffer(lbpath.read(), dtype=np.uint8,\n",
        "                               offset=8)\n",
        "\n",
        "    with gzip.open(images_path, 'rb') as imgpath:\n",
        "        images = np.frombuffer(imgpath.read(), dtype=np.uint8,\n",
        "                               offset=16).reshape(len(labels), 784)\n",
        "                                \n",
        "                              \n",
        "\n",
        "\n",
        "                        \n",
        "        \n",
        "\n",
        "\n",
        "    return images, labels"
      ],
      "execution_count": null,
      "outputs": []
    },
    {
      "cell_type": "code",
      "metadata": {
        "id": "p84hojvLiTpn",
        "colab_type": "code",
        "colab": {}
      },
      "source": [
        "from google.colab import drive\n",
        "drive.mount('/content/gdrive')\n"
      ],
      "execution_count": null,
      "outputs": []
    },
    {
      "cell_type": "code",
      "metadata": {
        "id": "92y6kmkpkRDp",
        "colab_type": "code",
        "colab": {}
      },
      "source": [
        "\n",
        "X_train, y_train = load_mnist('/content/gdrive/My Drive/DLA2/', kind='train')\n",
        "X_test, y_test = load_mnist('/content/gdrive/My Drive/DLA2/', kind='t10k')\n",
        "\n"
      ],
      "execution_count": null,
      "outputs": []
    },
    {
      "cell_type": "markdown",
      "metadata": {
        "id": "r3jMTg9NhcTc",
        "colab_type": "text"
      },
      "source": [
        "#Some Visualizations"
      ]
    },
    {
      "cell_type": "code",
      "metadata": {
        "id": "p2DZAm5Smxrg",
        "colab_type": "code",
        "colab": {}
      },
      "source": [
        "#Changing shape to 28x28 from 784\n",
        "X_train=X_train.reshape(-1,28,28)\n",
        "X_test=X_test.reshape(-1,28,28)\n",
        "\n",
        "print(\"Train dataset after reshaping:{}\".format(np.shape(X_train)))\n",
        "print(\"Test dataset after reshaping :{}\".format(np.shape(X_test)))"
      ],
      "execution_count": null,
      "outputs": []
    },
    {
      "cell_type": "code",
      "metadata": {
        "id": "T_2l5swkAlfJ",
        "colab_type": "code",
        "colab": {}
      },
      "source": [
        "import matplotlib.pyplot as plt\n",
        "plt.imshow(X_train[4])\n",
        "print(X_train[4])\n",
        "\n"
      ],
      "execution_count": null,
      "outputs": []
    },
    {
      "cell_type": "code",
      "metadata": {
        "id": "K_G9JOHnAob5",
        "colab_type": "code",
        "colab": {
          "base_uri": "https://localhost:8080/",
          "height": 266
        },
        "outputId": "d37a96d5-abfc-4449-82ab-ef7140c80667"
      },
      "source": [
        "sns.countplot(y_train)\n",
        "plt.show()\n",
        "#shows digit label counts\n"
      ],
      "execution_count": null,
      "outputs": [
        {
          "output_type": "display_data",
          "data": {
            "image/png": "[encoded data removed]",
            "text/plain": [
              "<Figure size 432x288 with 1 Axes>"
            ]
          },
          "metadata": {
            "tags": [],
            "needs_background": "light"
          }
        }
      ]
    },
    {
      "cell_type": "code",
      "metadata": {
        "id": "BjVDE7KEXSEz",
        "colab_type": "code",
        "colab": {
          "base_uri": "https://localhost:8080/",
          "height": 550
        },
        "outputId": "d14664ec-50e1-4155-ee89-5babb1d58758"
      },
      "source": [
        "fig = plt.figure()\n",
        "for i in range(9):\n",
        "  plt.subplot(3,3,i+1)\n",
        "  plt.tight_layout()\n",
        "  plt.imshow(X_train[i], cmap='gray', interpolation='none')\n",
        "  plt.title(\"Digit: {}\".format(y_train[i]))\n",
        "  plt.xticks([])\n",
        "  plt.yticks([])\n",
        "fig"
      ],
      "execution_count": null,
      "outputs": [
        {
          "output_type": "execute_result",
          "data": {
            "image/png": "[encoded data removed]",
            "text/plain": [
              "<Figure size 432x288 with 9 Axes>"
            ]
          },
          "metadata": {
            "tags": []
          },
          "execution_count": 17
        },
        {
          "output_type": "display_data",
          "data": {
            "image/png": "[encoded data removed]",
            "text/plain": [
              "<Figure size 432x288 with 9 Axes>"
            ]
          },
          "metadata": {
            "tags": []
          }
        }
      ]
    },
    {
      "cell_type": "code",
      "metadata": {
        "id": "oiObXk8Hp4Uj",
        "colab_type": "code",
        "colab": {}
      },
      "source": [
        "def display_image(position):\n",
        "    image = X_train[position].squeeze()\n",
        "    plt.title('Example %d. Label: %d' % (position, y_train[position]))\n",
        "    plt.imshow(image, cmap=plt.cm.gray_r)"
      ],
      "execution_count": null,
      "outputs": []
    },
    {
      "cell_type": "code",
      "metadata": {
        "id": "94jwYzICttin",
        "colab_type": "code",
        "colab": {
          "base_uri": "https://localhost:8080/",
          "height": 545
        },
        "outputId": "d10ac57f-cc42-4d79-8a21-1600625f8cad"
      },
      "source": [
        "display_image(0)\n",
        "plt.show()\n",
        "display_image(59999)\n",
        "#to view specific images"
      ],
      "execution_count": null,
      "outputs": [
        {
          "output_type": "display_data",
          "data": {
            "image/png": "[encoded data removed]",
            "text/plain": [
              "<Figure size 432x288 with 1 Axes>"
            ]
          },
          "metadata": {
            "tags": [],
            "needs_background": "light"
          }
        },
        {
          "output_type": "display_data",
          "data": {
            "image/png": "[encoded data removed]",
            "text/plain": [
              "<Figure size 432x288 with 1 Axes>"
            ]
          },
          "metadata": {
            "tags": [],
            "needs_background": "light"
          }
        }
      ]
    },
    {
      "cell_type": "markdown",
      "metadata": {
        "id": "8s-FmkaCh5gZ",
        "colab_type": "text"
      },
      "source": [
        "### Sampling for faster loop testing to find optimal k"
      ]
    },
    {
      "cell_type": "code",
      "metadata": {
        "id": "PuAskXU1m7xU",
        "colab_type": "code",
        "colab": {
          "base_uri": "https://localhost:8080/",
          "height": 52
        },
        "outputId": "30c989db-75c9-4343-e14b-ecf081fe97b2"
      },
      "source": [
        "X_train=X_train.reshape(-1,784)\n",
        "X_test=X_test.reshape(-1,784)\n",
        "print(\"Train dataset after reshaping:{}\".format(np.shape(X_train)))\n",
        "print(\"Test dataset after reshaping :{}\".format(np.shape(X_test)))"
      ],
      "execution_count": null,
      "outputs": [
        {
          "output_type": "stream",
          "text": [
            "Train dataset after reshaping:(60000, 784)\n",
            "Test dataset after reshaping :(10000, 784)\n"
          ],
          "name": "stdout"
        }
      ]
    },
    {
      "cell_type": "code",
      "metadata": {
        "id": "-nkY1-pFkdAX",
        "colab_type": "code",
        "colab": {}
      },
      "source": [
        "Sample_train, Sample_test, Digit_train, Digit_test = train_test_split(\n",
        "...     X_train, y_train, test_size=0.01, random_state=42)\n",
        "\n"
      ],
      "execution_count": null,
      "outputs": []
    },
    {
      "cell_type": "markdown",
      "metadata": {
        "id": "j2gZ_Cz4QmMR",
        "colab_type": "text"
      },
      "source": [
        "####K NEAREST NEIGHBOR"
      ]
    },
    {
      "cell_type": "code",
      "metadata": {
        "id": "2a3TnoOglf_q",
        "colab_type": "code",
        "colab": {
          "base_uri": "https://localhost:8080/",
          "height": 86
        },
        "outputId": "3e238886-e087-4548-832f-fcfb59bdfcb5"
      },
      "source": [
        "for k in range (1,5,2):\n",
        "  clf=KNeighborsClassifier(n_neighbors=k)\n",
        "  clf.fit(Sample_train,Digit_train)\n",
        "  Digit_predicted=clf.predict(Sample_test)\n",
        "  print('k= %d' %k)\n",
        "  print(\"Test set Accuracy: {:.2f}\".format(clf.score(Sample_test,Digit_test)))\n"
      ],
      "execution_count": null,
      "outputs": [
        {
          "output_type": "stream",
          "text": [
            "k= 1\n",
            "Test set Accuracy: 0.97\n",
            "k= 3\n",
            "Test set Accuracy: 0.97\n"
          ],
          "name": "stdout"
        }
      ]
    },
    {
      "cell_type": "code",
      "metadata": {
        "id": "SfNxTjgwkzcH",
        "colab_type": "code",
        "colab": {}
      },
      "source": [
        "Digit_predicted=clf.predict(Sample_test)\n",
        "print(\"Test set predictions: {}\".format(clf.predict(Sample_test)))\n"
      ],
      "execution_count": null,
      "outputs": []
    },
    {
      "cell_type": "code",
      "metadata": {
        "id": "fh-yeHYpk6uj",
        "colab_type": "code",
        "colab": {
          "base_uri": "https://localhost:8080/",
          "height": 208
        },
        "outputId": "0c6f27ef-3486-4881-a253-722c92eee3a3"
      },
      "source": [
        "print(metrics.confusion_matrix(Digit_test, Digit_predicted))"
      ],
      "execution_count": null,
      "outputs": [
        {
          "output_type": "stream",
          "text": [
            "Test set Accuracy: 0.98\n",
            "[[6 0 0 0 0 0 0 0 0 0]\n",
            " [0 4 0 0 0 0 0 0 0 0]\n",
            " [0 0 5 0 0 0 0 1 0 0]\n",
            " [0 0 0 7 0 0 0 0 0 0]\n",
            " [0 0 0 0 4 0 0 0 0 0]\n",
            " [0 0 0 0 0 7 0 0 0 0]\n",
            " [0 0 0 0 0 0 5 0 0 0]\n",
            " [0 0 0 0 0 0 0 7 0 0]\n",
            " [0 0 0 0 0 0 0 0 9 0]\n",
            " [0 0 0 0 0 0 0 0 0 5]]\n"
          ],
          "name": "stdout"
        }
      ]
    },
    {
      "cell_type": "markdown",
      "metadata": {
        "id": "q18uQE-tjGS9",
        "colab_type": "text"
      },
      "source": [
        "##Retesting the best K value on the whole set"
      ]
    },
    {
      "cell_type": "code",
      "metadata": {
        "id": "9Nhj8YKYzKPz",
        "colab_type": "code",
        "colab": {}
      },
      "source": [
        "X_train=X_train.reshape(-1,784)\n",
        "X_test=X_test.reshape(-1,784)\n",
        "\n",
        "clf=KNeighborsClassifier(n_neighbors=5)\n",
        "clf.fit(X_train,y_train)\n",
        "y_predicted=clf.predict(X_test)\n",
        "y_test\n",
        "print(\"Test set predictions: {}\".format(clf.predict(X_test)))\n",
        "print(\"Test set Accuracy: {:.2f}\".format(clf.score(X_test,y_test)))\n",
        "print(metrics.confusion_matrix(y_test, y_predicted))"
      ],
      "execution_count": null,
      "outputs": []
    },
    {
      "cell_type": "markdown",
      "metadata": {
        "id": "-WJoDBCRNwH1",
        "colab_type": "text"
      },
      "source": [
        "#SVM"
      ]
    },
    {
      "cell_type": "code",
      "metadata": {
        "id": "zXoZKlrkoE0u",
        "colab_type": "code",
        "colab": {}
      },
      "source": [
        "#SAMPLE test 0 \n",
        "clf = svm.SVC(kernel='linear') \n",
        "clf.fit(X_train, y_train)\n",
        "y_pred = clf.predict(X_test)\n",
        "print(\"Accuracy:\",metrics.accuracy_score(y_test, y_pred))"
      ],
      "execution_count": null,
      "outputs": []
    },
    {
      "cell_type": "code",
      "metadata": {
        "id": "XZa3K4oRn8jI",
        "colab_type": "code",
        "colab": {}
      },
      "source": [
        "#SAMPLE test 1 \n",
        "clf = svm.SVC(kernel='rbf') \n",
        "clf.fit(X_train, y_train)\n",
        "y_pred = clf.predict(X_test)\n",
        "print(\"Accuracy:\",metrics.accuracy_score(y_test, y_pred))"
      ],
      "execution_count": null,
      "outputs": []
    },
    {
      "cell_type": "code",
      "metadata": {
        "id": "njp7ttZGjkrT",
        "colab_type": "code",
        "colab": {}
      },
      "source": [
        "#SAMPLE Test 2\n",
        "clf=svm.SVC(C=100,kernel='rbf',gamma=0.01)\n",
        "clf.fit(X_train,y_train)\n",
        "Digit_predicted=clf.predict(X_test)\n",
        "print(\"Test set Accuracy: {:.2f}\".format(clf.score(X_test,y_test)))\n"
      ],
      "execution_count": null,
      "outputs": []
    },
    {
      "cell_type": "code",
      "metadata": {
        "id": "W2PKxWnbojIE",
        "colab_type": "code",
        "colab": {}
      },
      "source": [
        "#SAMPLE Test 3\n",
        "from sklearn import svm\n",
        "clf = svm.SVC(kernel='poly')\n",
        "clf.fit(X_train, y_train)\n",
        "y_pred = clf.predict(X_test)\n",
        "print(\"Accuracy:\",metrics.accuracy_score(y_test, y_pred))"
      ],
      "execution_count": null,
      "outputs": []
    },
    {
      "cell_type": "code",
      "metadata": {
        "id": "--GQdID4pahv",
        "colab_type": "code",
        "colab": {
          "base_uri": "https://localhost:8080/",
          "height": 34
        },
        "outputId": "7291eed5-a2e7-414d-b5d7-823d23e82104"
      },
      "source": [
        "#Best Accuracy Achieved\n",
        "clf=svm.SVC(C=100,kernel='poly',gamma=0.01, degree=4)\n",
        "clf.fit(X_train,y_train)\n",
        "Digit_predicted=clf.predict(X_test)\n",
        "print(\"Test set Accuracy: {:.2f}\".format(clf.score(X_test,y_test)))\n",
        "\n",
        " "
      ],
      "execution_count": null,
      "outputs": [
        {
          "output_type": "stream",
          "text": [
            "Test set Accuracy: 0.98\n"
          ],
          "name": "stdout"
        }
      ]
    },
    {
      "cell_type": "code",
      "metadata": {
        "id": "5p6h8CKlkRTj",
        "colab_type": "code",
        "colab": {}
      },
      "source": [
        "accuracy=metrics.accuracy_score(y_test, Digit_predicted)\n",
        "print(\"Accuracy:\",metrics.accuracy_score(y_test, Digit_predicted))"
      ],
      "execution_count": null,
      "outputs": []
    },
    {
      "cell_type": "code",
      "metadata": {
        "id": "z22ZtgivkDqX",
        "colab_type": "code",
        "colab": {}
      },
      "source": [
        "# plot the confusion matrix\n",
        "cm  = metrics.confusion_matrix(y_test, Digit_predicted)\n",
        "print(cm)\n",
        "\n",
        "# Plot confusion matrix using seaborn library\n",
        "plt.figure(figsize=(9,9))\n",
        "sns.heatmap(cm, annot=True, fmt=\".3f\", linewidths=.5, square = True, cmap = 'Blues_r');\n",
        "plt.ylabel('Actual label');\n",
        "plt.xlabel('Predicted label');\n",
        "all_sample_title = 'Accuracy Score: {0}'.format(accuracy)\n",
        "plt.title(all_sample_title, size = 15);"
      ],
      "execution_count": null,
      "outputs": []
    },
    {
      "cell_type": "code",
      "metadata": {
        "id": "1uNTAUsc1E4v",
        "colab_type": "code",
        "colab": {
          "base_uri": "https://localhost:8080/",
          "height": 52
        },
        "outputId": "7faec8ee-a465-45e9-98de-ef129a0d771a"
      },
      "source": [
        "from sklearn.metrics import precision_score\n",
        "print(\"Precision Score : \",precision_score(y_test, y_pred,  average='micro'))\n",
        "print(\"Recall:\",metrics.recall_score(y_test, y_pred, average='micro')) \n"
      ],
      "execution_count": null,
      "outputs": [
        {
          "output_type": "stream",
          "text": [
            "Precision Score :  0.9792006017788697\n",
            "Recall: 0.9792\n"
          ],
          "name": "stdout"
        }
      ]
    },
    {
      "cell_type": "code",
      "metadata": {
        "id": "joTgJ3AlwnjG",
        "colab_type": "code",
        "colab": {}
      },
      "source": [
        "#Printing some tested samples\n",
        "fig = plt.figure()\n",
        "ax1 = fig.add_subplot(2,2,1)\n",
        "ax1.imshow(images[1])\n",
        "print(orig_labels[1])\n",
        "ax2 = fig.add_subplot(2,2,2)\n",
        "ax2.imshow(images[2])\n",
        "print(orig_labels[2])\n",
        "ax3 = fig.add_subplot(2,2,3)\n",
        "ax3.imshow(images[3])\n",
        "print(orig_labels[3])\n",
        "ax4 = fig.add_subplot(2,2,4)\n",
        "ax4.imshow(images[4])\n",
        "print(orig_labels[4])"
      ],
      "execution_count": null,
      "outputs": []
    },
    {
      "cell_type": "markdown",
      "metadata": {
        "id": "PPK7g1PwjZXs",
        "colab_type": "text"
      },
      "source": [
        "#ANN "
      ]
    },
    {
      "cell_type": "code",
      "metadata": {
        "id": "v1t2QbZIjX0H",
        "colab_type": "code",
        "colab": {
          "base_uri": "https://localhost:8080/",
          "height": 86
        },
        "outputId": "f5b5d1b6-1259-4449-ad41-1cae5577c70d"
      },
      "source": [
        "import os\n",
        "import numpy as np\n",
        "import tensorflow as tf\n",
        "from tensorflow import keras\n",
        "print(tf.__version__)\n",
        "print(keras.__version__)\n",
        "%load_ext tensorboard\n",
        "\n",
        "Mnist=tf.keras.datasets.mnist\n",
        "(train_images, train_labels), (test_images, test_labels) = Mnist.load_data()\n",
        "\n",
        "\n"
      ],
      "execution_count": null,
      "outputs": [
        {
          "output_type": "stream",
          "text": [
            "2.2.0-rc3\n",
            "2.3.0-tf\n",
            "The tensorboard extension is already loaded. To reload it, use:\n",
            "  %reload_ext tensorboard\n"
          ],
          "name": "stdout"
        }
      ]
    },
    {
      "cell_type": "code",
      "metadata": {
        "id": "wv_Fctgdk-Ec",
        "colab_type": "code",
        "colab": {
          "base_uri": "https://localhost:8080/",
          "height": 52
        },
        "outputId": "f4ded206-4108-4feb-e8fa-f1b269b92668"
      },
      "source": [
        "print(train_images.dtype)\n",
        "print(train_images.shape)"
      ],
      "execution_count": null,
      "outputs": [
        {
          "output_type": "stream",
          "text": [
            "uint8\n",
            "(60000, 28, 28)\n"
          ],
          "name": "stdout"
        }
      ]
    },
    {
      "cell_type": "code",
      "metadata": {
        "id": "NMNPt7tIlF_B",
        "colab_type": "code",
        "colab": {
          "base_uri": "https://localhost:8080/",
          "height": 282
        },
        "outputId": "b4746445-355d-4544-aecf-c329bffdaa98"
      },
      "source": [
        "#An image\n",
        "class_names = [\"0\", \"1\", \"2\", \"3\", \"4\", \"5\", \"6\", \"7\", \"8\", \"9\"]\n",
        "import matplotlib.pyplot as plt\n",
        "plt.imshow(train_images[3])\n",
        "print(train_labels[3])"
      ],
      "execution_count": null,
      "outputs": [
        {
          "output_type": "stream",
          "text": [
            "1\n"
          ],
          "name": "stdout"
        },
        {
          "output_type": "display_data",
          "data": {
            "image/png": "[encoded data removed]",
            "text/plain": [
              "<Figure size 432x288 with 1 Axes>"
            ]
          },
          "metadata": {
            "tags": [],
            "needs_background": "light"
          }
        }
      ]
    },
    {
      "cell_type": "code",
      "metadata": {
        "id": "0H6DDNxalXUl",
        "colab_type": "code",
        "colab": {
          "base_uri": "https://localhost:8080/",
          "height": 69
        },
        "outputId": "90b4c325-3f97-4714-c872-063dbfc24c17"
      },
      "source": [
        "#Normalizing\n",
        "valid_images= train_images[:5000] / 255.0\n",
        "valid_labels = train_labels[:5000]\n",
        "\n",
        "\n",
        "train_images  = train_images[5000:] / 255.0\n",
        "train_labels=train_labels[5000:]\n",
        "\n",
        "test_images = test_images / 255.0\n",
        "\n",
        "print(np.shape(train_images))\n",
        "print(np.shape(valid_images))\n",
        "print(np.shape(test_images))"
      ],
      "execution_count": null,
      "outputs": [
        {
          "output_type": "stream",
          "text": [
            "(55000, 28, 28)\n",
            "(5000, 28, 28)\n",
            "(10000, 28, 28)\n"
          ],
          "name": "stdout"
        }
      ]
    },
    {
      "cell_type": "code",
      "metadata": {
        "id": "zD8jvtiFlv1n",
        "colab_type": "code",
        "colab": {
          "base_uri": "https://localhost:8080/",
          "height": 1000
        },
        "outputId": "80792a46-2fd8-4480-ac71-33db69cc0ef7"
      },
      "source": [
        "#Sample 1\n",
        "model1 = tf.keras.models.Sequential([tf.keras.layers.Flatten(input_shape=[28,28]), \n",
        "                                    tf.keras.layers.Dense(128, activation=tf.nn.relu), \n",
        "                                    tf.keras.layers.Dense(10, activation=tf.nn.softmax)])\n",
        "\n",
        "model1.compile(optimizer = tf.optimizers.Adamax(0.01),\n",
        "              loss = 'sparse_categorical_crossentropy',\n",
        "              metrics=['accuracy'])\n",
        "\n",
        "H=model1.fit(train_images, train_labels, epochs=50,validation_data=(valid_images, valid_labels))\n"
      ],
      "execution_count": null,
      "outputs": [
        {
          "output_type": "stream",
          "text": [
            "Epoch 1/50\n",
            "1719/1719 [==============================] - 4s 2ms/step - loss: 0.2131 - accuracy: 0.9362 - val_loss: 0.1118 - val_accuracy: 0.9670\n",
            "Epoch 2/50\n",
            "1719/1719 [==============================] - 3s 2ms/step - loss: 0.0986 - accuracy: 0.9700 - val_loss: 0.0858 - val_accuracy: 0.9760\n",
            "Epoch 3/50\n",
            "1719/1719 [==============================] - 3s 2ms/step - loss: 0.0688 - accuracy: 0.9788 - val_loss: 0.0751 - val_accuracy: 0.9774\n",
            "Epoch 4/50\n",
            "1719/1719 [==============================] - 4s 2ms/step - loss: 0.0501 - accuracy: 0.9848 - val_loss: 0.0703 - val_accuracy: 0.9802\n",
            "Epoch 5/50\n",
            "1719/1719 [==============================] - 3s 2ms/step - loss: 0.0388 - accuracy: 0.9877 - val_loss: 0.0684 - val_accuracy: 0.9790\n",
            "Epoch 6/50\n",
            "1719/1719 [==============================] - 3s 2ms/step - loss: 0.0301 - accuracy: 0.9907 - val_loss: 0.0668 - val_accuracy: 0.9820\n",
            "Epoch 7/50\n",
            "1719/1719 [==============================] - 3s 2ms/step - loss: 0.0232 - accuracy: 0.9930 - val_loss: 0.0728 - val_accuracy: 0.9794\n",
            "Epoch 8/50\n",
            "1719/1719 [==============================] - 3s 2ms/step - loss: 0.0181 - accuracy: 0.9946 - val_loss: 0.0719 - val_accuracy: 0.9830\n",
            "Epoch 9/50\n",
            "1719/1719 [==============================] - 3s 2ms/step - loss: 0.0132 - accuracy: 0.9966 - val_loss: 0.0711 - val_accuracy: 0.9826\n",
            "Epoch 10/50\n",
            "1719/1719 [==============================] - 3s 2ms/step - loss: 0.0110 - accuracy: 0.9969 - val_loss: 0.0783 - val_accuracy: 0.9820\n",
            "Epoch 11/50\n",
            "1719/1719 [==============================] - 3s 2ms/step - loss: 0.0080 - accuracy: 0.9982 - val_loss: 0.0796 - val_accuracy: 0.9814\n",
            "Epoch 12/50\n",
            "1719/1719 [==============================] - 4s 2ms/step - loss: 0.0068 - accuracy: 0.9982 - val_loss: 0.0790 - val_accuracy: 0.9810\n",
            "Epoch 13/50\n",
            "1719/1719 [==============================] - 4s 2ms/step - loss: 0.0049 - accuracy: 0.9990 - val_loss: 0.0833 - val_accuracy: 0.9818\n",
            "Epoch 14/50\n",
            "1719/1719 [==============================] - 4s 2ms/step - loss: 0.0044 - accuracy: 0.9989 - val_loss: 0.0858 - val_accuracy: 0.9822\n",
            "Epoch 15/50\n",
            "1719/1719 [==============================] - 3s 2ms/step - loss: 0.0032 - accuracy: 0.9993 - val_loss: 0.0828 - val_accuracy: 0.9836\n",
            "Epoch 16/50\n",
            "1719/1719 [==============================] - 3s 2ms/step - loss: 0.0024 - accuracy: 0.9996 - val_loss: 0.0846 - val_accuracy: 0.9842\n",
            "Epoch 17/50\n",
            "1719/1719 [==============================] - 3s 2ms/step - loss: 0.0020 - accuracy: 0.9996 - val_loss: 0.0835 - val_accuracy: 0.9820\n",
            "Epoch 18/50\n",
            "1719/1719 [==============================] - 3s 2ms/step - loss: 0.0021 - accuracy: 0.9996 - val_loss: 0.0922 - val_accuracy: 0.9820\n",
            "Epoch 19/50\n",
            "1719/1719 [==============================] - 3s 2ms/step - loss: 0.0014 - accuracy: 0.9998 - val_loss: 0.0873 - val_accuracy: 0.9838\n",
            "Epoch 20/50\n",
            "1719/1719 [==============================] - 3s 2ms/step - loss: 9.4854e-04 - accuracy: 0.9999 - val_loss: 0.0974 - val_accuracy: 0.9804\n",
            "Epoch 21/50\n",
            "1719/1719 [==============================] - 3s 2ms/step - loss: 0.0011 - accuracy: 0.9998 - val_loss: 0.0919 - val_accuracy: 0.9840\n",
            "Epoch 22/50\n",
            "1719/1719 [==============================] - 3s 2ms/step - loss: 6.3408e-04 - accuracy: 1.0000 - val_loss: 0.1054 - val_accuracy: 0.9826\n",
            "Epoch 23/50\n",
            "1719/1719 [==============================] - 3s 2ms/step - loss: 7.3765e-04 - accuracy: 0.9999 - val_loss: 0.1001 - val_accuracy: 0.9820\n",
            "Epoch 24/50\n",
            "1719/1719 [==============================] - 3s 2ms/step - loss: 5.4980e-04 - accuracy: 1.0000 - val_loss: 0.1005 - val_accuracy: 0.9824\n",
            "Epoch 25/50\n",
            "1719/1719 [==============================] - 3s 2ms/step - loss: 4.7610e-04 - accuracy: 1.0000 - val_loss: 0.1036 - val_accuracy: 0.9832\n",
            "Epoch 26/50\n",
            "1719/1719 [==============================] - 3s 2ms/step - loss: 3.5807e-04 - accuracy: 0.9999 - val_loss: 0.1093 - val_accuracy: 0.9820\n",
            "Epoch 27/50\n",
            "1719/1719 [==============================] - 3s 2ms/step - loss: 5.8514e-04 - accuracy: 0.9998 - val_loss: 0.1165 - val_accuracy: 0.9818\n",
            "Epoch 28/50\n",
            "1719/1719 [==============================] - 3s 2ms/step - loss: 1.6340e-04 - accuracy: 1.0000 - val_loss: 0.1106 - val_accuracy: 0.9830\n",
            "Epoch 29/50\n",
            "1719/1719 [==============================] - 3s 2ms/step - loss: 3.2289e-04 - accuracy: 1.0000 - val_loss: 0.1105 - val_accuracy: 0.9824\n",
            "Epoch 30/50\n",
            "1719/1719 [==============================] - 3s 2ms/step - loss: 9.5095e-05 - accuracy: 1.0000 - val_loss: 0.1104 - val_accuracy: 0.9824\n",
            "Epoch 31/50\n",
            "1719/1719 [==============================] - 3s 2ms/step - loss: 4.1797e-04 - accuracy: 0.9999 - val_loss: 0.1166 - val_accuracy: 0.9816\n",
            "Epoch 32/50\n",
            "1719/1719 [==============================] - 3s 2ms/step - loss: 9.2775e-05 - accuracy: 1.0000 - val_loss: 0.1187 - val_accuracy: 0.9840\n",
            "Epoch 33/50\n",
            "1719/1719 [==============================] - 3s 2ms/step - loss: 1.6537e-04 - accuracy: 1.0000 - val_loss: 0.1333 - val_accuracy: 0.9820\n",
            "Epoch 34/50\n",
            "1719/1719 [==============================] - 3s 2ms/step - loss: 3.0557e-04 - accuracy: 0.9999 - val_loss: 0.1176 - val_accuracy: 0.9830\n",
            "Epoch 35/50\n",
            "1719/1719 [==============================] - 3s 2ms/step - loss: 8.0884e-05 - accuracy: 1.0000 - val_loss: 0.1298 - val_accuracy: 0.9810\n",
            "Epoch 36/50\n",
            "1719/1719 [==============================] - 3s 2ms/step - loss: 1.7122e-04 - accuracy: 1.0000 - val_loss: 0.1239 - val_accuracy: 0.9830\n",
            "Epoch 37/50\n",
            "1719/1719 [==============================] - 3s 2ms/step - loss: 5.0627e-05 - accuracy: 1.0000 - val_loss: 0.1252 - val_accuracy: 0.9830\n",
            "Epoch 38/50\n",
            "1719/1719 [==============================] - 4s 2ms/step - loss: 7.2552e-05 - accuracy: 1.0000 - val_loss: 0.1305 - val_accuracy: 0.9840\n",
            "Epoch 39/50\n",
            "1719/1719 [==============================] - 4s 2ms/step - loss: 1.6079e-04 - accuracy: 0.9999 - val_loss: 0.1369 - val_accuracy: 0.9828\n",
            "Epoch 40/50\n",
            "1719/1719 [==============================] - 4s 2ms/step - loss: 1.2408e-04 - accuracy: 1.0000 - val_loss: 0.1325 - val_accuracy: 0.9820\n",
            "Epoch 41/50\n",
            "1719/1719 [==============================] - 4s 2ms/step - loss: 6.6026e-05 - accuracy: 1.0000 - val_loss: 0.1454 - val_accuracy: 0.9826\n",
            "Epoch 42/50\n",
            "1719/1719 [==============================] - 4s 2ms/step - loss: 8.9934e-05 - accuracy: 1.0000 - val_loss: 0.1336 - val_accuracy: 0.9828\n",
            "Epoch 43/50\n",
            "1719/1719 [==============================] - 4s 2ms/step - loss: 1.5428e-05 - accuracy: 1.0000 - val_loss: 0.1377 - val_accuracy: 0.9824\n",
            "Epoch 44/50\n",
            "1719/1719 [==============================] - 4s 2ms/step - loss: 6.2554e-05 - accuracy: 1.0000 - val_loss: 0.1399 - val_accuracy: 0.9820\n",
            "Epoch 45/50\n",
            "1719/1719 [==============================] - 4s 2ms/step - loss: 2.4424e-05 - accuracy: 1.0000 - val_loss: 0.1355 - val_accuracy: 0.9832\n",
            "Epoch 46/50\n",
            "1719/1719 [==============================] - 4s 2ms/step - loss: 4.9483e-05 - accuracy: 1.0000 - val_loss: 0.1406 - val_accuracy: 0.9824\n",
            "Epoch 47/50\n",
            "1719/1719 [==============================] - 4s 2ms/step - loss: 1.0282e-05 - accuracy: 1.0000 - val_loss: 0.1399 - val_accuracy: 0.9816\n",
            "Epoch 48/50\n",
            "1719/1719 [==============================] - 4s 2ms/step - loss: 3.4651e-05 - accuracy: 1.0000 - val_loss: 0.1460 - val_accuracy: 0.9828\n",
            "Epoch 49/50\n",
            "1719/1719 [==============================] - 4s 2ms/step - loss: 7.4558e-05 - accuracy: 1.0000 - val_loss: 0.1496 - val_accuracy: 0.9830\n",
            "Epoch 50/50\n",
            "1719/1719 [==============================] - 4s 2ms/step - loss: 6.4630e-05 - accuracy: 1.0000 - val_loss: 0.1545 - val_accuracy: 0.9826\n"
          ],
          "name": "stdout"
        }
      ]
    },
    {
      "cell_type": "code",
      "metadata": {
        "id": "T16NRh-xlhHS",
        "colab_type": "code",
        "colab": {}
      },
      "source": [
        "#Best Accuracy Achieved\n",
        "model = tf.keras.models.Sequential([tf.keras.layers.Flatten(input_shape=[28,28]), \n",
        "                                    tf.keras.layers.Dense(128, activation=tf.nn.relu), \n",
        "                                    tf.keras.layers.Dense(10, activation=tf.nn.softmax)])"
      ],
      "execution_count": null,
      "outputs": []
    },
    {
      "cell_type": "code",
      "metadata": {
        "id": "IabImUjhlkt3",
        "colab_type": "code",
        "colab": {}
      },
      "source": [
        "model.compile(optimizer = tf.optimizers.Adam(),\n",
        "              loss = 'sparse_categorical_crossentropy',\n",
        "              metrics=['accuracy'])\n",
        "\n",
        "H=model.fit(train_images, train_labels, epochs=50,validation_data=(valid_images, valid_labels))"
      ],
      "execution_count": null,
      "outputs": []
    },
    {
      "cell_type": "code",
      "metadata": {
        "id": "jxsnKeDll2OJ",
        "colab_type": "code",
        "colab": {
          "base_uri": "https://localhost:8080/",
          "height": 260
        },
        "outputId": "8dd0f673-b83b-4c91-cade-54add573d36d"
      },
      "source": [
        "model.summary()"
      ],
      "execution_count": null,
      "outputs": [
        {
          "output_type": "stream",
          "text": [
            "Model: \"sequential\"\n",
            "_________________________________________________________________\n",
            "Layer (type)                 Output Shape              Param #   \n",
            "=================================================================\n",
            "flatten (Flatten)            (None, 784)               0         \n",
            "_________________________________________________________________\n",
            "dense (Dense)                (None, 128)               100480    \n",
            "_________________________________________________________________\n",
            "dense_1 (Dense)              (None, 10)                1290      \n",
            "=================================================================\n",
            "Total params: 101,770\n",
            "Trainable params: 101,770\n",
            "Non-trainable params: 0\n",
            "_________________________________________________________________\n"
          ],
          "name": "stdout"
        }
      ]
    },
    {
      "cell_type": "code",
      "metadata": {
        "id": "8c1OtkEyl5VW",
        "colab_type": "code",
        "colab": {
          "base_uri": "https://localhost:8080/",
          "height": 602
        },
        "outputId": "9e5c751d-053d-4ec0-d6cd-571b99ff8000"
      },
      "source": [
        "#Cost/Loss\n",
        "import pandas as pd\n",
        "import matplotlib.pyplot as plt\n",
        "pd.DataFrame(H.history).plot(figsize=(8, 5))\n",
        "plt.grid(True)\n",
        "plt.gca().set_ylim(0, 1)\n",
        "plt.show()\n",
        "\n",
        "plt.plot(H.history['loss'])\n",
        "plt.ylabel('cost')\n",
        "plt.xlabel('Epochs')\n",
        "plt.title(\"Cost/Loss Curve\")\n",
        "plt.show()"
      ],
      "execution_count": null,
      "outputs": [
        {
          "output_type": "display_data",
          "data": {
            "image/png": "[encoded data removed]",
            "text/plain": [
              "<Figure size 576x360 with 1 Axes>"
            ]
          },
          "metadata": {
            "tags": [],
            "needs_background": "light"
          }
        },
        {
          "output_type": "display_data",
          "data": {
            "image/png": "[encoded data removed]",
            "text/plain": [
              "<Figure size 432x288 with 1 Axes>"
            ]
          },
          "metadata": {
            "tags": [],
            "needs_background": "light"
          }
        }
      ]
    },
    {
      "cell_type": "code",
      "metadata": {
        "id": "0O9GnHRbl8tK",
        "colab_type": "code",
        "colab": {}
      },
      "source": [
        "model.evaluate(test_images, test_labels)"
      ],
      "execution_count": null,
      "outputs": []
    },
    {
      "cell_type": "code",
      "metadata": {
        "id": "0QrPjRDRmEwu",
        "colab_type": "code",
        "colab": {}
      },
      "source": [
        "model1.evaluate(test_images, test_labels)"
      ],
      "execution_count": null,
      "outputs": []
    }
  ]
}