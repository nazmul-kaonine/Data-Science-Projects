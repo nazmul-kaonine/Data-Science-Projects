{
  "nbformat": 4,
  "nbformat_minor": 0,
  "metadata": {
    "colab": {
      "name": "ANN.ipynb",
      "provenance": [],
      "machine_shape": "hm",
      "include_colab_link": true
    },
    "kernelspec": {
      "name": "python3",
      "display_name": "Python 3"
    }
  },
  "cells": [
    {
      "cell_type": "markdown",
      "metadata": {
        "id": "view-in-github",
        "colab_type": "text"
      },
      "source": [
        "<a href=\"https://colab.research.google.com/github/nazmul-kaonine/Data-Science-Projects/blob/master/Handwritten%20Digit%20Classification%20using%20Multiple%20Descriptors%20%26%20ANN/main.ipynb\" target=\"_parent\"><img src=\"https://colab.research.google.com/assets/colab-badge.svg\" alt=\"Open In Colab\"/></a>"
      ]
    },
    {
      "cell_type": "code",
      "metadata": {
        "id": "SGsqwhylaNZt",
        "colab_type": "code",
        "colab": {
          "base_uri": "https://localhost:8080/",
          "height": 90
        },
        "outputId": "0ab79b1a-c749-4a4d-d598-8ef3881116e3"
      },
      "source": [
        "import numpy as np\n",
        "import matplotlib.pyplot as plt\n",
        "from skimage import feature # This pacakge is used for LBP feature extraction\n",
        "from sklearn import svm # This pacakge is used for svm classification\n",
        "%matplotlib inline\n",
        "import cv2\n",
        "import os\n",
        "import seaborn as sns # This pacakge is used for better visualization of data (e.g confusion matrix)\n",
        "import random\n",
        "\n",
        "# importing a module for splitting a dataset into train, and test\n",
        "from sklearn.model_selection import train_test_split\n",
        "# import Knn classifier\n",
        "from sklearn.neighbors import KNeighborsClassifier\n",
        "# confusion metric\n",
        "from sklearn import metrics\n",
        "import math, numpy as np\n",
        "import sklearn.datasets\n",
        "import matplotlib.pyplot as plt\n",
        "\n",
        "import os\n",
        "import h5py\n",
        "import glob\n",
        "import cv2\n",
        "from keras.preprocessing import image"
      ],
      "execution_count": null,
      "outputs": [
        {
          "output_type": "stream",
          "text": [
            "/usr/local/lib/python3.6/dist-packages/statsmodels/tools/_testing.py:19: FutureWarning: pandas.util.testing is deprecated. Use the functions in the public API at pandas.testing instead.\n",
            "  import pandas.util.testing as tm\n",
            "Using TensorFlow backend.\n"
          ],
          "name": "stderr"
        }
      ]
    },
    {
      "cell_type": "code",
      "metadata": {
        "id": "2LaJ1y4Gp1pA",
        "colab_type": "code",
        "colab": {
          "base_uri": "https://localhost:8080/",
          "height": 34
        },
        "outputId": "394316c0-fa0e-4247-b11f-5a1a8cd46493"
      },
      "source": [
        "    os.system('wget -N http://yann.lecun.com/exdb/mnist/train-images-idx3-ubyte.gz')\n",
        "    os.system('wget -N http://yann.lecun.com/exdb/mnist/train-labels-idx1-ubyte.gz')\n",
        "    os.system('wget -N http://yann.lecun.com/exdb/mnist/t10k-images-idx3-ubyte.gz')\n",
        "    os.system('wget -N http://yann.lecun.com/exdb/mnist/t10k-labels-idx1-ubyte.gz')"
      ],
      "execution_count": null,
      "outputs": [
        {
          "output_type": "execute_result",
          "data": {
            "text/plain": [
              "0"
            ]
          },
          "metadata": {
            "tags": []
          },
          "execution_count": 2
        }
      ]
    },
    {
      "cell_type": "code",
      "metadata": {
        "id": "-GvcFJe1aiRu",
        "colab_type": "code",
        "colab": {}
      },
      "source": [
        "def load_mnist(path, kind='train'):\n",
        "    import os\n",
        "    import gzip\n",
        "    import numpy as np\n",
        "\n",
        "    \"\"\"Load MNIST data from `path`\"\"\"\n",
        "    labels_path = os.path.join(path,\n",
        "                               '%s-labels-idx1-ubyte.gz'\n",
        "                               % kind)\n",
        "    images_path = os.path.join(path,\n",
        "                               '%s-images-idx3-ubyte.gz'\n",
        "                               % kind)\n",
        "\n",
        "    with gzip.open(labels_path, 'rb') as lbpath:\n",
        "        labels = np.frombuffer(lbpath.read(), dtype=np.uint8,\n",
        "                               offset=8)\n",
        "\n",
        "    with gzip.open(images_path, 'rb') as imgpath:\n",
        "        images = np.frombuffer(imgpath.read(), dtype=np.uint8,\n",
        "                               offset=16).reshape(len(labels), 784)\n",
        "                                \n",
        "                              \n",
        "\n",
        "\n",
        "                        \n",
        "        \n",
        "\n",
        "\n",
        "    return images, labels"
      ],
      "execution_count": null,
      "outputs": []
    },
    {
      "cell_type": "code",
      "metadata": {
        "id": "92y6kmkpkRDp",
        "colab_type": "code",
        "colab": {
          "base_uri": "https://localhost:8080/",
          "height": 125
        },
        "outputId": "ddcd4f31-2ab8-4f19-fae4-211b64e5188f"
      },
      "source": [
        "from google.colab import drive\n",
        "drive.mount('/content/gdrive')"
      ],
      "execution_count": null,
      "outputs": [
        {
          "output_type": "stream",
          "text": [
            "Go to this URL in a browser: https://accounts.google.com/o/oauth2/auth?client_id=947318989803-6bn6qk8qdgf4n4g3pfee6491hc0brc4i.apps.googleusercontent.com&redirect_uri=urn%3aietf%3awg%3aoauth%3a2.0%3aoob&response_type=code&scope=email%20https%3a%2f%2fwww.googleapis.com%2fauth%2fdocs.test%20https%3a%2f%2fwww.googleapis.com%2fauth%2fdrive%20https%3a%2f%2fwww.googleapis.com%2fauth%2fdrive.photos.readonly%20https%3a%2f%2fwww.googleapis.com%2fauth%2fpeopleapi.readonly\n",
            "\n",
            "Enter your authorization code:\n",
            "··········\n",
            "Mounted at /content/gdrive\n"
          ],
          "name": "stdout"
        }
      ]
    },
    {
      "cell_type": "code",
      "metadata": {
        "id": "4ZYln6SWxP5O",
        "colab_type": "code",
        "colab": {}
      },
      "source": [
        "X_train, y_train = load_mnist('/content/gdrive/My Drive/DLA2/', kind='train')\n",
        "X_test, y_test = load_mnist('/content/gdrive/My Drive/DLA2/', kind='t10k')"
      ],
      "execution_count": null,
      "outputs": []
    },
    {
      "cell_type": "code",
      "metadata": {
        "id": "0Tiva_NdsrYi",
        "colab_type": "code",
        "colab": {
          "base_uri": "https://localhost:8080/",
          "height": 34
        },
        "outputId": "994f271d-980a-475b-ae57-df65642aaed7"
      },
      "source": [
        "X_train.shape"
      ],
      "execution_count": null,
      "outputs": [
        {
          "output_type": "execute_result",
          "data": {
            "text/plain": [
              "(60000, 784)"
            ]
          },
          "metadata": {
            "tags": []
          },
          "execution_count": 6
        }
      ]
    },
    {
      "cell_type": "code",
      "metadata": {
        "id": "oiObXk8Hp4Uj",
        "colab_type": "code",
        "colab": {}
      },
      "source": [
        "def display_image(position):\n",
        "    image = X_train[position].squeeze()\n",
        "    plt.title('Example %d. Label: %d' % (position, y_train[position]))\n",
        "    plt.imshow(image, cmap=plt.cm.gray_r)"
      ],
      "execution_count": null,
      "outputs": []
    },
    {
      "cell_type": "code",
      "metadata": {
        "id": "94jwYzICttin",
        "colab_type": "code",
        "colab": {
          "base_uri": "https://localhost:8080/",
          "height": 544
        },
        "outputId": "464e6ed8-ea82-4c1c-db61-b9f4eb7892ca"
      },
      "source": [
        "display_image(0)\n",
        "plt.show()\n",
        "display_image(59999)"
      ],
      "execution_count": null,
      "outputs": [
        {
          "output_type": "display_data",
          "data": {
            "image/png": "[encoded data removed]",
            "text/plain": [
              "<Figure size 432x288 with 1 Axes>"
            ]
          },
          "metadata": {
            "tags": [],
            "needs_background": "light"
          }
        },
        {
          "output_type": "display_data",
          "data": {
            "image/png": "[encoded data removed]",
            "text/plain": [
              "<Figure size 432x288 with 1 Axes>"
            ]
          },
          "metadata": {
            "tags": [],
            "needs_background": "light"
          }
        }
      ]
    },
    {
      "cell_type": "code",
      "metadata": {
        "id": "HzdvR-zt80Ug",
        "colab_type": "code",
        "colab": {}
      },
      "source": [
        "X_train=X_train.reshape(-1,784)\n",
        "X_test=X_test.reshape(-1,784)\n",
        "\n",
        "X_test.shape\n"
      ],
      "execution_count": null,
      "outputs": []
    },
    {
      "cell_type": "markdown",
      "metadata": {
        "id": "6IOZ4yM1QkDL",
        "colab_type": "text"
      },
      "source": [
        "#RAW INPUTS"
      ]
    },
    {
      "cell_type": "markdown",
      "metadata": {
        "id": "j2gZ_Cz4QmMR",
        "colab_type": "text"
      },
      "source": [
        "####K NEAREST NEIGHBOR"
      ]
    },
    {
      "cell_type": "code",
      "metadata": {
        "id": "VrDOvD9UT6kc",
        "colab_type": "code",
        "colab": {}
      },
      "source": [
        ""
      ],
      "execution_count": null,
      "outputs": []
    },
    {
      "cell_type": "code",
      "metadata": {
        "id": "9GFkA-AzyvgI",
        "colab_type": "code",
        "colab": {
          "base_uri": "https://localhost:8080/",
          "height": 317
        },
        "outputId": "97d5a597-60c5-45bf-ab02-1cf61eb54265"
      },
      "source": [
        "train_path=train_path.reshape(-1,28,28)\n",
        "X_test=X_test.reshape(-1,28,28)\n",
        "\n",
        "# print the size of the result reshaped train and test data splits\n",
        "\n",
        "print(\"Train dataset after reshaping:{}\".format(np.shape(X_train)))\n",
        "print(\"Test dataset after reshaping :{}\".format(np.shape(X_test)))\n",
        "## Show an image from theh dataset\n",
        "import matplotlib.pyplot as plt\n",
        "plt.imshow(train_path[4])\n",
        "print(train_labels[4])"
      ],
      "execution_count": null,
      "outputs": [
        {
          "output_type": "stream",
          "text": [
            "Train dataset after reshaping:(55000, 28, 28)\n",
            "Test dataset after reshaping :(10000, 28, 28)\n",
            "9\n"
          ],
          "name": "stdout"
        },
        {
          "output_type": "display_data",
          "data": {
            "image/png": "[encoded data removed]",
            "text/plain": [
              "<Figure size 432x288 with 1 Axes>"
            ]
          },
          "metadata": {
            "tags": [],
            "needs_background": "light"
          }
        }
      ]
    },
    {
      "cell_type": "code",
      "metadata": {
        "id": "0-6GFQoorTwJ",
        "colab_type": "code",
        "colab": {
          "base_uri": "https://localhost:8080/",
          "height": 264
        },
        "outputId": "a2c6268a-d646-416a-9c8d-dd10af8d2658"
      },
      "source": [
        "sns.countplot(train_data)\n",
        "plt.show()# looks kinda okay\n",
        "# or we can just print\n"
      ],
      "execution_count": null,
      "outputs": [
        {
          "output_type": "display_data",
          "data": {
            "image/png": "[encoded data removed]",
            "text/plain": [
              "<Figure size 432x288 with 1 Axes>"
            ]
          },
          "metadata": {
            "tags": [],
            "needs_background": "light"
          }
        }
      ]
    },
    {
      "cell_type": "code",
      "metadata": {
        "id": "pMQ598Lwrap_",
        "colab_type": "code",
        "colab": {
          "base_uri": "https://localhost:8080/",
          "height": 212
        },
        "outputId": "58d6242c-6d48-4cb5-8e3a-6280794d1f4b"
      },
      "source": [
        "print(\"train data\")\n",
        "y_value=np.zeros((1,10))\n",
        "for i in range (10):\n",
        "    print(\"occurance of \",i,\"=\",np.count_nonzero(train_labels==i))\n",
        "    y_value[0,i-1]= np.count_nonzero(train_labels==i)"
      ],
      "execution_count": null,
      "outputs": [
        {
          "output_type": "stream",
          "text": [
            "train data\n",
            "occurance of  0 = 5923\n",
            "occurance of  1 = 6742\n",
            "occurance of  2 = 5958\n",
            "occurance of  3 = 6131\n",
            "occurance of  4 = 5842\n",
            "occurance of  5 = 5421\n",
            "occurance of  6 = 5918\n",
            "occurance of  7 = 6265\n",
            "occurance of  8 = 5851\n",
            "occurance of  9 = 5949\n"
          ],
          "name": "stdout"
        }
      ]
    },
    {
      "cell_type": "code",
      "metadata": {
        "id": "WscVbkhFrmTI",
        "colab_type": "code",
        "colab": {
          "base_uri": "https://localhost:8080/",
          "height": 298
        },
        "outputId": "7b7ce3c7-6628-429c-8af0-49ba49465fc4"
      },
      "source": [
        "y_value=y_value.ravel()\n",
        "x_value=[0,1,2,3,4,5,6,7,8,9]\n",
        "plt.xlabel('label')\n",
        "plt.ylabel('count')\n",
        "plt.bar(x_value,y_value,0.7,color='g')"
      ],
      "execution_count": null,
      "outputs": [
        {
          "output_type": "execute_result",
          "data": {
            "text/plain": [
              "<BarContainer object of 10 artists>"
            ]
          },
          "metadata": {
            "tags": []
          },
          "execution_count": 25
        },
        {
          "output_type": "display_data",
          "data": {
            "image/png": "[encoded data removed]",
            "text/plain": [
              "<Figure size 432x288 with 1 Axes>"
            ]
          },
          "metadata": {
            "tags": [],
            "needs_background": "light"
          }
        }
      ]
    },
    {
      "cell_type": "code",
      "metadata": {
        "id": "LmPdt9VXtJyT",
        "colab_type": "code",
        "colab": {}
      },
      "source": [
        "train_data = (X_train)\n",
        "test_data= (X_test)\n",
        "#separating labels and pixels\n",
        "train_labels=(y_train)\n",
        "\n",
        "#train_data=train_data/train_data.max()"
      ],
      "execution_count": null,
      "outputs": []
    },
    {
      "cell_type": "code",
      "metadata": {
        "id": "-Un54QH81H0f",
        "colab_type": "code",
        "colab": {
          "base_uri": "https://localhost:8080/",
          "height": 34
        },
        "outputId": "12a1b5f6-c7cc-4f3a-f270-0bea7e800b52"
      },
      "source": [
        "train_labels.shape"
      ],
      "execution_count": null,
      "outputs": [
        {
          "output_type": "execute_result",
          "data": {
            "text/plain": [
              "(60000,)"
            ]
          },
          "metadata": {
            "tags": []
          },
          "execution_count": 102
        }
      ]
    },
    {
      "cell_type": "code",
      "metadata": {
        "id": "j1Z2ea0L6PVk",
        "colab_type": "code",
        "colab": {
          "base_uri": "https://localhost:8080/",
          "height": 34
        },
        "outputId": "f53b53f0-bdfc-48b2-ffcb-a081e1daec40"
      },
      "source": [
        "train_labels[1]"
      ],
      "execution_count": null,
      "outputs": [
        {
          "output_type": "execute_result",
          "data": {
            "text/plain": [
              "0"
            ]
          },
          "metadata": {
            "tags": []
          },
          "execution_count": 79
        }
      ]
    },
    {
      "cell_type": "code",
      "metadata": {
        "id": "uc3QkUxMzpZI",
        "colab_type": "code",
        "colab": {
          "base_uri": "https://localhost:8080/",
          "height": 52
        },
        "outputId": "36b7c330-bc38-4043-8055-4c09d61d8ff7"
      },
      "source": [
        "#converting train_label in one hot encoder representation \n",
        "train_data=np.reshape(train_data,[784,60000])\n",
        "train_label=np.zeros((10,60000))\n",
        "for col in range (60000):\n",
        "    val=train_labels[col]\n",
        "    for row in range (10):\n",
        "        if (val==row):\n",
        "            train_label[val,col]=1\n",
        "print(\"train_data shape=\"+str(np.shape(train_data)))\n",
        "print(\"train_label shape=\"+str(np.shape(train_label)))"
      ],
      "execution_count": null,
      "outputs": [
        {
          "output_type": "stream",
          "text": [
            "train_data shape=(784, 60000)\n",
            "train_label shape=(10, 60000)\n"
          ],
          "name": "stdout"
        }
      ]
    },
    {
      "cell_type": "code",
      "metadata": {
        "id": "o4mXRgFIuEW3",
        "colab_type": "code",
        "colab": {
          "base_uri": "https://localhost:8080/",
          "height": 34
        },
        "outputId": "3ea9dde0-d6c6-4ada-8fe0-75d006861fe6"
      },
      "source": [
        "train_data.shape"
      ],
      "execution_count": null,
      "outputs": [
        {
          "output_type": "execute_result",
          "data": {
            "text/plain": [
              "(784, 60000)"
            ]
          },
          "metadata": {
            "tags": []
          },
          "execution_count": 69
        }
      ]
    },
    {
      "cell_type": "code",
      "metadata": {
        "id": "wYtZ_3Qb7y9j",
        "colab_type": "code",
        "colab": {}
      },
      "source": [
        "#activation functions sigmoid relu and softmax\n",
        "def sigmoid(Z):\n",
        "    A = 1/(1+np.exp(-Z))\n",
        "    cache = Z\n",
        "    return A, cache\n",
        "\n",
        "def relu(Z):\n",
        "    A = np.maximum(0,Z)    \n",
        "    cache = Z \n",
        "    return A, cache\n",
        "\n",
        "def softmax(Z):\n",
        "    e_x = np.exp(Z)\n",
        "    A= e_x / np.sum(np.exp(Z))  \n",
        "    cache=Z\n",
        "    return A,cache   "
      ],
      "execution_count": null,
      "outputs": []
    },
    {
      "cell_type": "code",
      "metadata": {
        "id": "zWmJ3aOm74x5",
        "colab_type": "code",
        "colab": {}
      },
      "source": [
        "#derivative of activation function\n",
        "def relu_backward(dA, cache):\n",
        "    Z = cache\n",
        "    dZ = np.array(dA, copy=True)\n",
        "    dZ[Z <= 0] = 0\n",
        "    assert (dZ.shape == Z.shape)\n",
        "    return dZ\n",
        "\n",
        "def sigmoid_backward(dA, cache):    \n",
        "    Z = cache\n",
        "    s = 1/(1+np.exp(-Z))\n",
        "    dZ = dA * s * (1-s)\n",
        "    assert (dZ.shape == Z.shape)\n",
        "    return dZ\n",
        "\n",
        "def softmax_backward(Z,cache):\n",
        "    Z=cache\n",
        "    length=10  \n",
        "    dZ=np.zeros((60000,10))\n",
        "    Z=np.transpose(Z)\n",
        "    for row in range (0,60000):\n",
        "            den=(np.sum(np.exp(Z[row,:])))*(np.sum(np.exp(Z[row,:])))\n",
        "            for col in range (0,10):\n",
        "                sums=0\n",
        "                for j in range (0,10):\n",
        "                    if (j!=col):\n",
        "                        sums=sums+(math.exp(Z[row,j]))\n",
        "                \n",
        "                dZ[row,col]=(math.exp(Z[row,col])*sums)/den           \n",
        "    dZ=np.transpose(dZ)\n",
        "    Z=np.transpose(Z)\n",
        "\n",
        "    assert (dZ.shape == Z.shape)\n",
        "    return dZ"
      ],
      "execution_count": null,
      "outputs": []
    },
    {
      "cell_type": "code",
      "metadata": {
        "id": "uUWnhzq-79Jq",
        "colab_type": "code",
        "colab": {}
      },
      "source": [
        "#initializing the parameters weights and bias\n",
        "def initialize_parameters_deep(layer_dims):\n",
        "    #np.random.seed(1)\n",
        "    parameters = {}\n",
        "    L = len(layer_dims)            # number of layers in the network\n",
        "    \n",
        "    for l in range(1, L):\n",
        "        parameters['W' + str(l)] = np.random.randn(layer_dims[l], layer_dims[l-1]) / np.sqrt(layer_dims[l-1]) #*0.01\n",
        "        parameters['b' + str(l)] = np.zeros((layer_dims[l], 1))\n",
        "    \n",
        "    return parameters"
      ],
      "execution_count": null,
      "outputs": []
    },
    {
      "cell_type": "code",
      "metadata": {
        "id": "dtKqhsjN8AQr",
        "colab_type": "code",
        "colab": {}
      },
      "source": [
        "#forward propagation\n",
        "def linear_forward(A, W, b):\n",
        "    Z = np.dot(W,A) +b\n",
        "    cache = (A, W, b)\n",
        "    assert(Z.shape == (W.shape[0], A.shape[1]))\n",
        "    return Z, cache\n",
        "\n",
        "def linear_activation_forward(A_prev, W, b, activation):\n",
        "    if activation == \"sigmoid\":\n",
        "        # Inputs: \"A_prev, W, b\". Outputs: \"A, activation_cache\".\n",
        "        Z, linear_cache = linear_forward(A_prev, W, b)\n",
        "        A, activation_cache = sigmoid(Z)\n",
        "    elif activation == \"relu\":\n",
        "        # Inputs: \"A_prev, W, b\". Outputs: \"A, activation_cache\".\n",
        "        Z, linear_cache = linear_forward(A_prev, W, b)\n",
        "        #print(\"Z=\"+str(Z))\n",
        "        A, activation_cache = relu(Z) \n",
        "    elif activation == \"softmax\":\n",
        "        # Inputs: \"A_prev, W, b\". Outputs: \"A, activation_cache\".\n",
        "        Z, linear_cache = linear_forward(A_prev, W, b)\n",
        "        A, activation_cache = softmax(Z)\n",
        "    cache = (linear_cache, activation_cache)\n",
        "    return A, cache\n",
        "\n",
        "def L_model_forward(X, parameters):\n",
        "    caches = []\n",
        "    A = X\n",
        "    L = len(parameters) // 2                  # number of layers in the neural network\n",
        "    for l in range(1, L):\n",
        "        A_prev = A \n",
        "        A, cache = linear_activation_forward(A_prev, parameters['W' + str(l)], parameters['b' + str(l)], activation = \"relu\")\n",
        "        caches.append(cache)\n",
        "    AL, cache = linear_activation_forward(A, parameters['W' + str(L)], parameters['b' + str(L)], activation = \"softmax\")\n",
        "    caches.append(cache)               \n",
        "    return AL, caches"
      ],
      "execution_count": null,
      "outputs": []
    },
    {
      "cell_type": "code",
      "metadata": {
        "id": "zP9kwfgT8C3Y",
        "colab_type": "code",
        "colab": {}
      },
      "source": [
        "#cost function\n",
        "def compute_cost(AL, Y):\n",
        "    \n",
        "    m = Y.shape[1]\n",
        "    cost = (-1 / m) * np.sum(np.multiply(Y, np.log(AL)) + np.multiply(1 - Y, np.log(1 - AL)))\n",
        "    #print(\"cost=\"+str(cost))\n",
        "    return cost"
      ],
      "execution_count": null,
      "outputs": []
    },
    {
      "cell_type": "code",
      "metadata": {
        "id": "3yvkyc8i8GhS",
        "colab_type": "code",
        "colab": {}
      },
      "source": [
        ""
      ],
      "execution_count": null,
      "outputs": []
    },
    {
      "cell_type": "code",
      "metadata": {
        "id": "KiVlNeJN8KC7",
        "colab_type": "code",
        "colab": {}
      },
      "source": [
        "#upgrade function for weights and bias\n",
        "def update_parameters(parameters, grads, learning_rate):\n",
        "    for l in range(len_update-1):\n",
        "        parameters[\"W\" + str(l+1)] =parameters[\"W\" + str(l+1)] - (learning_rate*grads[\"dW\" + str(l+1)])\n",
        "        parameters[\"b\" + str(l+1)] = parameters[\"b\" + str(l+1)] - (learning_rate*grads[\"db\" + str(l+1)])\n",
        "    return parameters"
      ],
      "execution_count": null,
      "outputs": []
    },
    {
      "cell_type": "code",
      "metadata": {
        "id": "PvcwIU8T8Mx2",
        "colab_type": "code",
        "colab": {}
      },
      "source": [
        "def plot_graph(cost_plot):\n",
        "       \n",
        "    x_value=list(range(1,len(cost_plot)+1))\n",
        "    #print(x_value)\n",
        "    #print(cost_plot)\n",
        "    plt.xlabel('iteration')\n",
        "    plt.ylabel('cost')\n",
        "    plt.plot(x_value,cost_plot,0.,color='g')"
      ],
      "execution_count": null,
      "outputs": []
    },
    {
      "cell_type": "code",
      "metadata": {
        "id": "DbXG2GZE8QrF",
        "colab_type": "code",
        "colab": {}
      },
      "source": [
        "#defining structure of neural network\n",
        "layers_dims = [784,500,400,300,100,10] #  n-layer model (n=6 including input and output layer)\n",
        "len_update=len(layers_dims)"
      ],
      "execution_count": null,
      "outputs": []
    },
    {
      "cell_type": "code",
      "metadata": {
        "id": "cRCyq9HL8US6",
        "colab_type": "code",
        "colab": {}
      },
      "source": [
        "#function to call sub_functions\n",
        "def L_layer_model(X, Y, layers_dims, learning_rate , num_iterations , print_cost=False):#lr was 0.009\n",
        "    print(\"training...\")\n",
        "    costs = []  \n",
        "    cost_plot=np.zeros(num_iterations)\n",
        "    parameters = initialize_parameters_deep(layers_dims)\n",
        "    for i in range(0, num_iterations):\n",
        "        AL, caches = L_model_forward(X, parameters)\n",
        "        cost =compute_cost(AL, Y)\n",
        "        grads = L_model_backward(AL, Y, caches)\n",
        "        parameters = update_parameters(parameters, grads, learning_rate) \n",
        "        cost_plot[i]=cost;\n",
        "    \n",
        "    plot_graph(cost_plot)\n",
        "    return parameters"
      ],
      "execution_count": null,
      "outputs": []
    },
    {
      "cell_type": "code",
      "metadata": {
        "id": "RYgVee4b8Xly",
        "colab_type": "code",
        "colab": {
          "base_uri": "https://localhost:8080/",
          "height": 372
        },
        "outputId": "317d4f0c-b194-4c06-828c-4aa1ceb787d8"
      },
      "source": [
        "#variable parameter in network learning_rate, iterationd \n",
        "parameters = L_layer_model(train_data, train_label, layers_dims,learning_rate = 0.0005, num_iterations =1 , print_cost = True) \n",
        "print(\"training done\")"
      ],
      "execution_count": null,
      "outputs": [
        {
          "output_type": "stream",
          "text": [
            "training...\n"
          ],
          "name": "stdout"
        },
        {
          "output_type": "error",
          "ename": "ValueError",
          "evalue": "ignored",
          "traceback": [
            "\u001b[0;31m---------------------------------------------------------------------------\u001b[0m",
            "\u001b[0;31mValueError\u001b[0m                                Traceback (most recent call last)",
            "\u001b[0;32m<ipython-input-104-9915b494d5e7>\u001b[0m in \u001b[0;36m<module>\u001b[0;34m()\u001b[0m\n\u001b[0;32m----> 1\u001b[0;31m \u001b[0mparameters\u001b[0m \u001b[0;34m=\u001b[0m \u001b[0mL_layer_model\u001b[0m\u001b[0;34m(\u001b[0m\u001b[0mtrain_data\u001b[0m\u001b[0;34m,\u001b[0m \u001b[0mtrain_label\u001b[0m\u001b[0;34m,\u001b[0m \u001b[0mlayers_dims\u001b[0m\u001b[0;34m,\u001b[0m\u001b[0mlearning_rate\u001b[0m \u001b[0;34m=\u001b[0m \u001b[0;36m0.0005\u001b[0m\u001b[0;34m,\u001b[0m \u001b[0mnum_iterations\u001b[0m \u001b[0;34m=\u001b[0m\u001b[0;36m1\u001b[0m \u001b[0;34m,\u001b[0m \u001b[0mprint_cost\u001b[0m \u001b[0;34m=\u001b[0m \u001b[0;32mTrue\u001b[0m\u001b[0;34m)\u001b[0m\u001b[0;34m\u001b[0m\u001b[0;34m\u001b[0m\u001b[0m\n\u001b[0m\u001b[1;32m      2\u001b[0m \u001b[0mprint\u001b[0m\u001b[0;34m(\u001b[0m\u001b[0;34m\"training done\"\u001b[0m\u001b[0;34m)\u001b[0m\u001b[0;34m\u001b[0m\u001b[0;34m\u001b[0m\u001b[0m\n",
            "\u001b[0;32m<ipython-input-93-b938b7b7c311>\u001b[0m in \u001b[0;36mL_layer_model\u001b[0;34m(X, Y, layers_dims, learning_rate, num_iterations, print_cost)\u001b[0m\n\u001b[1;32m      5\u001b[0m     \u001b[0mparameters\u001b[0m \u001b[0;34m=\u001b[0m \u001b[0minitialize_parameters_deep\u001b[0m\u001b[0;34m(\u001b[0m\u001b[0mlayers_dims\u001b[0m\u001b[0;34m)\u001b[0m\u001b[0;34m\u001b[0m\u001b[0;34m\u001b[0m\u001b[0m\n\u001b[1;32m      6\u001b[0m     \u001b[0;32mfor\u001b[0m \u001b[0mi\u001b[0m \u001b[0;32min\u001b[0m \u001b[0mrange\u001b[0m\u001b[0;34m(\u001b[0m\u001b[0;36m0\u001b[0m\u001b[0;34m,\u001b[0m \u001b[0mnum_iterations\u001b[0m\u001b[0;34m)\u001b[0m\u001b[0;34m:\u001b[0m\u001b[0;34m\u001b[0m\u001b[0;34m\u001b[0m\u001b[0m\n\u001b[0;32m----> 7\u001b[0;31m         \u001b[0mAL\u001b[0m\u001b[0;34m,\u001b[0m \u001b[0mcaches\u001b[0m \u001b[0;34m=\u001b[0m \u001b[0mL_model_forward\u001b[0m\u001b[0;34m(\u001b[0m\u001b[0mX\u001b[0m\u001b[0;34m,\u001b[0m \u001b[0mparameters\u001b[0m\u001b[0;34m)\u001b[0m\u001b[0;34m\u001b[0m\u001b[0;34m\u001b[0m\u001b[0m\n\u001b[0m\u001b[1;32m      8\u001b[0m         \u001b[0mcost\u001b[0m \u001b[0;34m=\u001b[0m\u001b[0mcompute_cost\u001b[0m\u001b[0;34m(\u001b[0m\u001b[0mAL\u001b[0m\u001b[0;34m,\u001b[0m \u001b[0mY\u001b[0m\u001b[0;34m)\u001b[0m\u001b[0;34m\u001b[0m\u001b[0;34m\u001b[0m\u001b[0m\n\u001b[1;32m      9\u001b[0m         \u001b[0mgrads\u001b[0m \u001b[0;34m=\u001b[0m \u001b[0mL_model_backward\u001b[0m\u001b[0;34m(\u001b[0m\u001b[0mAL\u001b[0m\u001b[0;34m,\u001b[0m \u001b[0mY\u001b[0m\u001b[0;34m,\u001b[0m \u001b[0mcaches\u001b[0m\u001b[0;34m)\u001b[0m\u001b[0;34m\u001b[0m\u001b[0;34m\u001b[0m\u001b[0m\n",
            "\u001b[0;32m<ipython-input-87-f0faa572642b>\u001b[0m in \u001b[0;36mL_model_forward\u001b[0;34m(X, parameters)\u001b[0m\n\u001b[1;32m     30\u001b[0m         \u001b[0mA\u001b[0m\u001b[0;34m,\u001b[0m \u001b[0mcache\u001b[0m \u001b[0;34m=\u001b[0m \u001b[0mlinear_activation_forward\u001b[0m\u001b[0;34m(\u001b[0m\u001b[0mA_prev\u001b[0m\u001b[0;34m,\u001b[0m \u001b[0mparameters\u001b[0m\u001b[0;34m[\u001b[0m\u001b[0;34m'W'\u001b[0m \u001b[0;34m+\u001b[0m \u001b[0mstr\u001b[0m\u001b[0;34m(\u001b[0m\u001b[0ml\u001b[0m\u001b[0;34m)\u001b[0m\u001b[0;34m]\u001b[0m\u001b[0;34m,\u001b[0m \u001b[0mparameters\u001b[0m\u001b[0;34m[\u001b[0m\u001b[0;34m'b'\u001b[0m \u001b[0;34m+\u001b[0m \u001b[0mstr\u001b[0m\u001b[0;34m(\u001b[0m\u001b[0ml\u001b[0m\u001b[0;34m)\u001b[0m\u001b[0;34m]\u001b[0m\u001b[0;34m,\u001b[0m \u001b[0mactivation\u001b[0m \u001b[0;34m=\u001b[0m \u001b[0;34m\"relu\"\u001b[0m\u001b[0;34m)\u001b[0m\u001b[0;34m\u001b[0m\u001b[0;34m\u001b[0m\u001b[0m\n\u001b[1;32m     31\u001b[0m         \u001b[0mcaches\u001b[0m\u001b[0;34m.\u001b[0m\u001b[0mappend\u001b[0m\u001b[0;34m(\u001b[0m\u001b[0mcache\u001b[0m\u001b[0;34m)\u001b[0m\u001b[0;34m\u001b[0m\u001b[0;34m\u001b[0m\u001b[0m\n\u001b[0;32m---> 32\u001b[0;31m     \u001b[0mAL\u001b[0m\u001b[0;34m,\u001b[0m \u001b[0mcache\u001b[0m \u001b[0;34m=\u001b[0m \u001b[0mlinear_activation_forward\u001b[0m\u001b[0;34m(\u001b[0m\u001b[0mA\u001b[0m\u001b[0;34m,\u001b[0m \u001b[0mparameters\u001b[0m\u001b[0;34m[\u001b[0m\u001b[0;34m'W'\u001b[0m \u001b[0;34m+\u001b[0m \u001b[0mstr\u001b[0m\u001b[0;34m(\u001b[0m\u001b[0mL\u001b[0m\u001b[0;34m)\u001b[0m\u001b[0;34m]\u001b[0m\u001b[0;34m,\u001b[0m \u001b[0mparameters\u001b[0m\u001b[0;34m[\u001b[0m\u001b[0;34m'b'\u001b[0m \u001b[0;34m+\u001b[0m \u001b[0mstr\u001b[0m\u001b[0;34m(\u001b[0m\u001b[0mL\u001b[0m\u001b[0;34m)\u001b[0m\u001b[0;34m]\u001b[0m\u001b[0;34m,\u001b[0m \u001b[0mactivation\u001b[0m \u001b[0;34m=\u001b[0m \u001b[0;34m\"softmax\"\u001b[0m\u001b[0;34m)\u001b[0m\u001b[0;34m\u001b[0m\u001b[0;34m\u001b[0m\u001b[0m\n\u001b[0m\u001b[1;32m     33\u001b[0m     \u001b[0mcaches\u001b[0m\u001b[0;34m.\u001b[0m\u001b[0mappend\u001b[0m\u001b[0;34m(\u001b[0m\u001b[0mcache\u001b[0m\u001b[0;34m)\u001b[0m\u001b[0;34m\u001b[0m\u001b[0;34m\u001b[0m\u001b[0m\n\u001b[1;32m     34\u001b[0m     \u001b[0;32mreturn\u001b[0m \u001b[0mAL\u001b[0m\u001b[0;34m,\u001b[0m \u001b[0mcaches\u001b[0m\u001b[0;34m\u001b[0m\u001b[0;34m\u001b[0m\u001b[0m\n",
            "\u001b[0;32m<ipython-input-87-f0faa572642b>\u001b[0m in \u001b[0;36mlinear_activation_forward\u001b[0;34m(A_prev, W, b, activation)\u001b[0m\n\u001b[1;32m     18\u001b[0m         \u001b[0;31m# Inputs: \"A_prev, W, b\". Outputs: \"A, activation_cache\".\u001b[0m\u001b[0;34m\u001b[0m\u001b[0;34m\u001b[0m\u001b[0;34m\u001b[0m\u001b[0m\n\u001b[1;32m     19\u001b[0m         \u001b[0mZ\u001b[0m\u001b[0;34m,\u001b[0m \u001b[0mlinear_cache\u001b[0m \u001b[0;34m=\u001b[0m \u001b[0mlinear_forward\u001b[0m\u001b[0;34m(\u001b[0m\u001b[0mA_prev\u001b[0m\u001b[0;34m,\u001b[0m \u001b[0mW\u001b[0m\u001b[0;34m,\u001b[0m \u001b[0mb\u001b[0m\u001b[0;34m)\u001b[0m\u001b[0;34m\u001b[0m\u001b[0;34m\u001b[0m\u001b[0m\n\u001b[0;32m---> 20\u001b[0;31m         \u001b[0mA\u001b[0m\u001b[0;34m,\u001b[0m \u001b[0mactivation_cache\u001b[0m \u001b[0;34m=\u001b[0m \u001b[0msoftmax\u001b[0m\u001b[0;34m(\u001b[0m\u001b[0mZ\u001b[0m\u001b[0;34m)\u001b[0m\u001b[0;34m\u001b[0m\u001b[0;34m\u001b[0m\u001b[0m\n\u001b[0m\u001b[1;32m     21\u001b[0m     \u001b[0mcache\u001b[0m \u001b[0;34m=\u001b[0m \u001b[0;34m(\u001b[0m\u001b[0mlinear_cache\u001b[0m\u001b[0;34m,\u001b[0m \u001b[0mactivation_cache\u001b[0m\u001b[0;34m)\u001b[0m\u001b[0;34m\u001b[0m\u001b[0;34m\u001b[0m\u001b[0m\n\u001b[1;32m     22\u001b[0m     \u001b[0;32mreturn\u001b[0m \u001b[0mA\u001b[0m\u001b[0;34m,\u001b[0m \u001b[0mcache\u001b[0m\u001b[0;34m\u001b[0m\u001b[0;34m\u001b[0m\u001b[0m\n",
            "\u001b[0;31mValueError\u001b[0m: too many values to unpack (expected 2)"
          ]
        }
      ]
    },
    {
      "cell_type": "code",
      "metadata": {
        "id": "C1k2nYdhPrrN",
        "colab_type": "code",
        "colab": {}
      },
      "source": [
        "model = NN(num_inputs,hidden_size,num_outputs)\n",
        "cost_dict, tests_dict = model.train(x_train,y_train,num_iterations=num_iterations,learning_rate=learning_rate)"
      ],
      "execution_count": null,
      "outputs": []
    },
    {
      "cell_type": "code",
      "metadata": {
        "id": "S38OCT7M9FhE",
        "colab_type": "code",
        "colab": {}
      },
      "source": [
        "import numpy as np\n",
        "import h5py\n",
        "#data file type h5py\n",
        "import time\n",
        "import copy\n",
        "from random import randint\n",
        "\n",
        "\n"
      ],
      "execution_count": null,
      "outputs": []
    },
    {
      "cell_type": "code",
      "metadata": {
        "id": "SOLISPWG9G46",
        "colab_type": "code",
        "colab": {
          "base_uri": "https://localhost:8080/",
          "height": 34
        },
        "outputId": "a6c803b9-a402-434a-d3b0-3e4b3559df6e"
      },
      "source": [
        "y_test.shape"
      ],
      "execution_count": null,
      "outputs": [
        {
          "output_type": "execute_result",
          "data": {
            "text/plain": [
              "(10000,)"
            ]
          },
          "metadata": {
            "tags": []
          },
          "execution_count": 113
        }
      ]
    },
    {
      "cell_type": "code",
      "metadata": {
        "id": "oqwHPQiG9xlb",
        "colab_type": "code",
        "colab": {
          "base_uri": "https://localhost:8080/",
          "height": 52
        },
        "outputId": "492e95ad-4022-4c79-885f-0645574f515b"
      },
      "source": [
        "X_train=X_train.reshape(-1,28,28)\n",
        "X_test=X_test.reshape(-1,28,28)\n",
        "\n",
        "# print the size of the result reshaped train and test data splits\n",
        "\n",
        "print(\"Train dataset after reshaping:{}\".format(np.shape(X_train)))\n",
        "print(\"Test dataset after reshaping :{}\".format(np.shape(X_test)))"
      ],
      "execution_count": null,
      "outputs": [
        {
          "output_type": "stream",
          "text": [
            "Train dataset after reshaping:(60000, 28, 28)\n",
            "Test dataset after reshaping :(10000, 28, 28)\n"
          ],
          "name": "stdout"
        }
      ]
    },
    {
      "cell_type": "code",
      "metadata": {
        "id": "TqzpzPqnQ_GD",
        "colab_type": "code",
        "colab": {}
      },
      "source": [
        "\n",
        "\n",
        "####################################################################################\n",
        "#Implementation of stochastic gradient descent algorithm\n",
        "\n",
        "class NN:\n",
        "    first_layer = {}\n",
        "    second_layer = {}\n",
        "\n",
        "    def __init__(self, inputs, hidden, outputs):\n",
        "        # initialize the model parameters, including the first and second layer \n",
        "        # parameters and biases\n",
        "        self.first_layer['para'] = np.random.randn(hidden,inputs) / np.sqrt(num_inputs)\n",
        "        self.first_layer['bias'] = np.random.randn(hidden,1) / np.sqrt(hidden)\n",
        "        self.second_layer['para'] = np.random.randn(outputs,hidden) / np.sqrt(hidden)\n",
        "        self.second_layer['bias'] = np.random.randn(outputs,1) / np.sqrt(hidden)\n",
        "        self.input_size = inputs\n",
        "        self.hid_size = hidden\n",
        "        self.output_size = outputs\n",
        "\n",
        "    def __activfunc(self,Z,type = 'ReLU',deri = False):\n",
        "        # implement the activation function\n",
        "        if type == 'ReLU':\n",
        "            if deri == True:\n",
        "                return np.array([1 if i>0 else 0 for i in np.squeeze(Z)])\n",
        "            else:\n",
        "                return np.array([i if i>0 else 0 for i in np.squeeze(Z)])\n",
        "        elif type == 'Sigmoid':\n",
        "            if deri == True:\n",
        "                return 1/(1+np.exp(-Z))*(1-1/(1+np.exp(-Z)))\n",
        "            else:\n",
        "                return 1/(1+np.exp(-Z))\n",
        "        elif type == 'tanh':\n",
        "            if deri == True:\n",
        "                return \n",
        "            else:\n",
        "                return 1-(np.tanh(Z))**2\n",
        "        else:\n",
        "            raise TypeError('Invalid type!')\n",
        "\n",
        "    def __Softmax(self,z):\n",
        "        # implement the softmax function\n",
        "        return 1/sum(np.exp(z)) * np.exp(z)\n",
        "\n",
        "    def __cross_entropy_error(self,v,y):\n",
        "        # implement the cross entropy error\n",
        "        return -np.log(v[y])\n",
        "\n",
        "    def __forward(self,x,y):\n",
        "        # implement the forward computation, calculation of prediction list and error\n",
        "        Z = np.matmul(self.first_layer['para'],x).reshape((self.hid_size,1)) + self.first_layer['bias']\n",
        "        H = np.array(self.__activfunc(Z)).reshape((self.hid_size,1))\n",
        "        U = np.matmul(self.second_layer['para'],H).reshape((self.output_size,1)) + self.second_layer['bias']\n",
        "        predict_list = np.squeeze(self.__Softmax(U))\n",
        "        error = self.__cross_entropy_error(predict_list,y)\n",
        "        \n",
        "        dic = {\n",
        "            'Z':Z,\n",
        "            'H':H,\n",
        "            'U':U,\n",
        "            'f_X':predict_list.reshape((1,self.output_size)),\n",
        "            'error':error\n",
        "        }\n",
        "        return dic\n",
        "\n",
        "    def __back_propagation(self,x,y,f_result):\n",
        "        # implement the back propagation process, compute the gradients\n",
        "        E = np.array([0]*self.output_size).reshape((1,self.output_size))\n",
        "        E[0][y] = 1\n",
        "        dU = (-(E - f_result['f_X'])).reshape((self.output_size,1))\n",
        "        db_2 = copy.copy(dU)\n",
        "        dC = np.matmul(dU,f_result['H'].transpose())\n",
        "        delta = np.matmul(self.second_layer['para'].transpose(),dU)\n",
        "        db_1 = delta.reshape(self.hid_size,1)*self.__activfunc(f_result['Z'],deri=True).reshape(self.hid_size,1)\n",
        "        dW = np.matmul(db_1.reshape((self.hid_size,1)),x.reshape((1,784)))\n",
        "\n",
        "        grad = {\n",
        "            'dC':dC,\n",
        "            'db_2':db_2,\n",
        "            'db_1':db_1,\n",
        "            'dW':dW\n",
        "        }\n",
        "        return grad\n",
        "\n",
        "    def __optimize(self,b_result, learning_rate):\n",
        "        # update the hyperparameters\n",
        "        self.second_layer['para'] -= learning_rate*b_result['dC']\n",
        "        self.second_layer['bias'] -= learning_rate*b_result['db_2']\n",
        "        self.first_layer['bias'] -= learning_rate*b_result['db_1']\n",
        "        self.first_layer['para'] -= learning_rate*b_result['dW']\n",
        "\n",
        "    def __loss(self,X_train,Y_train):\n",
        "        # implement the loss function of the training set\n",
        "        loss = 0\n",
        "        for n in range(len(X_train)):\n",
        "            y = Y_train[n]\n",
        "            x = X_train[n][:]\n",
        "            loss += self.__forward(x,y)['error']\n",
        "        return loss\n",
        "\n",
        "    def train(self, X_train, Y_train, num_iterations = 1000, learning_rate = 0.5):\n",
        "        # generate a random list of indices for the training set\n",
        "        rand_indices = np.random.choice(len(X_train), num_iterations, replace=True)\n",
        "        \n",
        "        def l_rate(base_rate, ite, num_iterations, schedule = False):\n",
        "        # determine whether to use the learning schedule\n",
        "            if schedule == True:\n",
        "                return base_rate * 10 ** (-np.floor(ite/num_iterations*5))\n",
        "            else:\n",
        "                return base_rate\n",
        "\n",
        "        count = 1\n",
        "        loss_dict = {}\n",
        "        test_dict = {}\n",
        "\n",
        "        for i in rand_indices:\n",
        "            f_result = self.__forward(X_train[i],Y_train[i])\n",
        "            b_result = self.__back_propagation(X_train[i],Y_train[i],f_result)\n",
        "            self.__optimize(b_result,l_rate(learning_rate,i,num_iterations,True))\n",
        "            \n",
        "            if count % 1000 == 0:\n",
        "                if count % 5000 == 0:\n",
        "                    loss = self.__loss(X_train,Y_train)\n",
        "                    test = self.testing(x_test,y_test)\n",
        "                    print('Trained for {} times,'.format(count),'loss = {}, test = {}'.format(loss,test))\n",
        "                    loss_dict[str(count)]=loss\n",
        "                    test_dict[str(count)]=test\n",
        "                else:\n",
        "                    print('Trained for {} times,'.format(count))\n",
        "            count += 1\n",
        "\n",
        "        print('Training finished!')\n",
        "        return loss_dict, test_dict\n",
        "\n",
        "    def testing(self,X_test, Y_test):\n",
        "        # test the model on the training dataset\n",
        "        total_correct = 0\n",
        "        for n in range(len(X_test)):\n",
        "            y = Y_test[n]\n",
        "            x = X_test[n][:]\n",
        "            prediction = np.argmax(self.__forward(x,y)['f_X'])\n",
        "            if (prediction == y):\n",
        "                total_correct += 1\n",
        "        print('Accuarcy Test: ',total_correct/len(X_test))\n",
        "        return total_correct/np.float(len(X_test))\n",
        "\n",
        "####################################################################################\n",
        "\n",
        "\n",
        "\n"
      ],
      "execution_count": null,
      "outputs": []
    },
    {
      "cell_type": "code",
      "metadata": {
        "id": "Q3y9HkYQ92cf",
        "colab_type": "code",
        "colab": {
          "base_uri": "https://localhost:8080/",
          "height": 34
        },
        "outputId": "c6f8525e-92ff-4670-971f-b7aa5b2ad284"
      },
      "source": [
        "\n",
        "x_train = X_train\n",
        "y_train = y_train\n",
        "x_test = X_test\n",
        "y_test = y_test\n",
        "\n",
        "x_train.shape"
      ],
      "execution_count": null,
      "outputs": [
        {
          "output_type": "execute_result",
          "data": {
            "text/plain": [
              "(60000, 784)"
            ]
          },
          "metadata": {
            "tags": []
          },
          "execution_count": 138
        }
      ]
    },
    {
      "cell_type": "code",
      "metadata": {
        "id": "XuE5Uye29UqE",
        "colab_type": "code",
        "colab": {
          "base_uri": "https://localhost:8080/",
          "height": 1000
        },
        "outputId": "9ad6f374-cf0f-4dce-d371-238745a78241"
      },
      "source": [
        "# set the number of iterations\n",
        "num_iterations = 200000\n",
        "# set the base learning rate\n",
        "learning_rate = 0.01\n",
        "# number of inputs\n",
        "num_inputs = 784\n",
        "# number of outputs\n",
        "num_outputs = 10\n",
        "# size of hidden layer\n",
        "hidden_size = 300\n",
        "\n",
        "# data fitting, training and accuracy evaluation\n",
        "model = NN(num_inputs,hidden_size,num_outputs)\n",
        "cost_dict, tests_dict = model.train(x_train,y_train,num_iterations=num_iterations,learning_rate=learning_rate)\n",
        "\n"
      ],
      "execution_count": null,
      "outputs": [
        {
          "output_type": "stream",
          "text": [
            "/usr/local/lib/python3.6/dist-packages/ipykernel_launcher.py:39: RuntimeWarning: overflow encountered in exp\n",
            "/usr/local/lib/python3.6/dist-packages/ipykernel_launcher.py:39: RuntimeWarning: invalid value encountered in multiply\n",
            "/usr/local/lib/python3.6/dist-packages/ipykernel_launcher.py:43: RuntimeWarning: divide by zero encountered in log\n"
          ],
          "name": "stderr"
        },
        {
          "output_type": "stream",
          "text": [
            "Trained for 1000 times,\n",
            "Trained for 2000 times,\n",
            "Trained for 3000 times,\n",
            "Trained for 4000 times,\n",
            "Accuarcy Test:  0.098\n",
            "Trained for 5000 times, loss = nan, test = 0.098\n",
            "Trained for 6000 times,\n",
            "Trained for 7000 times,\n",
            "Trained for 8000 times,\n",
            "Trained for 9000 times,\n",
            "Accuarcy Test:  0.098\n",
            "Trained for 10000 times, loss = nan, test = 0.098\n",
            "Trained for 11000 times,\n",
            "Trained for 12000 times,\n",
            "Trained for 13000 times,\n",
            "Trained for 14000 times,\n",
            "Accuarcy Test:  0.098\n",
            "Trained for 15000 times, loss = nan, test = 0.098\n",
            "Trained for 16000 times,\n",
            "Trained for 17000 times,\n",
            "Trained for 18000 times,\n",
            "Trained for 19000 times,\n",
            "Accuarcy Test:  0.098\n",
            "Trained for 20000 times, loss = nan, test = 0.098\n",
            "Trained for 21000 times,\n",
            "Trained for 22000 times,\n",
            "Trained for 23000 times,\n",
            "Trained for 24000 times,\n",
            "Accuarcy Test:  0.098\n",
            "Trained for 25000 times, loss = nan, test = 0.098\n",
            "Trained for 26000 times,\n",
            "Trained for 27000 times,\n",
            "Trained for 28000 times,\n",
            "Trained for 29000 times,\n",
            "Accuarcy Test:  0.098\n",
            "Trained for 30000 times, loss = nan, test = 0.098\n",
            "Trained for 31000 times,\n",
            "Trained for 32000 times,\n",
            "Trained for 33000 times,\n",
            "Trained for 34000 times,\n",
            "Accuarcy Test:  0.098\n",
            "Trained for 35000 times, loss = nan, test = 0.098\n",
            "Trained for 36000 times,\n",
            "Trained for 37000 times,\n",
            "Trained for 38000 times,\n",
            "Trained for 39000 times,\n",
            "Accuarcy Test:  0.098\n",
            "Trained for 40000 times, loss = nan, test = 0.098\n",
            "Trained for 41000 times,\n",
            "Trained for 42000 times,\n",
            "Trained for 43000 times,\n",
            "Trained for 44000 times,\n",
            "Accuarcy Test:  0.098\n",
            "Trained for 45000 times, loss = nan, test = 0.098\n",
            "Trained for 46000 times,\n",
            "Trained for 47000 times,\n",
            "Trained for 48000 times,\n",
            "Trained for 49000 times,\n",
            "Accuarcy Test:  0.098\n",
            "Trained for 50000 times, loss = nan, test = 0.098\n",
            "Trained for 51000 times,\n",
            "Trained for 52000 times,\n",
            "Trained for 53000 times,\n",
            "Trained for 54000 times,\n",
            "Accuarcy Test:  0.098\n",
            "Trained for 55000 times, loss = nan, test = 0.098\n",
            "Trained for 56000 times,\n",
            "Trained for 57000 times,\n",
            "Trained for 58000 times,\n",
            "Trained for 59000 times,\n",
            "Accuarcy Test:  0.098\n",
            "Trained for 60000 times, loss = nan, test = 0.098\n",
            "Trained for 61000 times,\n",
            "Trained for 62000 times,\n",
            "Trained for 63000 times,\n",
            "Trained for 64000 times,\n",
            "Accuarcy Test:  0.098\n",
            "Trained for 65000 times, loss = nan, test = 0.098\n",
            "Trained for 66000 times,\n",
            "Trained for 67000 times,\n",
            "Trained for 68000 times,\n",
            "Trained for 69000 times,\n",
            "Accuarcy Test:  0.098\n",
            "Trained for 70000 times, loss = nan, test = 0.098\n",
            "Trained for 71000 times,\n",
            "Trained for 72000 times,\n",
            "Trained for 73000 times,\n",
            "Trained for 74000 times,\n",
            "Accuarcy Test:  0.098\n",
            "Trained for 75000 times, loss = nan, test = 0.098\n",
            "Trained for 76000 times,\n",
            "Trained for 77000 times,\n",
            "Trained for 78000 times,\n",
            "Trained for 79000 times,\n",
            "Accuarcy Test:  0.098\n",
            "Trained for 80000 times, loss = nan, test = 0.098\n",
            "Trained for 81000 times,\n",
            "Trained for 82000 times,\n",
            "Trained for 83000 times,\n",
            "Trained for 84000 times,\n",
            "Accuarcy Test:  0.098\n",
            "Trained for 85000 times, loss = nan, test = 0.098\n",
            "Trained for 86000 times,\n",
            "Trained for 87000 times,\n",
            "Trained for 88000 times,\n",
            "Trained for 89000 times,\n",
            "Accuarcy Test:  0.098\n",
            "Trained for 90000 times, loss = nan, test = 0.098\n",
            "Trained for 91000 times,\n",
            "Trained for 92000 times,\n",
            "Trained for 93000 times,\n",
            "Trained for 94000 times,\n",
            "Accuarcy Test:  0.098\n",
            "Trained for 95000 times, loss = nan, test = 0.098\n",
            "Trained for 96000 times,\n",
            "Trained for 97000 times,\n",
            "Trained for 98000 times,\n",
            "Trained for 99000 times,\n",
            "Accuarcy Test:  0.098\n",
            "Trained for 100000 times, loss = nan, test = 0.098\n",
            "Trained for 101000 times,\n",
            "Trained for 102000 times,\n",
            "Trained for 103000 times,\n",
            "Trained for 104000 times,\n",
            "Accuarcy Test:  0.098\n",
            "Trained for 105000 times, loss = nan, test = 0.098\n",
            "Trained for 106000 times,\n",
            "Trained for 107000 times,\n",
            "Trained for 108000 times,\n",
            "Trained for 109000 times,\n",
            "Accuarcy Test:  0.098\n",
            "Trained for 110000 times, loss = nan, test = 0.098\n",
            "Trained for 111000 times,\n",
            "Trained for 112000 times,\n",
            "Trained for 113000 times,\n",
            "Trained for 114000 times,\n",
            "Accuarcy Test:  0.098\n",
            "Trained for 115000 times, loss = nan, test = 0.098\n",
            "Trained for 116000 times,\n",
            "Trained for 117000 times,\n",
            "Trained for 118000 times,\n",
            "Trained for 119000 times,\n",
            "Accuarcy Test:  0.098\n",
            "Trained for 120000 times, loss = nan, test = 0.098\n",
            "Trained for 121000 times,\n",
            "Trained for 122000 times,\n",
            "Trained for 123000 times,\n",
            "Trained for 124000 times,\n",
            "Accuarcy Test:  0.098\n",
            "Trained for 125000 times, loss = nan, test = 0.098\n",
            "Trained for 126000 times,\n",
            "Trained for 127000 times,\n",
            "Trained for 128000 times,\n",
            "Trained for 129000 times,\n",
            "Accuarcy Test:  0.098\n",
            "Trained for 130000 times, loss = nan, test = 0.098\n",
            "Trained for 131000 times,\n",
            "Trained for 132000 times,\n",
            "Trained for 133000 times,\n",
            "Trained for 134000 times,\n",
            "Accuarcy Test:  0.098\n",
            "Trained for 135000 times, loss = nan, test = 0.098\n",
            "Trained for 136000 times,\n",
            "Trained for 137000 times,\n",
            "Trained for 138000 times,\n",
            "Trained for 139000 times,\n",
            "Accuarcy Test:  0.098\n",
            "Trained for 140000 times, loss = nan, test = 0.098\n",
            "Trained for 141000 times,\n",
            "Trained for 142000 times,\n",
            "Trained for 143000 times,\n",
            "Trained for 144000 times,\n",
            "Accuarcy Test:  0.098\n",
            "Trained for 145000 times, loss = nan, test = 0.098\n",
            "Trained for 146000 times,\n",
            "Trained for 147000 times,\n",
            "Trained for 148000 times,\n",
            "Trained for 149000 times,\n",
            "Accuarcy Test:  0.098\n",
            "Trained for 150000 times, loss = nan, test = 0.098\n",
            "Trained for 151000 times,\n",
            "Trained for 152000 times,\n",
            "Trained for 153000 times,\n",
            "Trained for 154000 times,\n",
            "Accuarcy Test:  0.098\n",
            "Trained for 155000 times, loss = nan, test = 0.098\n",
            "Trained for 156000 times,\n",
            "Trained for 157000 times,\n",
            "Trained for 158000 times,\n",
            "Trained for 159000 times,\n",
            "Accuarcy Test:  0.098\n",
            "Trained for 160000 times, loss = nan, test = 0.098\n",
            "Trained for 161000 times,\n",
            "Trained for 162000 times,\n",
            "Trained for 163000 times,\n",
            "Trained for 164000 times,\n",
            "Accuarcy Test:  0.098\n",
            "Trained for 165000 times, loss = nan, test = 0.098\n",
            "Trained for 166000 times,\n",
            "Trained for 167000 times,\n",
            "Trained for 168000 times,\n",
            "Trained for 169000 times,\n",
            "Accuarcy Test:  0.098\n",
            "Trained for 170000 times, loss = nan, test = 0.098\n",
            "Trained for 171000 times,\n",
            "Trained for 172000 times,\n",
            "Trained for 173000 times,\n",
            "Trained for 174000 times,\n",
            "Accuarcy Test:  0.098\n",
            "Trained for 175000 times, loss = nan, test = 0.098\n",
            "Trained for 176000 times,\n",
            "Trained for 177000 times,\n",
            "Trained for 178000 times,\n",
            "Trained for 179000 times,\n",
            "Accuarcy Test:  0.098\n",
            "Trained for 180000 times, loss = nan, test = 0.098\n",
            "Trained for 181000 times,\n",
            "Trained for 182000 times,\n",
            "Trained for 183000 times,\n",
            "Trained for 184000 times,\n",
            "Accuarcy Test:  0.098\n",
            "Trained for 185000 times, loss = nan, test = 0.098\n",
            "Trained for 186000 times,\n",
            "Trained for 187000 times,\n",
            "Trained for 188000 times,\n",
            "Trained for 189000 times,\n",
            "Accuarcy Test:  0.098\n",
            "Trained for 190000 times, loss = nan, test = 0.098\n",
            "Trained for 191000 times,\n",
            "Trained for 192000 times,\n",
            "Trained for 193000 times,\n",
            "Trained for 194000 times,\n",
            "Accuarcy Test:  0.098\n",
            "Trained for 195000 times, loss = nan, test = 0.098\n",
            "Trained for 196000 times,\n",
            "Trained for 197000 times,\n",
            "Trained for 198000 times,\n",
            "Trained for 199000 times,\n",
            "Accuarcy Test:  0.098\n",
            "Trained for 200000 times, loss = nan, test = 0.098\n",
            "Training finished!\n"
          ],
          "name": "stdout"
        }
      ]
    },
    {
      "cell_type": "code",
      "metadata": {
        "id": "E75DMC3bBltw",
        "colab_type": "code",
        "colab": {
          "base_uri": "https://localhost:8080/",
          "height": 167
        },
        "outputId": "7ac8638d-d251-47bd-8f6e-00d50825306b"
      },
      "source": [
        "model.fit(data_train, labels_train)\n",
        "accu = model.testing(x_test,y_test)"
      ],
      "execution_count": null,
      "outputs": [
        {
          "output_type": "error",
          "ename": "AttributeError",
          "evalue": "ignored",
          "traceback": [
            "\u001b[0;31m---------------------------------------------------------------------------\u001b[0m",
            "\u001b[0;31mAttributeError\u001b[0m                            Traceback (most recent call last)",
            "\u001b[0;32m<ipython-input-140-ca8a2c2fd9e0>\u001b[0m in \u001b[0;36m<module>\u001b[0;34m()\u001b[0m\n\u001b[0;32m----> 1\u001b[0;31m \u001b[0mmodel\u001b[0m\u001b[0;34m.\u001b[0m\u001b[0mfit\u001b[0m\u001b[0;34m(\u001b[0m\u001b[0mdata_train\u001b[0m\u001b[0;34m,\u001b[0m \u001b[0mlabels_train\u001b[0m\u001b[0;34m)\u001b[0m\u001b[0;34m\u001b[0m\u001b[0;34m\u001b[0m\u001b[0m\n\u001b[0m",
            "\u001b[0;31mAttributeError\u001b[0m: 'NN' object has no attribute 'fit'"
          ]
        }
      ]
    }
  ]
}
