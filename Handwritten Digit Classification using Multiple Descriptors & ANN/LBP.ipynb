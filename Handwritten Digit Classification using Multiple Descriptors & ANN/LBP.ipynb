{
  "nbformat": 4,
  "nbformat_minor": 0,
  "metadata": {
    "colab": {
      "name": " LBP DL1",
      "provenance": [],
      "collapsed_sections": [],
      "include_colab_link": true
    },
    "kernelspec": {
      "name": "python3",
      "display_name": "Python 3"
    }
  },
  "cells": [
    {
      "cell_type": "markdown",
      "metadata": {
        "id": "view-in-github",
        "colab_type": "text"
      },
      "source": [
        "<a href=\"https://colab.research.google.com/github/nazmul-kaonine/Data-Science-Projects/blob/master/Handwritten%20Digit%20Classification%20using%20Multiple%20Descriptors%20%26%20ANN/LBP.ipynb\" target=\"_parent\"><img src=\"https://colab.research.google.com/assets/colab-badge.svg\" alt=\"Open In Colab\"/></a>"
      ]
    },
    {
      "cell_type": "markdown",
      "metadata": {
        "id": "soPWtc-mgZOg",
        "colab_type": "text"
      },
      "source": [
        "#Submitted by:\n",
        "###Nazmul Kaonine\n",
        "####PostGrad- UTS"
      ]
    },
    {
      "cell_type": "markdown",
      "metadata": {
        "id": "e0PADTYvCTY5",
        "colab_type": "text"
      },
      "source": [
        "#ALL LIBRARIES AND LOADER FUNCS"
      ]
    },
    {
      "cell_type": "code",
      "metadata": {
        "id": "SGsqwhylaNZt",
        "colab_type": "code",
        "colab": {
          "base_uri": "https://localhost:8080/",
          "height": 69
        },
        "outputId": "86a9c897-9b34-4148-e01a-6cd43a3ba0cc"
      },
      "source": [
        "import matplotlib.pyplot as plt\n",
        "from skimage import feature \n",
        "from sklearn import svm\n",
        "%matplotlib inline\n",
        "import cv2\n",
        "import os\n",
        "import seaborn as sns\n",
        "from sklearn.model_selection import train_test_split\n",
        "from sklearn.neighbors import KNeighborsClassifier\n",
        "from sklearn import metrics\n",
        "import math, numpy as np\n",
        "import sklearn.datasets\n",
        "import matplotlib.pyplot as plt\n",
        "import h5py\n",
        "import glob\n",
        "from keras.preprocessing import image"
      ],
      "execution_count": null,
      "outputs": [
        {
          "output_type": "stream",
          "text": [
            "/usr/local/lib/python3.6/dist-packages/statsmodels/tools/_testing.py:19: FutureWarning: pandas.util.testing is deprecated. Use the functions in the public API at pandas.testing instead.\n",
            "  import pandas.util.testing as tm\n",
            "Using TensorFlow backend.\n"
          ],
          "name": "stderr"
        }
      ]
    },
    {
      "cell_type": "code",
      "metadata": {
        "id": "2LaJ1y4Gp1pA",
        "colab_type": "code",
        "colab": {
          "base_uri": "https://localhost:8080/",
          "height": 34
        },
        "outputId": "cf9d3bec-25d7-4f92-ccf2-47b24f9d172e"
      },
      "source": [
        "    os.system('wget -N http://yann.lecun.com/exdb/mnist/train-images-idx3-ubyte.gz')\n",
        "    os.system('wget -N http://yann.lecun.com/exdb/mnist/train-labels-idx1-ubyte.gz')\n",
        "    os.system('wget -N http://yann.lecun.com/exdb/mnist/t10k-images-idx3-ubyte.gz')\n",
        "    os.system('wget -N http://yann.lecun.com/exdb/mnist/t10k-labels-idx1-ubyte.gz')"
      ],
      "execution_count": null,
      "outputs": [
        {
          "output_type": "execute_result",
          "data": {
            "text/plain": [
              "0"
            ]
          },
          "metadata": {
            "tags": []
          },
          "execution_count": 12
        }
      ]
    },
    {
      "cell_type": "code",
      "metadata": {
        "id": "-GvcFJe1aiRu",
        "colab_type": "code",
        "colab": {}
      },
      "source": [
        "def load_mnist(path, kind='train'):\n",
        "    import os\n",
        "    import gzip\n",
        "    import numpy as np\n",
        "\n",
        "    \"\"\"Load MNIST data from `path`\"\"\"\n",
        "    labels_path = os.path.join(path,\n",
        "                               '%s-labels-idx1-ubyte.gz'\n",
        "                               % kind)\n",
        "    images_path = os.path.join(path,\n",
        "                               '%s-images-idx3-ubyte.gz'\n",
        "                               % kind)\n",
        "\n",
        "    with gzip.open(labels_path, 'rb') as lbpath:\n",
        "        labels = np.frombuffer(lbpath.read(), dtype=np.uint8,\n",
        "                               offset=8)\n",
        "\n",
        "    with gzip.open(images_path, 'rb') as imgpath:\n",
        "        images = np.frombuffer(imgpath.read(), dtype=np.uint8,\n",
        "                               offset=16).reshape(len(labels), 784)     \n",
        "                              \n",
        "\n",
        "\n",
        "                        \n",
        "        \n",
        "\n",
        "\n",
        "    return images, labels"
      ],
      "execution_count": null,
      "outputs": []
    },
    {
      "cell_type": "code",
      "metadata": {
        "id": "92y6kmkpkRDp",
        "colab_type": "code",
        "colab": {
          "base_uri": "https://localhost:8080/",
          "height": 124
        },
        "outputId": "a2c47708-0dd4-4085-d0c9-33aa5a21678d"
      },
      "source": [
        "from google.colab import drive\n",
        "drive.mount('/content/gdrive')"
      ],
      "execution_count": null,
      "outputs": [
        {
          "output_type": "stream",
          "text": [
            "Go to this URL in a browser: https://accounts.google.com/o/oauth2/auth?client_id=947318989803-6bn6qk8qdgf4n4g3pfee6491hc0brc4i.apps.googleusercontent.com&redirect_uri=urn%3aietf%3awg%3aoauth%3a2.0%3aoob&response_type=code&scope=email%20https%3a%2f%2fwww.googleapis.com%2fauth%2fdocs.test%20https%3a%2f%2fwww.googleapis.com%2fauth%2fdrive%20https%3a%2f%2fwww.googleapis.com%2fauth%2fdrive.photos.readonly%20https%3a%2f%2fwww.googleapis.com%2fauth%2fpeopleapi.readonly\n",
            "\n",
            "Enter your authorization code:\n",
            "··········\n",
            "Mounted at /content/gdrive\n"
          ],
          "name": "stdout"
        }
      ]
    },
    {
      "cell_type": "code",
      "metadata": {
        "id": "4ZYln6SWxP5O",
        "colab_type": "code",
        "colab": {}
      },
      "source": [
        "X_train, y_train = load_mnist('/content/gdrive/My Drive/DLA2/', kind='train')\n",
        "X_test, y_test = load_mnist('/content/gdrive/My Drive/DLA2/', kind='t10k')\n",
        "\n",
        "labelNames = [\"0\", \"1\", \"2\", \"3\", \"4\",\n",
        "\t\"5\", \"6\", \"7\", \"8\", \"9\"]"
      ],
      "execution_count": null,
      "outputs": []
    },
    {
      "cell_type": "markdown",
      "metadata": {
        "id": "5-4lOxyQ0vO9",
        "colab_type": "text"
      },
      "source": [
        "#Visualizations"
      ]
    },
    {
      "cell_type": "code",
      "metadata": {
        "id": "cHvuhklcxbS_",
        "colab_type": "code",
        "colab": {}
      },
      "source": [
        "sns.countplot(y_train)\n",
        "plt.show()\n",
        "#shows digit label counts"
      ],
      "execution_count": null,
      "outputs": []
    },
    {
      "cell_type": "code",
      "metadata": {
        "id": "iXWYbJlkxd36",
        "colab_type": "code",
        "colab": {}
      },
      "source": [
        "fig = plt.figure()\n",
        "for i in range(9):\n",
        "  plt.subplot(3,3,i+1)\n",
        "  plt.tight_layout()\n",
        "  plt.imshow(X_train[i], cmap='gray', interpolation='none')\n",
        "  plt.title(\"Digit: {}\".format(y_train[i]))\n",
        "  plt.xticks([])\n",
        "  plt.yticks([])\n",
        "fig"
      ],
      "execution_count": null,
      "outputs": []
    },
    {
      "cell_type": "code",
      "metadata": {
        "id": "oiObXk8Hp4Uj",
        "colab_type": "code",
        "colab": {}
      },
      "source": [
        "def display_image(position):\n",
        "    image = X_train[position].squeeze()\n",
        "    plt.title('Example %d. Label: %d' % (position, y_train[position]))\n",
        "    plt.imshow(image, cmap=plt.cm.gray_r)"
      ],
      "execution_count": null,
      "outputs": []
    },
    {
      "cell_type": "code",
      "metadata": {
        "id": "94jwYzICttin",
        "colab_type": "code",
        "colab": {
          "base_uri": "https://localhost:8080/",
          "height": 545
        },
        "outputId": "7866ff7c-a914-4114-d10b-ed9d3408ffc8"
      },
      "source": [
        "display_image(0)\n",
        "plt.show()\n",
        "display_image(59999)"
      ],
      "execution_count": null,
      "outputs": [
        {
          "output_type": "display_data",
          "data": {
            "image/png": "[encoded data removed]",
            "text/plain": [
              "<Figure size 432x288 with 1 Axes>"
            ]
          },
          "metadata": {
            "tags": [],
            "needs_background": "light"
          }
        },
        {
          "output_type": "display_data",
          "data": {
            "image/png": "[encoded data removed]",
            "text/plain": [
              "<Figure size 432x288 with 1 Axes>"
            ]
          },
          "metadata": {
            "tags": [],
            "needs_background": "light"
          }
        }
      ]
    },
    {
      "cell_type": "code",
      "metadata": {
        "id": "HzdvR-zt80Ug",
        "colab_type": "code",
        "colab": {
          "base_uri": "https://localhost:8080/",
          "height": 34
        },
        "outputId": "01f3516a-73a2-463c-98f7-de7159342044"
      },
      "source": [
        "X_train.shape\n"
      ],
      "execution_count": null,
      "outputs": [
        {
          "output_type": "execute_result",
          "data": {
            "text/plain": [
              "(60000, 784)"
            ]
          },
          "metadata": {
            "tags": []
          },
          "execution_count": 8
        }
      ]
    },
    {
      "cell_type": "markdown",
      "metadata": {
        "colab_type": "text",
        "id": "AJLo9Y9A7AqQ"
      },
      "source": [
        "#LBP with SVM, KNN and ANN"
      ]
    },
    {
      "cell_type": "markdown",
      "metadata": {
        "id": "ewot4rDmx7LC",
        "colab_type": "text"
      },
      "source": [
        "#LBP SVM"
      ]
    },
    {
      "cell_type": "code",
      "metadata": {
        "id": "tRgYYLBYcV8N",
        "colab_type": "code",
        "colab": {
          "base_uri": "https://localhost:8080/",
          "height": 52
        },
        "outputId": "8b523f58-5943-4ba4-bb7d-fd377d2065db"
      },
      "source": [
        "X_train=X_train.reshape(-1,28,28)\n",
        "X_test=X_test.reshape(-1,28,28)\n",
        "\n",
        "# print the size of the result reshaped train and test data splits\n",
        "\n",
        "print(\"Train dataset after reshaping:{}\".format(np.shape(X_train)))\n",
        "print(\"Test dataset after reshaping :{}\".format(np.shape(X_test)))"
      ],
      "execution_count": null,
      "outputs": [
        {
          "output_type": "stream",
          "text": [
            "Train dataset after reshaping:(60000, 28, 28)\n",
            "Test dataset after reshaping :(10000, 28, 28)\n"
          ],
          "name": "stdout"
        }
      ]
    },
    {
      "cell_type": "code",
      "metadata": {
        "id": "FP-wXJ8DWCY2",
        "colab_type": "code",
        "colab": {}
      },
      "source": [
        " #LBP Class to compute histograms\n",
        "class LocalBinaryPatterns:\n",
        "\tdef __init__(self, numPoints, radius):\n",
        "\t\n",
        "\t\tself.numPoints = numPoints\n",
        "\t\tself.radius = radius\n",
        " \n",
        "\tdef LBPfeatures(self, image, eps=1e-7):\n",
        "\n",
        "\t\tlbp = feature.local_binary_pattern(image, self.numPoints,\n",
        "\t\t\tself.radius, method=\"uniform\")\n",
        "   \n",
        "\t\t(hist, _) = np.histogram(lbp.ravel(),\n",
        "\t\t\tbins=np.arange(0, self.numPoints + 3),\n",
        "\t\t\trange=(0, self.numPoints + 2))\n",
        " \n",
        "\t\thist = hist.astype(\"float\")\n",
        "\t\thist /= (hist.sum() + eps)\n",
        "\n",
        "\t\treturn hist"
      ],
      "execution_count": null,
      "outputs": []
    },
    {
      "cell_type": "code",
      "metadata": {
        "id": "2D5HuIKeYqrc",
        "colab_type": "code",
        "colab": {}
      },
      "source": [
        "#Extracting features \n",
        "desc = LocalBinaryPatterns(24, 8)\n",
        "data_train = []\n",
        "labels_train = []\n",
        "\n",
        "\n",
        "for img_index in range(len(X_train)):\n",
        "\n",
        "\n",
        "\timage = (X_train[img_index])\n",
        "\thist = desc.LBPfeatures(image)\n",
        " \n",
        "\t\n",
        "\tlabels_train.append(y_train[img_index])\n",
        "\tdata_train.append(hist)"
      ],
      "execution_count": null,
      "outputs": []
    },
    {
      "cell_type": "code",
      "metadata": {
        "colab_type": "code",
        "id": "Kxmih65B7GMR",
        "colab": {}
      },
      "source": [
        "#Sample 1\n",
        "'''model = svm.SVC(kernel='linear',random_state=42) # rbf Kernel\n",
        "model.fit(data_train, labels_train)\n",
        "print(np.shape(X_train))\n",
        "print(np.shape(y_train))"
      ],
      "execution_count": null,
      "outputs": []
    },
    {
      "cell_type": "code",
      "metadata": {
        "id": "bPusV6jt1C9y",
        "colab_type": "code",
        "colab": {}
      },
      "source": [
        "# Sample 2 with Best Accuracy\n",
        "model = svm.SVC(kernel='poly',C=100.0, gamma=0.1, degree=4,random_state=42) # poly Kernel\n",
        "model.fit(data_train, labels_train)\n",
        "print(np.shape(X_train))\n",
        "print(np.shape(y_train))"
      ],
      "execution_count": null,
      "outputs": []
    },
    {
      "cell_type": "code",
      "metadata": {
        "id": "VpkB4CbuTu9P",
        "colab_type": "code",
        "colab": {
          "base_uri": "https://localhost:8080/",
          "height": 52
        },
        "outputId": "fd659904-0f7d-4eb7-cd81-a92bc1c91057"
      },
      "source": [
        "#Sample3\n",
        "'''model = svm.SVC(kernel='rbf',C=100.0, random_state=42) # rbf Kernel\n",
        "model.fit(data_train, labels_train)\n",
        "print(np.shape(X_train))\n",
        "print(np.shape(y_train))"
      ],
      "execution_count": null,
      "outputs": [
        {
          "output_type": "stream",
          "text": [
            "(60000, 28, 28)\n",
            "(60000,)\n"
          ],
          "name": "stdout"
        }
      ]
    },
    {
      "cell_type": "code",
      "metadata": {
        "id": "VrDOvD9UT6kc",
        "colab_type": "code",
        "colab": {
          "base_uri": "https://localhost:8080/",
          "height": 34
        },
        "outputId": "6865bd63-dd99-49fa-9406-f9a163a1c31c"
      },
      "source": [
        "print(\"Train set Accuracy: {:.2f}\".format(model.score(data_train,labels_train)))"
      ],
      "execution_count": null,
      "outputs": [
        {
          "output_type": "stream",
          "text": [
            "Train set Accuracy: 0.51\n"
          ],
          "name": "stdout"
        }
      ]
    },
    {
      "cell_type": "code",
      "metadata": {
        "id": "ORETNUgnn6VD",
        "colab_type": "code",
        "colab": {}
      },
      "source": [
        "#LBP Extraction For Test\n",
        "predictions=[]\n",
        "predict_label=[]\n",
        "\n",
        "for im_index in range(len(X_test)):\n",
        "  imag = X_test[im_index]\n",
        "\n",
        "  histo = desc.LBPfeatures(imag)\n",
        "\n",
        "  prediction = model.predict(histo.reshape(1, -1))\n",
        "\n",
        "  predictions.append(prediction)\n",
        "  predict_label.append(y_test[im_index])"
      ],
      "execution_count": null,
      "outputs": []
    },
    {
      "cell_type": "code",
      "metadata": {
        "id": "RAx1L_dkn9vd",
        "colab_type": "code",
        "colab": {
          "base_uri": "https://localhost:8080/",
          "height": 34
        },
        "outputId": "26c76ee5-2286-4834-d396-f2ab79a1e5c4"
      },
      "source": [
        "accuracy = metrics.accuracy_score(y_test, predictions)\n",
        "print(\"Accuracy on test dataset:\",accuracy)"
      ],
      "execution_count": null,
      "outputs": [
        {
          "output_type": "stream",
          "text": [
            "Accuracy on test dataset: 0.5207\n"
          ],
          "name": "stdout"
        }
      ]
    },
    {
      "cell_type": "code",
      "metadata": {
        "id": "EujNtY22oBE2",
        "colab_type": "code",
        "colab": {
          "base_uri": "https://localhost:8080/",
          "height": 700
        },
        "outputId": "73e67d57-c548-4fc8-da4a-ed7292e2f0c6"
      },
      "source": [
        "# the confusion matrix\n",
        "cm  = metrics.confusion_matrix(y_test, predictions)\n",
        "print(cm)\n",
        "\n",
        "# confusion matrix using seaborn library\n",
        "plt.figure(figsize=(9,9))\n",
        "sns.heatmap(cm, annot=True, fmt=\".3f\", linewidths=.5, square = True, cmap = 'Blues_r');\n",
        "plt.ylabel('Actual label');\n",
        "plt.xlabel('Predicted label');\n",
        "all_sample_title = 'Accuracy Score: {0}'.format(accuracy)\n",
        "plt.title(all_sample_title, size = 15);"
      ],
      "execution_count": null,
      "outputs": [
        {
          "output_type": "stream",
          "text": [
            "[[ 916    0   11    4    2   26    0    3    3   15]\n",
            " [   0 1091    3    0    3    1    1   29    7    0]\n",
            " [  21    1  501   86   48   72   50  144   88   21]\n",
            " [  32   17  152  274   92  112   36  130  105   60]\n",
            " [   7    3  103   23  383   23   46   70   67  257]\n",
            " [ 103    9   95   93   86  210   29  162   40   65]\n",
            " [  55   14  182   61   56   70  141  114  139  126]\n",
            " [  14   57   67   16   67   50   22  686   22   27]\n",
            " [  33    3   55   90   71   19   60   32  529   82]\n",
            " [  50   15   16   38  201   37   59   50   67  476]]\n"
          ],
          "name": "stdout"
        },
        {
          "output_type": "display_data",
          "data": {
            "image/png": "[encoded data removed]",
            "text/plain": [
              "<Figure size 648x648 with 2 Axes>"
            ]
          },
          "metadata": {
            "tags": [],
            "needs_background": "light"
          }
        }
      ]
    },
    {
      "cell_type": "code",
      "metadata": {
        "id": "VB9jJY0M8G3b",
        "colab_type": "code",
        "colab": {}
      },
      "source": [
        "# Classification result on test samples\n",
        "images = []\n",
        " \n",
        "for i in np.random.choice(np.arange(0, len(y_test)), size=(16,)):\n",
        " \n",
        "  histog = desc.LBPfeatures(X_test[i])\n",
        "  prediction = model.predict(histog.reshape(1, -1))\n",
        "  label = labelNames[prediction[0]]\n",
        "  orig_label=labelNames[y_test[i]]\n",
        "  image = X_test[i]\n",
        "  color = (0, 255, 0)\n",
        "  image = cv2.merge([image] * 3)\n",
        "  image = cv2.resize(image, (96, 96), interpolation=cv2.INTER_LINEAR)\n",
        "  cv2.putText(image, label, (5, 20), cv2.FONT_HERSHEY_SIMPLEX, 0.50, color, 2)\n",
        "  images.append(image)"
      ],
      "execution_count": null,
      "outputs": []
    },
    {
      "cell_type": "code",
      "metadata": {
        "id": "iOtkU_t28KxP",
        "colab_type": "code",
        "colab": {}
      },
      "source": [
        "np.shape(images[1])"
      ],
      "execution_count": null,
      "outputs": []
    },
    {
      "cell_type": "code",
      "metadata": {
        "id": "DLLrJx0X8McR",
        "colab_type": "code",
        "colab": {}
      },
      "source": [
        "## Display the classification results\n",
        "fig = plt.figure()\n",
        "ax1 = fig.add_subplot(2,2,1)\n",
        "ax1.imshow(images[1])\n",
        "print(orig_label[:])\n",
        "ax2 = fig.add_subplot(2,2,2)\n",
        "ax2.imshow(images[2])\n",
        "ax3 = fig.add_subplot(2,2,3)\n",
        "ax3.imshow(images[3])\n",
        "ax4 = fig.add_subplot(2,2,4)\n",
        "ax4.imshow(images[4])"
      ],
      "execution_count": null,
      "outputs": []
    },
    {
      "cell_type": "markdown",
      "metadata": {
        "id": "ewIEn5KzqngF",
        "colab_type": "text"
      },
      "source": [
        "#LBP KNN\n"
      ]
    },
    {
      "cell_type": "code",
      "metadata": {
        "id": "svEE8zv2-LTA",
        "colab_type": "code",
        "colab": {}
      },
      "source": [
        " #LBP Class to compute histograms\n",
        "class LocalBinaryPatterns:\n",
        "\tdef __init__(self, numPoints, radius):\n",
        "\t\n",
        "\t\tself.numPoints = numPoints\n",
        "\t\tself.radius = radius\n",
        " \n",
        "\tdef LBPfeatures(self, image, eps=1e-7):\n",
        "\n",
        "\t\tlbp = feature.local_binary_pattern(image, self.numPoints,\n",
        "\t\t\tself.radius, method=\"uniform\")\n",
        "   \n",
        "\t\t(hist, _) = np.histogram(lbp.ravel(),\n",
        "\t\t\tbins=np.arange(0, self.numPoints + 3),\n",
        "\t\t\trange=(0, self.numPoints + 2))\n",
        " \n",
        "\t\thist = hist.astype(\"float\")\n",
        "\t\thist /= (hist.sum() + eps)\n",
        "\n",
        "\t\treturn hist"
      ],
      "execution_count": null,
      "outputs": []
    },
    {
      "cell_type": "code",
      "metadata": {
        "id": "7QlGxGd1-D2L",
        "colab_type": "code",
        "colab": {
          "base_uri": "https://localhost:8080/",
          "height": 52
        },
        "outputId": "0aff08e5-67de-499d-e88e-7b6da4ed2387"
      },
      "source": [
        "X_train=X_train.reshape(-1,28,28)\n",
        "X_test=X_test.reshape(-1,28,28)\n",
        "\n",
        "# print the size of the result reshaped train and test data splits\n",
        "\n",
        "print(\"Train dataset after reshaping:{}\".format(np.shape(X_train)))\n",
        "print(\"Test dataset after reshaping :{}\".format(np.shape(X_test)))"
      ],
      "execution_count": null,
      "outputs": [
        {
          "output_type": "stream",
          "text": [
            "Train dataset after reshaping:(60000, 28, 28)\n",
            "Test dataset after reshaping :(10000, 28, 28)\n"
          ],
          "name": "stdout"
        }
      ]
    },
    {
      "cell_type": "code",
      "metadata": {
        "id": "d-ujlXAf-QXG",
        "colab_type": "code",
        "colab": {}
      },
      "source": [
        "#Extracting features \n",
        "desc = LocalBinaryPatterns(24, 8)\n",
        "data_train = []\n",
        "labels_train = []\n",
        "\n",
        "\n",
        "for img_index in range(len(X_train)):\n",
        "\n",
        "\n",
        "\timage = (X_train[img_index])\n",
        "\thist = desc.LBPfeatures(image)\n",
        " \n",
        "\t\n",
        "\tlabels_train.append(y_train[img_index])\n",
        "\tdata_train.append(hist)"
      ],
      "execution_count": null,
      "outputs": []
    },
    {
      "cell_type": "code",
      "metadata": {
        "id": "s5TpJyy0qqL4",
        "colab_type": "code",
        "colab": {
          "base_uri": "https://localhost:8080/",
          "height": 69
        },
        "outputId": "2b2d3d27-c53f-437a-a40a-ff86edbc7f9f"
      },
      "source": [
        "#Sample 1\n",
        "'''model=KNeighborsClassifier(n_neighbors=3)\n",
        "model.fit(data_train,labels_train)\n"
      ],
      "execution_count": null,
      "outputs": [
        {
          "output_type": "execute_result",
          "data": {
            "text/plain": [
              "KNeighborsClassifier(algorithm='auto', leaf_size=30, metric='minkowski',\n",
              "                     metric_params=None, n_jobs=None, n_neighbors=3, p=2,\n",
              "                     weights='uniform')"
            ]
          },
          "metadata": {
            "tags": []
          },
          "execution_count": 72
        }
      ]
    },
    {
      "cell_type": "code",
      "metadata": {
        "id": "yYBAsbsi-enC",
        "colab_type": "code",
        "colab": {}
      },
      "source": [
        "#Sample 2 with best accuracy\n",
        "model=KNeighborsClassifier(n_neighbors=3)\n",
        "model.fit(data_train,labels_train)\n"
      ],
      "execution_count": null,
      "outputs": []
    },
    {
      "cell_type": "code",
      "metadata": {
        "id": "q1ZPLBGSqtnm",
        "colab_type": "code",
        "colab": {
          "base_uri": "https://localhost:8080/",
          "height": 34
        },
        "outputId": "b7d18432-3af8-4f1e-a616-6fd891996f66"
      },
      "source": [
        "print(\"Train set Accuracy: {:.2f}\".format(model.score(data_train,labels_train)))"
      ],
      "execution_count": null,
      "outputs": [
        {
          "output_type": "stream",
          "text": [
            "Train set Accuracy: 0.65\n"
          ],
          "name": "stdout"
        }
      ]
    },
    {
      "cell_type": "code",
      "metadata": {
        "id": "15VYOt8Hq2TL",
        "colab_type": "code",
        "colab": {}
      },
      "source": [
        "\n",
        "predictions=[]\n",
        "predict_label=[]\n",
        "# Exract LBP features for each test sample and classify it with the trained SVM classifier\n",
        "for im_index in range(len(X_test)):\n",
        "  imag = X_test[im_index]\n",
        "  # Extract LBP feature\n",
        "  histo = desc.LBPfeatures(imag)\n",
        "  # Perform classification\n",
        "  prediction = model.predict(histo.reshape(1, -1))\n",
        "  # Store the classfication result\n",
        "  predictions.append(prediction)\n",
        "  predict_label.append(y_test[im_index])"
      ],
      "execution_count": null,
      "outputs": []
    },
    {
      "cell_type": "code",
      "metadata": {
        "id": "E3atc6f2qyrd",
        "colab_type": "code",
        "colab": {
          "base_uri": "https://localhost:8080/",
          "height": 34
        },
        "outputId": "f4e8dc9d-012f-4202-82d2-7cd95cdf8eea"
      },
      "source": [
        "accuracy = metrics.accuracy_score(y_test, predictions)\n",
        "print(\"Accuracy on test dataset:\",accuracy)"
      ],
      "execution_count": null,
      "outputs": [
        {
          "output_type": "stream",
          "text": [
            "Accuracy on test dataset: 0.4369\n"
          ],
          "name": "stdout"
        }
      ]
    },
    {
      "cell_type": "code",
      "metadata": {
        "id": "cXkBYW31q78D",
        "colab_type": "code",
        "colab": {
          "base_uri": "https://localhost:8080/",
          "height": 700
        },
        "outputId": "062e76b5-3201-4133-f8b1-01d45663e8f1"
      },
      "source": [
        "# plot the confusion matrix\n",
        "cm  = metrics.confusion_matrix(y_test, predictions)\n",
        "print(cm)\n",
        "\n",
        "# Plot confusion matrix using seaborn library\n",
        "plt.figure(figsize=(9,9))\n",
        "sns.heatmap(cm, annot=True, fmt=\".3f\", linewidths=.5, square = True, cmap = 'Blues_r');\n",
        "plt.ylabel('Actual label');\n",
        "plt.xlabel('Predicted label');\n",
        "all_sample_title = 'Accuracy Score: {0}'.format(accuracy)\n",
        "plt.title(all_sample_title, size = 15);"
      ],
      "execution_count": null,
      "outputs": [
        {
          "output_type": "stream",
          "text": [
            "[[ 872    0   10   23    6   41    4    1    4   19]\n",
            " [   0 1097    7    4    0    3    2   18    4    0]\n",
            " [  44   13  519  142   77   46   41   81   58   11]\n",
            " [  49   12  243  311   88   98   66   50   63   30]\n",
            " [  21    8  167  130  352   54   41   24   49  136]\n",
            " [ 136   16  173  194   63  129   44   75   30   32]\n",
            " [  61   11  267  182   80   70   99   48   80   60]\n",
            " [  22   62  158  125   74   86   40  424   11   26]\n",
            " [  45    4  174  182   77   29   72   18  338   35]\n",
            " [  67   23   63  177  229   70   90   25   37  228]]\n"
          ],
          "name": "stdout"
        },
        {
          "output_type": "display_data",
          "data": {
            "image/png": "[encoded data removed]",
            "text/plain": [
              "<Figure size 648x648 with 2 Axes>"
            ]
          },
          "metadata": {
            "tags": [],
            "needs_background": "light"
          }
        }
      ]
    },
    {
      "cell_type": "code",
      "metadata": {
        "id": "Ya_6rMfGrDfU",
        "colab_type": "code",
        "colab": {}
      },
      "source": [
        "# Display the some classification result on test samples\n",
        "images = []\n",
        " \n",
        "# randomly select a few testing fashion items\n",
        "for i in np.random.choice(np.arange(0, len(y_test)), size=(16,)):\n",
        "  # classify the clothing\n",
        "  histog = desc.LBPfeatures(X_test[i])\n",
        "  prediction = model.predict(histog.reshape(1, -1))\n",
        "  label = labelNames[prediction[0]]\n",
        "  orig_label=labelNames[y_test[i]]\n",
        "  image = X_test[i]\n",
        "  color = (0, 255, 0)\n",
        "  image = cv2.merge([image] * 3)\n",
        "  image = cv2.resize(image, (96, 96), interpolation=cv2.INTER_LINEAR)\n",
        "  cv2.putText(image, label, (5, 20), cv2.FONT_HERSHEY_SIMPLEX, 0.50, color, 2)\n",
        "  images.append(image)"
      ],
      "execution_count": null,
      "outputs": []
    },
    {
      "cell_type": "code",
      "metadata": {
        "id": "n-uf4MM2rF7L",
        "colab_type": "code",
        "colab": {
          "base_uri": "https://localhost:8080/",
          "height": 304
        },
        "outputId": "79efcd57-f8c8-4818-90d9-c86921d6259f"
      },
      "source": [
        "## Display the classification results\n",
        "fig = plt.figure()\n",
        "ax1 = fig.add_subplot(2,2,1)\n",
        "ax1.imshow(images[1])\n",
        "print(orig_label[:])\n",
        "ax2 = fig.add_subplot(2,2,2)\n",
        "ax2.imshow(images[2])\n",
        "ax3 = fig.add_subplot(2,2,3)\n",
        "ax3.imshow(images[3])\n",
        "ax4 = fig.add_subplot(2,2,4)\n",
        "ax4.imshow(images[4])"
      ],
      "execution_count": null,
      "outputs": [
        {
          "output_type": "stream",
          "text": [
            "2\n"
          ],
          "name": "stdout"
        },
        {
          "output_type": "execute_result",
          "data": {
            "text/plain": [
              "<matplotlib.image.AxesImage at 0x7f9c184b50b8>"
            ]
          },
          "metadata": {
            "tags": []
          },
          "execution_count": 78
        },
        {
          "output_type": "display_data",
          "data": {
            "image/png": "[encoded data removed]",
            "text/plain": [
              "<Figure size 432x288 with 4 Axes>"
            ]
          },
          "metadata": {
            "tags": [],
            "needs_background": "light"
          }
        }
      ]
    },
    {
      "cell_type": "markdown",
      "metadata": {
        "id": "oTRueatdAsLf",
        "colab_type": "text"
      },
      "source": [
        "#ANN LBP"
      ]
    },
    {
      "cell_type": "code",
      "metadata": {
        "id": "Dip6NPTWoo88",
        "colab_type": "code",
        "colab": {
          "base_uri": "https://localhost:8080/",
          "height": 86
        },
        "outputId": "06120a43-fb60-463d-c23b-a09056290848"
      },
      "source": [
        "import os\n",
        "import numpy as np\n",
        "import tensorflow as tf\n",
        "from tensorflow import keras\n",
        "print(tf.__version__)\n",
        "print(keras.__version__)\n",
        "%load_ext tensorboard\n",
        "\n",
        "Mnist=tf.keras.datasets.mnist\n",
        "(train_images, train_labels), (test_images, test_labels) = Mnist.load_data()\n",
        "\n",
        "\n"
      ],
      "execution_count": null,
      "outputs": [
        {
          "output_type": "stream",
          "text": [
            "2.2.0-rc3\n",
            "2.3.0-tf\n",
            "Downloading data from https://storage.googleapis.com/tensorflow/tf-keras-datasets/mnist.npz\n",
            "11493376/11490434 [==============================] - 0s 0us/step\n"
          ],
          "name": "stdout"
        }
      ]
    },
    {
      "cell_type": "code",
      "metadata": {
        "id": "T6fR3WeN7ETH",
        "colab_type": "code",
        "colab": {}
      },
      "source": [
        "#LBP Class to compute histograms\n",
        "\n",
        "class LocalBinaryPatterns:\n",
        "\tdef __init__(self, numPoints, radius):\n",
        "\t\t# store the number of points and radius\n",
        "\t\tself.numPoints = numPoints\n",
        "\t\tself.radius = radius\n",
        " \n",
        "\tdef LBPfeatures(self, image, eps=1e-7):\n",
        "\n",
        "\t\tlbp = feature.local_binary_pattern(image, self.numPoints,\n",
        "\t\t\tself.radius, method=\"uniform\")\n",
        "\n",
        "\t\t(hist, _) = np.histogram(lbp.ravel(),\n",
        "\t\t\tbins=np.arange(0, self.numPoints + 3),\n",
        "\t\t\trange=(0, self.numPoints + 2))\n",
        " \n",
        "\t\n",
        "\t\thist = hist.astype(\"float\")\n",
        "\t\thist /= (hist.sum() + eps)\n",
        " \n",
        "\t\treturn hist"
      ],
      "execution_count": null,
      "outputs": []
    },
    {
      "cell_type": "code",
      "metadata": {
        "id": "Y-arAnuX6vTi",
        "colab_type": "code",
        "colab": {}
      },
      "source": [
        "#Extracting features for training data\n",
        "desc = LocalBinaryPatterns(26, 8)\n",
        "data_train = []\n",
        "labels_train = []\n",
        "\n",
        "\n",
        "\n",
        "for img_index in range(len(train_images)):\n",
        "\n",
        "\n",
        "\timage = (train_images[img_index])\n",
        "\thist = desc.LBPfeatures(image)\n",
        " \n",
        "\t\n",
        "\tlabels_train.append(train_labels[img_index])\n",
        "\tdata_train.append(hist)"
      ],
      "execution_count": null,
      "outputs": []
    },
    {
      "cell_type": "code",
      "metadata": {
        "id": "3AKXxckw6fyk",
        "colab_type": "code",
        "colab": {}
      },
      "source": [
        "#Creating validation sets to test partial training data first\n",
        "data_train = np.float32(data_train)\n",
        "labels_train = np.float32(labels_train)\n",
        "\n",
        "valid_images= data_train[:5000]\n",
        "valid_labels = labels_train[:5000]\n",
        "\n",
        "\n",
        "train_images  = data_train[5000:]\n",
        "train_labels=labels_train[5000:]\n",
        "\n"
      ],
      "execution_count": null,
      "outputs": []
    },
    {
      "cell_type": "code",
      "metadata": {
        "id": "ZZhTrtQS6UxY",
        "colab_type": "code",
        "colab": {
          "base_uri": "https://localhost:8080/",
          "height": 86
        },
        "outputId": "70648ba6-c199-4041-ebe5-e0ef49f8eb72"
      },
      "source": [
        "print(np.shape(train_images))\n",
        "print(np.shape(train_labels))\n",
        "print(np.shape(valid_images))\n",
        "print(np.shape(valid_labels))\n",
        "\n"
      ],
      "execution_count": null,
      "outputs": [
        {
          "output_type": "stream",
          "text": [
            "(55000, 28)\n",
            "(55000,)\n",
            "(5000, 28)\n",
            "(5000,)\n"
          ],
          "name": "stdout"
        }
      ]
    },
    {
      "cell_type": "code",
      "metadata": {
        "id": "XnY6r15tuCYo",
        "colab_type": "code",
        "colab": {}
      },
      "source": [
        "model = tf.keras.models.Sequential([tf.keras.layers.Flatten(input_shape=[28]), \n",
        "                                    tf.keras.layers.Dense(128, activation=tf.nn.relu), \n",
        "                                    tf.keras.layers.Dense(10, activation=tf.nn.softmax)])"
      ],
      "execution_count": null,
      "outputs": []
    },
    {
      "cell_type": "code",
      "metadata": {
        "id": "hb2xV-8X_A-M",
        "colab_type": "code",
        "colab": {
          "base_uri": "https://localhost:8080/",
          "height": 190
        },
        "outputId": "712e5e1e-e425-4900-cf2c-e0726241f2b7"
      },
      "source": [
        "#Sample 1\n",
        "#Best Accuracy\n",
        "model.compile(optimizer = tf.optimizers.Adam(),\n",
        "              loss = 'sparse_categorical_crossentropy',\n",
        "              metrics=['accuracy'])\n",
        "\n",
        "H=model.fit(train_images, train_labels, epochs=50,validation_data=(valid_images, valid_labels))"
      ],
      "execution_count": null,
      "outputs": [
        {
          "output_type": "stream",
          "text": [
            "Epoch 1/5\n",
            "1719/1719 [==============================] - 2s 1ms/step - loss: 2.0115 - accuracy: 0.2836 - val_loss: 1.7867 - val_accuracy: 0.3770\n",
            "Epoch 2/5\n",
            "1719/1719 [==============================] - 2s 1ms/step - loss: 1.7197 - accuracy: 0.4013 - val_loss: 1.6433 - val_accuracy: 0.4326\n",
            "Epoch 3/5\n",
            "1719/1719 [==============================] - 2s 1ms/step - loss: 1.6138 - accuracy: 0.4393 - val_loss: 1.5640 - val_accuracy: 0.4540\n",
            "Epoch 4/5\n",
            "1719/1719 [==============================] - 2s 1ms/step - loss: 1.5559 - accuracy: 0.4567 - val_loss: 1.5321 - val_accuracy: 0.4596\n",
            "Epoch 5/5\n",
            "1719/1719 [==============================] - 2s 1ms/step - loss: 1.5256 - accuracy: 0.4658 - val_loss: 1.5040 - val_accuracy: 0.4660\n"
          ],
          "name": "stdout"
        }
      ]
    },
    {
      "cell_type": "code",
      "metadata": {
        "id": "UAljNOg8yGyW",
        "colab_type": "code",
        "colab": {
          "base_uri": "https://localhost:8080/",
          "height": 1000
        },
        "outputId": "550727ae-51b1-43ab-89f1-d1efcf8e59de"
      },
      "source": [
        "#Testing SGD\n",
        "#Sample Test 2\n",
        "model1 = tf.keras.models.Sequential([tf.keras.layers.Flatten(data_format=None), \n",
        "                                    tf.keras.layers.Dense(128, activation=tf.nn.relu), \n",
        "                                    tf.keras.layers.Dense(10, activation=tf.nn.softmax)])\n",
        "\n",
        "model1.compile(optimizer = tf.optimizers.SGD(0.01),\n",
        "              loss = 'sparse_categorical_crossentropy',\n",
        "              metrics=['accuracy'])\n",
        "\n",
        "H=model1.fit(train_images, train_labels, epochs=50,validation_data=(valid_images, valid_labels))\n"
      ],
      "execution_count": null,
      "outputs": [
        {
          "output_type": "stream",
          "text": [
            "Epoch 1/50\n",
            "1719/1719 [==============================] - 2s 1ms/step - loss: 2.2987 - accuracy: 0.1091 - val_loss: 2.2948 - val_accuracy: 0.1126\n",
            "Epoch 2/50\n",
            "1719/1719 [==============================] - 2s 1ms/step - loss: 2.2927 - accuracy: 0.1128 - val_loss: 2.2882 - val_accuracy: 0.1166\n",
            "Epoch 3/50\n",
            "1719/1719 [==============================] - 2s 1ms/step - loss: 2.2855 - accuracy: 0.1284 - val_loss: 2.2798 - val_accuracy: 0.1246\n",
            "Epoch 4/50\n",
            "1719/1719 [==============================] - 2s 1ms/step - loss: 2.2756 - accuracy: 0.1513 - val_loss: 2.2683 - val_accuracy: 0.1734\n",
            "Epoch 5/50\n",
            "1719/1719 [==============================] - 2s 1ms/step - loss: 2.2617 - accuracy: 0.1787 - val_loss: 2.2515 - val_accuracy: 0.1782\n",
            "Epoch 6/50\n",
            "1719/1719 [==============================] - 2s 1ms/step - loss: 2.2425 - accuracy: 0.1939 - val_loss: 2.2300 - val_accuracy: 0.1962\n",
            "Epoch 7/50\n",
            "1719/1719 [==============================] - 2s 1ms/step - loss: 2.2174 - accuracy: 0.2022 - val_loss: 2.2022 - val_accuracy: 0.2114\n",
            "Epoch 8/50\n",
            "1719/1719 [==============================] - 2s 1ms/step - loss: 2.1867 - accuracy: 0.2115 - val_loss: 2.1678 - val_accuracy: 0.2168\n",
            "Epoch 9/50\n",
            "1719/1719 [==============================] - 2s 1ms/step - loss: 2.1520 - accuracy: 0.2177 - val_loss: 2.1314 - val_accuracy: 0.2180\n",
            "Epoch 10/50\n",
            "1719/1719 [==============================] - 2s 1ms/step - loss: 2.1161 - accuracy: 0.2270 - val_loss: 2.0958 - val_accuracy: 0.2304\n",
            "Epoch 11/50\n",
            "1719/1719 [==============================] - 2s 1ms/step - loss: 2.0817 - accuracy: 0.2358 - val_loss: 2.0610 - val_accuracy: 0.2466\n",
            "Epoch 12/50\n",
            "1719/1719 [==============================] - 2s 1ms/step - loss: 2.0508 - accuracy: 0.2464 - val_loss: 2.0320 - val_accuracy: 0.2590\n",
            "Epoch 13/50\n",
            "1719/1719 [==============================] - 2s 1ms/step - loss: 2.0242 - accuracy: 0.2535 - val_loss: 2.0051 - val_accuracy: 0.2644\n",
            "Epoch 14/50\n",
            "1719/1719 [==============================] - 2s 1ms/step - loss: 2.0020 - accuracy: 0.2629 - val_loss: 1.9844 - val_accuracy: 0.2700\n",
            "Epoch 15/50\n",
            "1719/1719 [==============================] - 2s 1ms/step - loss: 1.9837 - accuracy: 0.2665 - val_loss: 1.9661 - val_accuracy: 0.2860\n",
            "Epoch 16/50\n",
            "1719/1719 [==============================] - 2s 1ms/step - loss: 1.9685 - accuracy: 0.2751 - val_loss: 1.9523 - val_accuracy: 0.2814\n",
            "Epoch 17/50\n",
            "1719/1719 [==============================] - 2s 1ms/step - loss: 1.9561 - accuracy: 0.2770 - val_loss: 1.9403 - val_accuracy: 0.2876\n",
            "Epoch 18/50\n",
            "1719/1719 [==============================] - 2s 1ms/step - loss: 1.9458 - accuracy: 0.2815 - val_loss: 1.9311 - val_accuracy: 0.2912\n",
            "Epoch 19/50\n",
            "1719/1719 [==============================] - 2s 1ms/step - loss: 1.9371 - accuracy: 0.2838 - val_loss: 1.9261 - val_accuracy: 0.3026\n",
            "Epoch 20/50\n",
            "1719/1719 [==============================] - 2s 1ms/step - loss: 1.9297 - accuracy: 0.2874 - val_loss: 1.9148 - val_accuracy: 0.2906\n",
            "Epoch 21/50\n",
            "1719/1719 [==============================] - 2s 1ms/step - loss: 1.9234 - accuracy: 0.2879 - val_loss: 1.9082 - val_accuracy: 0.2960\n",
            "Epoch 22/50\n",
            "1719/1719 [==============================] - 2s 1ms/step - loss: 1.9175 - accuracy: 0.2924 - val_loss: 1.9034 - val_accuracy: 0.3004\n",
            "Epoch 23/50\n",
            "1719/1719 [==============================] - 2s 1ms/step - loss: 1.9127 - accuracy: 0.2937 - val_loss: 1.8997 - val_accuracy: 0.2968\n",
            "Epoch 24/50\n",
            "1719/1719 [==============================] - 2s 1ms/step - loss: 1.9082 - accuracy: 0.2931 - val_loss: 1.8924 - val_accuracy: 0.3002\n",
            "Epoch 25/50\n",
            "1719/1719 [==============================] - 2s 1ms/step - loss: 1.9041 - accuracy: 0.2967 - val_loss: 1.8910 - val_accuracy: 0.3092\n",
            "Epoch 26/50\n",
            "1719/1719 [==============================] - 2s 1ms/step - loss: 1.9004 - accuracy: 0.2987 - val_loss: 1.8851 - val_accuracy: 0.2996\n",
            "Epoch 27/50\n",
            "1719/1719 [==============================] - 2s 1ms/step - loss: 1.8970 - accuracy: 0.2991 - val_loss: 1.8818 - val_accuracy: 0.3070\n",
            "Epoch 28/50\n",
            "1719/1719 [==============================] - 2s 1ms/step - loss: 1.8939 - accuracy: 0.3014 - val_loss: 1.8782 - val_accuracy: 0.3068\n",
            "Epoch 29/50\n",
            "1719/1719 [==============================] - 2s 1ms/step - loss: 1.8909 - accuracy: 0.3035 - val_loss: 1.8757 - val_accuracy: 0.3020\n",
            "Epoch 30/50\n",
            "1719/1719 [==============================] - 2s 1ms/step - loss: 1.8881 - accuracy: 0.3057 - val_loss: 1.8740 - val_accuracy: 0.3030\n",
            "Epoch 31/50\n",
            "1719/1719 [==============================] - 2s 1ms/step - loss: 1.8853 - accuracy: 0.3062 - val_loss: 1.8703 - val_accuracy: 0.3110\n",
            "Epoch 32/50\n",
            "1719/1719 [==============================] - 2s 1ms/step - loss: 1.8829 - accuracy: 0.3077 - val_loss: 1.8680 - val_accuracy: 0.3210\n",
            "Epoch 33/50\n",
            "1719/1719 [==============================] - 2s 1ms/step - loss: 1.8802 - accuracy: 0.3084 - val_loss: 1.8647 - val_accuracy: 0.3214\n",
            "Epoch 34/50\n",
            "1719/1719 [==============================] - 2s 1ms/step - loss: 1.8779 - accuracy: 0.3102 - val_loss: 1.8621 - val_accuracy: 0.3174\n",
            "Epoch 35/50\n",
            "1719/1719 [==============================] - 2s 1ms/step - loss: 1.8756 - accuracy: 0.3134 - val_loss: 1.8597 - val_accuracy: 0.3164\n",
            "Epoch 36/50\n",
            "1719/1719 [==============================] - 2s 1ms/step - loss: 1.8732 - accuracy: 0.3136 - val_loss: 1.8587 - val_accuracy: 0.3146\n",
            "Epoch 37/50\n",
            "1719/1719 [==============================] - 2s 1ms/step - loss: 1.8710 - accuracy: 0.3157 - val_loss: 1.8563 - val_accuracy: 0.3186\n",
            "Epoch 38/50\n",
            "1719/1719 [==============================] - 2s 1ms/step - loss: 1.8688 - accuracy: 0.3167 - val_loss: 1.8538 - val_accuracy: 0.3268\n",
            "Epoch 39/50\n",
            "1719/1719 [==============================] - 2s 1ms/step - loss: 1.8665 - accuracy: 0.3191 - val_loss: 1.8500 - val_accuracy: 0.3158\n",
            "Epoch 40/50\n",
            "1719/1719 [==============================] - 2s 1ms/step - loss: 1.8642 - accuracy: 0.3199 - val_loss: 1.8506 - val_accuracy: 0.3278\n",
            "Epoch 41/50\n",
            "1719/1719 [==============================] - 2s 1ms/step - loss: 1.8623 - accuracy: 0.3208 - val_loss: 1.8470 - val_accuracy: 0.3376\n",
            "Epoch 42/50\n",
            "1719/1719 [==============================] - 2s 1ms/step - loss: 1.8602 - accuracy: 0.3260 - val_loss: 1.8455 - val_accuracy: 0.3298\n",
            "Epoch 43/50\n",
            "1719/1719 [==============================] - 2s 1ms/step - loss: 1.8578 - accuracy: 0.3263 - val_loss: 1.8415 - val_accuracy: 0.3322\n",
            "Epoch 44/50\n",
            "1719/1719 [==============================] - 2s 1ms/step - loss: 1.8556 - accuracy: 0.3276 - val_loss: 1.8404 - val_accuracy: 0.3388\n",
            "Epoch 45/50\n",
            "1719/1719 [==============================] - 2s 1ms/step - loss: 1.8533 - accuracy: 0.3305 - val_loss: 1.8388 - val_accuracy: 0.3370\n",
            "Epoch 46/50\n",
            "1719/1719 [==============================] - 2s 1ms/step - loss: 1.8513 - accuracy: 0.3324 - val_loss: 1.8353 - val_accuracy: 0.3406\n",
            "Epoch 47/50\n",
            "1719/1719 [==============================] - 2s 1ms/step - loss: 1.8490 - accuracy: 0.3344 - val_loss: 1.8333 - val_accuracy: 0.3316\n",
            "Epoch 48/50\n",
            "1719/1719 [==============================] - 2s 1ms/step - loss: 1.8465 - accuracy: 0.3360 - val_loss: 1.8293 - val_accuracy: 0.3450\n",
            "Epoch 49/50\n",
            "1719/1719 [==============================] - 2s 1ms/step - loss: 1.8445 - accuracy: 0.3368 - val_loss: 1.8271 - val_accuracy: 0.3460\n",
            "Epoch 50/50\n",
            "1719/1719 [==============================] - 2s 1ms/step - loss: 1.8420 - accuracy: 0.3387 - val_loss: 1.8250 - val_accuracy: 0.3484\n"
          ],
          "name": "stdout"
        }
      ]
    },
    {
      "cell_type": "code",
      "metadata": {
        "id": "MkKSk9DZ80zg",
        "colab_type": "code",
        "colab": {
          "base_uri": "https://localhost:8080/",
          "height": 260
        },
        "outputId": "b098757b-343a-461a-f0d7-595479efd3e3"
      },
      "source": [
        "model.summary()"
      ],
      "execution_count": null,
      "outputs": [
        {
          "output_type": "stream",
          "text": [
            "Model: \"sequential\"\n",
            "_________________________________________________________________\n",
            "Layer (type)                 Output Shape              Param #   \n",
            "=================================================================\n",
            "flatten (Flatten)            (None, 28)                0         \n",
            "_________________________________________________________________\n",
            "dense (Dense)                (None, 128)               3712      \n",
            "_________________________________________________________________\n",
            "dense_1 (Dense)              (None, 10)                1290      \n",
            "=================================================================\n",
            "Total params: 5,002\n",
            "Trainable params: 5,002\n",
            "Non-trainable params: 0\n",
            "_________________________________________________________________\n"
          ],
          "name": "stdout"
        }
      ]
    },
    {
      "cell_type": "code",
      "metadata": {
        "id": "aYN8dFx7yOGD",
        "colab_type": "code",
        "colab": {
          "base_uri": "https://localhost:8080/",
          "height": 602
        },
        "outputId": "a797e074-c72e-4743-97e4-c7c3c78ab55f"
      },
      "source": [
        "#Cost/Loss Curves\n",
        "import pandas as pd\n",
        "import matplotlib.pyplot as plt\n",
        "pd.DataFrame(H.history).plot(figsize=(8, 5))\n",
        "plt.grid(True)\n",
        "plt.gca().set_ylim(0, 1)\n",
        "plt.show()\n",
        "\n",
        "plt.plot(H.history['loss'])\n",
        "plt.ylabel('cost')\n",
        "plt.xlabel('Epochs')\n",
        "plt.title(\"Cost/Loss Curve\")\n",
        "plt.show()"
      ],
      "execution_count": null,
      "outputs": [
        {
          "output_type": "display_data",
          "data": {
            "image/png": "[encoded data removed]",
            "text/plain": [
              "<Figure size 576x360 with 1 Axes>"
            ]
          },
          "metadata": {
            "tags": [],
            "needs_background": "light"
          }
        },
        {
          "output_type": "display_data",
          "data": {
            "image/png": "[encoded data removed]",
            "text/plain": [
              "<Figure size 432x288 with 1 Axes>"
            ]
          },
          "metadata": {
            "tags": [],
            "needs_background": "light"
          }
        }
      ]
    },
    {
      "cell_type": "code",
      "metadata": {
        "id": "_Ue8sVoD9EEb",
        "colab_type": "code",
        "colab": {}
      },
      "source": [
        "  # Extracting LBP features for testing\n",
        "\n",
        "predictions=[]\n",
        "predict_label=[]\n",
        "\n",
        "for im_index in range(len(test_images)):\n",
        "  imag = test_images[im_index]\n",
        "\n",
        "  histo = desc.LBPfeatures(imag)\n",
        "\n",
        "  prediction = model.predict(histo.reshape(1, -1))\n",
        "\n",
        "  predictions.append(prediction)\n",
        "  predict_label.append(test_labels[im_index])"
      ],
      "execution_count": null,
      "outputs": []
    },
    {
      "cell_type": "code",
      "metadata": {
        "id": "_8F5RUm4_Fbg",
        "colab_type": "code",
        "colab": {
          "base_uri": "https://localhost:8080/",
          "height": 52
        },
        "outputId": "331b0e6c-2f5d-4497-9c4c-5dd2c3012b3a"
      },
      "source": [
        "data_test = np.float32(data_test)\n",
        "labels_test = np.float32(labels_test)\n",
        "predict_label = np.float32(predict_label)\n",
        "\n",
        "print(np.shape(data_test))\n",
        "print(np.shape(labels_test))\n"
      ],
      "execution_count": null,
      "outputs": [
        {
          "output_type": "stream",
          "text": [
            "(10000, 28)\n",
            "(10000,)\n"
          ],
          "name": "stdout"
        }
      ]
    },
    {
      "cell_type": "code",
      "metadata": {
        "id": "aYEUBHPwzjAe",
        "colab_type": "code",
        "colab": {
          "base_uri": "https://localhost:8080/",
          "height": 52
        },
        "outputId": "5d58175a-5d8a-4066-c00a-8682a1538748"
      },
      "source": [
        "model.evaluate(data_test, predict_label)"
      ],
      "execution_count": null,
      "outputs": [
        {
          "output_type": "stream",
          "text": [
            "313/313 [==============================] - 0s 1ms/step - loss: 1.4871 - accuracy: 0.4770\n"
          ],
          "name": "stdout"
        },
        {
          "output_type": "execute_result",
          "data": {
            "text/plain": [
              "[1.4871478080749512, 0.47699999809265137]"
            ]
          },
          "metadata": {
            "tags": []
          },
          "execution_count": 98
        }
      ]
    }
  ]
}