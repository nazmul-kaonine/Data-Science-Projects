{
  "nbformat": 4,
  "nbformat_minor": 0,
  "metadata": {
    "colab": {
      "name": "HOG",
      "provenance": [],
      "collapsed_sections": [],
      "include_colab_link": true
    },
    "kernelspec": {
      "name": "python3",
      "display_name": "Python 3"
    }
  },
  "cells": [
    {
      "cell_type": "markdown",
      "metadata": {
        "id": "view-in-github",
        "colab_type": "text"
      },
      "source": [
        "<a href=\"https://colab.research.google.com/github/nazmul-kaonine/Data-Science-Projects/blob/master/Handwritten%20Digit%20Classification%20using%20Multiple%20Descriptors%20%26%20ANN/HOG.ipynb\" target=\"_parent\"><img src=\"https://colab.research.google.com/assets/colab-badge.svg\" alt=\"Open In Colab\"/></a>"
      ]
    },
    {
      "cell_type": "markdown",
      "metadata": {
        "id": "soPWtc-mgZOg",
        "colab_type": "text"
      },
      "source": [
        "#Submitted by:\n",
        "###Nazmul Kaonine\n",
        "####PostGrad- UTS"
      ]
    },
    {
      "cell_type": "markdown",
      "metadata": {
        "id": "s4mftrgqsAY7",
        "colab_type": "text"
      },
      "source": [
        "#ALL LIBRARIES AND LOADER FUNCS"
      ]
    },
    {
      "cell_type": "code",
      "metadata": {
        "id": "SGsqwhylaNZt",
        "colab_type": "code",
        "colab": {
          "base_uri": "https://localhost:8080/",
          "height": 52
        },
        "outputId": "1c382970-b2e3-42ad-f86e-5bc69a98b269"
      },
      "source": [
        "import numpy as np\n",
        "import matplotlib.pyplot as plt\n",
        "from skimage import feature\n",
        "from sklearn import svm \n",
        "%matplotlib inline\n",
        "import cv2\n",
        "import os\n",
        "import seaborn as sns \n",
        "from sklearn.model_selection import train_test_split\n",
        "from sklearn.neighbors import KNeighborsClassifier\n",
        "from sklearn import metrics"
      ],
      "execution_count": null,
      "outputs": [
        {
          "output_type": "stream",
          "text": [
            "/usr/local/lib/python3.6/dist-packages/statsmodels/tools/_testing.py:19: FutureWarning: pandas.util.testing is deprecated. Use the functions in the public API at pandas.testing instead.\n",
            "  import pandas.util.testing as tm\n"
          ],
          "name": "stderr"
        }
      ]
    },
    {
      "cell_type": "code",
      "metadata": {
        "id": "2LaJ1y4Gp1pA",
        "colab_type": "code",
        "colab": {
          "base_uri": "https://localhost:8080/",
          "height": 34
        },
        "outputId": "0b5dfa9c-8845-4b48-f453-d58ca01c1339"
      },
      "source": [
        "    os.system('wget -N http://yann.lecun.com/exdb/mnist/train-images-idx3-ubyte.gz')\n",
        "    os.system('wget -N http://yann.lecun.com/exdb/mnist/train-labels-idx1-ubyte.gz')\n",
        "    os.system('wget -N http://yann.lecun.com/exdb/mnist/t10k-images-idx3-ubyte.gz')\n",
        "    os.system('wget -N http://yann.lecun.com/exdb/mnist/t10k-labels-idx1-ubyte.gz')"
      ],
      "execution_count": null,
      "outputs": [
        {
          "output_type": "execute_result",
          "data": {
            "text/plain": [
              "0"
            ]
          },
          "metadata": {
            "tags": []
          },
          "execution_count": 3
        }
      ]
    },
    {
      "cell_type": "code",
      "metadata": {
        "id": "-GvcFJe1aiRu",
        "colab_type": "code",
        "colab": {}
      },
      "source": [
        "def load_mnist(path, kind='train'):\n",
        "    import os\n",
        "    import gzip\n",
        "    import numpy as np\n",
        "\n",
        "    \"\"\"Load MNIST data from `path`\"\"\"\n",
        "    labels_path = os.path.join(path,\n",
        "                               '%s-labels-idx1-ubyte.gz'\n",
        "                               % kind)\n",
        "    images_path = os.path.join(path,\n",
        "                               '%s-images-idx3-ubyte.gz'\n",
        "                               % kind)\n",
        "\n",
        "    with gzip.open(labels_path, 'rb') as lbpath:\n",
        "        labels = np.frombuffer(lbpath.read(), dtype=np.uint8,\n",
        "                               offset=8)\n",
        "\n",
        "    with gzip.open(images_path, 'rb') as imgpath:\n",
        "        images = np.frombuffer(imgpath.read(), dtype=np.uint8,\n",
        "                               offset=16).reshape(len(labels), 784)\n",
        "                                \n",
        "                              \n",
        "\n",
        "\n",
        "                        \n",
        "        \n",
        "\n",
        "\n",
        "    return images, labels"
      ],
      "execution_count": null,
      "outputs": []
    },
    {
      "cell_type": "code",
      "metadata": {
        "id": "92y6kmkpkRDp",
        "colab_type": "code",
        "colab": {
          "base_uri": "https://localhost:8080/",
          "height": 124
        },
        "outputId": "45d8d0a1-15fb-4af1-af11-e16c9c8f41fe"
      },
      "source": [
        "from google.colab import drive\n",
        "drive.mount('/content/gdrive')"
      ],
      "execution_count": null,
      "outputs": [
        {
          "output_type": "stream",
          "text": [
            "Go to this URL in a browser: https://accounts.google.com/o/oauth2/auth?client_id=947318989803-6bn6qk8qdgf4n4g3pfee6491hc0brc4i.apps.googleusercontent.com&redirect_uri=urn%3aietf%3awg%3aoauth%3a2.0%3aoob&response_type=code&scope=email%20https%3a%2f%2fwww.googleapis.com%2fauth%2fdocs.test%20https%3a%2f%2fwww.googleapis.com%2fauth%2fdrive%20https%3a%2f%2fwww.googleapis.com%2fauth%2fdrive.photos.readonly%20https%3a%2f%2fwww.googleapis.com%2fauth%2fpeopleapi.readonly\n",
            "\n",
            "Enter your authorization code:\n",
            "··········\n",
            "Mounted at /content/gdrive\n"
          ],
          "name": "stdout"
        }
      ]
    },
    {
      "cell_type": "code",
      "metadata": {
        "id": "4ZYln6SWxP5O",
        "colab_type": "code",
        "colab": {}
      },
      "source": [
        "X_train, y_train = load_mnist('/content/gdrive/My Drive/DLA2/', kind='train')\n",
        "X_test, y_test = load_mnist('/content/gdrive/My Drive/DLA2/', kind='t10k')\n",
        "\n",
        "\n",
        "labelNames = [\"0\", \"1\", \"2\", \"3\", \"4\",\n",
        "\t\"5\", \"6\", \"7\", \"8\", \"9\"]"
      ],
      "execution_count": null,
      "outputs": []
    },
    {
      "cell_type": "code",
      "metadata": {
        "id": "0Tiva_NdsrYi",
        "colab_type": "code",
        "colab": {
          "base_uri": "https://localhost:8080/",
          "height": 34
        },
        "outputId": "46093613-41a3-42d5-91aa-ea52c2c4b66f"
      },
      "source": [
        "X_train.shape"
      ],
      "execution_count": null,
      "outputs": [
        {
          "output_type": "execute_result",
          "data": {
            "text/plain": [
              "(60000, 784)"
            ]
          },
          "metadata": {
            "tags": []
          },
          "execution_count": 11
        }
      ]
    },
    {
      "cell_type": "markdown",
      "metadata": {
        "id": "CRieN7Tqr2u4",
        "colab_type": "text"
      },
      "source": [
        "#VISUALIZATIONS"
      ]
    },
    {
      "cell_type": "code",
      "metadata": {
        "id": "iitoJO7xH-Po",
        "colab_type": "code",
        "colab": {
          "base_uri": "https://localhost:8080/",
          "height": 52
        },
        "outputId": "8929095d-06bb-4bc4-a21e-0a794c6adc36"
      },
      "source": [
        "X_train=X_train.reshape(-1,28,28)\n",
        "X_test=X_test.reshape(-1,28,28)\n",
        "\n",
        "#Reshaped the data\n",
        "\n",
        "print(\"Train dataset after reshaping:{}\".format(np.shape(X_train)))\n",
        "print(\"Test dataset after reshaping :{}\".format(np.shape(X_test)))"
      ],
      "execution_count": null,
      "outputs": [
        {
          "output_type": "stream",
          "text": [
            "Train dataset after reshaping:(60000, 28, 28)\n",
            "Test dataset after reshaping :(10000, 28, 28)\n"
          ],
          "name": "stdout"
        }
      ]
    },
    {
      "cell_type": "code",
      "metadata": {
        "id": "oiObXk8Hp4Uj",
        "colab_type": "code",
        "colab": {}
      },
      "source": [
        "def display_image(position):\n",
        "    image = X_train[position].squeeze()\n",
        "    plt.title('Example %d. Label: %d' % (position, y_train[position]))\n",
        "    plt.imshow(image, cmap=plt.cm.gray_r)"
      ],
      "execution_count": null,
      "outputs": []
    },
    {
      "cell_type": "code",
      "metadata": {
        "id": "pFKo5eJEsRAm",
        "colab_type": "code",
        "colab": {}
      },
      "source": [
        "sns.countplot(y_train)\n",
        "plt.show()\n",
        "#shows digit label counts"
      ],
      "execution_count": null,
      "outputs": []
    },
    {
      "cell_type": "code",
      "metadata": {
        "id": "cIWVnfJtsTyP",
        "colab_type": "code",
        "colab": {}
      },
      "source": [
        "fig = plt.figure()\n",
        "for i in range(9):\n",
        "  plt.subplot(3,3,i+1)\n",
        "  plt.tight_layout()\n",
        "  plt.imshow(X_train[i], cmap='gray', interpolation='none')\n",
        "  plt.title(\"Digit: {}\".format(y_train[i]))\n",
        "  plt.xticks([])\n",
        "  plt.yticks([])\n",
        "fig"
      ],
      "execution_count": null,
      "outputs": []
    },
    {
      "cell_type": "code",
      "metadata": {
        "id": "94jwYzICttin",
        "colab_type": "code",
        "colab": {
          "base_uri": "https://localhost:8080/",
          "height": 545
        },
        "outputId": "ff50d932-e7cc-4677-9863-60ab85da7e3c"
      },
      "source": [
        "display_image(0)\n",
        "plt.show()\n",
        "display_image(59999)\n",
        "#to view specific images"
      ],
      "execution_count": null,
      "outputs": [
        {
          "output_type": "display_data",
          "data": {
            "image/png": "[encoded data removed]",
            "text/plain": [
              "<Figure size 432x288 with 1 Axes>"
            ]
          },
          "metadata": {
            "tags": [],
            "needs_background": "light"
          }
        },
        {
          "output_type": "display_data",
          "data": {
            "image/png": "[encoded data removed]",
            "text/plain": [
              "<Figure size 432x288 with 1 Axes>"
            ]
          },
          "metadata": {
            "tags": [],
            "needs_background": "light"
          }
        }
      ]
    },
    {
      "cell_type": "markdown",
      "metadata": {
        "id": "j2gZ_Cz4QmMR",
        "colab_type": "text"
      },
      "source": [
        "#HOG "
      ]
    },
    {
      "cell_type": "markdown",
      "metadata": {
        "id": "Ri2H7Ti4svHU",
        "colab_type": "text"
      },
      "source": [
        "##SVM"
      ]
    },
    {
      "cell_type": "code",
      "metadata": {
        "id": "ZLjq8ULUr6NJ",
        "colab_type": "code",
        "colab": {
          "base_uri": "https://localhost:8080/",
          "height": 52
        },
        "outputId": "6166ed98-28a4-48d0-d039-599add0e8666"
      },
      "source": [
        "X_train=X_train.reshape(-1,28,28)\n",
        "X_test=X_test.reshape(-1,28,28)\n",
        "\n",
        "# print the size of the result reshaped train and test data splits\n",
        "\n",
        "print(\"Train dataset after reshaping:{}\".format(np.shape(X_train)))\n",
        "print(\"Test dataset after reshaping :{}\".format(np.shape(X_test)))"
      ],
      "execution_count": null,
      "outputs": [
        {
          "output_type": "stream",
          "text": [
            "Train dataset after reshaping:(60000, 28, 28)\n",
            "Test dataset after reshaping :(10000, 28, 28)\n"
          ],
          "name": "stdout"
        }
      ]
    },
    {
      "cell_type": "code",
      "metadata": {
        "id": "FP-wXJ8DWCY2",
        "colab_type": "code",
        "colab": {
          "base_uri": "https://localhost:8080/",
          "height": 69
        },
        "outputId": "1f3cbd12-6f0a-4e4f-b1b4-386b4f92ad0a"
      },
      "source": [
        "#HOG TRAINING\n",
        "print(\"Extracting features from training dataset...\")\n",
        "data_train = []\n",
        "labels_train = []\n",
        "\n",
        "for img_index in range(len(X_train)):\n",
        "\n",
        "  image = (X_train[img_index])\n",
        " \n",
        "  H = feature.hog(image, orientations=9, pixels_per_cell=(10, 10),\n",
        "                  cells_per_block=(2, 2), transform_sqrt=True, block_norm=\"L2-Hys\")\n",
        " \n",
        "\n",
        "  data_train.append(H)\n",
        "  labels_train.append(y_train[img_index])\n",
        "\n",
        "print(np.shape(data_train))\n",
        "print(np.shape(labels_train))"
      ],
      "execution_count": null,
      "outputs": [
        {
          "output_type": "stream",
          "text": [
            "Extracting features from training dataset...\n",
            "(60000, 36)\n",
            "(60000,)\n"
          ],
          "name": "stdout"
        }
      ]
    },
    {
      "cell_type": "code",
      "metadata": {
        "id": "2D5HuIKeYqrc",
        "colab_type": "code",
        "colab": {
          "base_uri": "https://localhost:8080/",
          "height": 52
        },
        "outputId": "f32b6a21-7d1f-46d1-da9a-3e7931f561d2"
      },
      "source": [
        "model = svm.SVC(kernel='rbf',C=100.0, random_state=42) # rbf Kernel\n",
        "# training\n",
        "model.fit(data_train, labels_train)\n",
        "\n",
        "print(np.shape(X_train))\n",
        "print(np.shape(y_train))"
      ],
      "execution_count": null,
      "outputs": [
        {
          "output_type": "stream",
          "text": [
            "(60000, 28, 28)\n",
            "(60000,)\n"
          ],
          "name": "stdout"
        }
      ]
    },
    {
      "cell_type": "code",
      "metadata": {
        "id": "SoapK1sgJiu4",
        "colab_type": "code",
        "colab": {
          "base_uri": "https://localhost:8080/",
          "height": 34
        },
        "outputId": "33f12962-c802-4bd8-85f7-75c6c9f4e021"
      },
      "source": [
        "print(\"Train set Accuracy: {:.2f}\".format(model.score(data_train,labels_train)))"
      ],
      "execution_count": null,
      "outputs": [
        {
          "output_type": "stream",
          "text": [
            "Train set Accuracy: 0.11\n"
          ],
          "name": "stdout"
        }
      ]
    },
    {
      "cell_type": "code",
      "metadata": {
        "id": "DMqG9mrY3XIO",
        "colab_type": "code",
        "colab": {
          "base_uri": "https://localhost:8080/",
          "height": 69
        },
        "outputId": "3a0b77eb-f09a-4fbd-c23e-1c64cb5574b5"
      },
      "source": [
        "#HOG TESTING\n",
        "\n",
        "print(\"Extracting features from test dataset...\")\n",
        "predict_test = []\n",
        "labels_test = []\n",
        "data_test=[]\n",
        "\n",
        "for img_ind in range(len(X_test)):\n",
        "\n",
        "  img=X_test[img_ind]\n",
        "  H = feature.hog(img, orientations=9, pixels_per_cell=(10, 10),\n",
        "                  cells_per_block=(2, 2), transform_sqrt=True, block_norm=\"L2-Hys\")\n",
        "  pred = model.predict(H.reshape(1, -1))[0]\n",
        " \n",
        "  predict_test.append(pred)\n",
        "  data_test.append(H)\n",
        "  \n",
        "  labels_test.append(y_test[img_ind])\n",
        "  \n",
        "print(np.shape(predict_test))\n",
        "print(np.shape(labels_test))"
      ],
      "execution_count": null,
      "outputs": [
        {
          "output_type": "stream",
          "text": [
            "Extracting features from test dataset...\n",
            "(10000, 10)\n",
            "(10000,)\n"
          ],
          "name": "stdout"
        }
      ]
    },
    {
      "cell_type": "code",
      "metadata": {
        "id": "ViLACYEw3xkf",
        "colab_type": "code",
        "colab": {
          "base_uri": "https://localhost:8080/",
          "height": 34
        },
        "outputId": "8f5f1cd4-3af8-4bd4-c005-9c8b8d63d657"
      },
      "source": [
        "# Test set Accuracy\n",
        "accuracy = metrics.accuracy_score(y_test, predict_test)\n",
        "print(\"Accuracy on test dataset:\",accuracy)\n",
        "# Expected test Accuracy 0.75"
      ],
      "execution_count": null,
      "outputs": [
        {
          "output_type": "stream",
          "text": [
            "Accuracy on test dataset: 0.9095\n"
          ],
          "name": "stdout"
        }
      ]
    },
    {
      "cell_type": "code",
      "metadata": {
        "id": "WbYf8RL-34zi",
        "colab_type": "code",
        "colab": {
          "base_uri": "https://localhost:8080/",
          "height": 700
        },
        "outputId": "974a56e6-0cb5-4189-a25f-f4f98e8b7747"
      },
      "source": [
        "# plot the confusion matrix\n",
        "cm  = metrics.confusion_matrix(y_test, predict_test)\n",
        "print(cm)\n",
        "\n",
        "# Plot confusion matrix using seaborn library\n",
        "plt.figure(figsize=(9,9))\n",
        "sns.heatmap(cm, annot=True, fmt=\".3f\", linewidths=.5, square = True, cmap = 'Blues_r');\n",
        "plt.ylabel('Actual label');\n",
        "plt.xlabel('Predicted label');\n",
        "all_sample_title = 'Accuracy Score: {0}'.format(accuracy)\n",
        "plt.title(all_sample_title, size = 15);"
      ],
      "execution_count": null,
      "outputs": [
        {
          "output_type": "stream",
          "text": [
            "[[ 922    5    5    2    1    3   20    1   16    5]\n",
            " [   6 1118    4    1    0    0    4    1    1    0]\n",
            " [   6    3  921   42    3    1    1   33   19    3]\n",
            " [   2    1   38  892    1   27    0   21   23    5]\n",
            " [   3    2    6    1  915    1   37    4    5    8]\n",
            " [   5    1    6   30    3  808    8    4   18    9]\n",
            " [  18    3    3    0   33   10  881    0    7    3]\n",
            " [   2    7   40   34    1    5    0  926    2   11]\n",
            " [  35    1   21   34    6   22   15    1  805   34]\n",
            " [  12    7    5   12   13   13    2   13   25  907]]\n"
          ],
          "name": "stdout"
        },
        {
          "output_type": "display_data",
          "data": {
            "image/png": "[encoded data removed]",
            "text/plain": [
              "<Figure size 648x648 with 2 Axes>"
            ]
          },
          "metadata": {
            "tags": [],
            "needs_background": "light"
          }
        }
      ]
    },
    {
      "cell_type": "code",
      "metadata": {
        "id": "r4SON5bf4Fhy",
        "colab_type": "code",
        "colab": {}
      },
      "source": [
        "images = []\n",
        "orig_labels=[]\n",
        "\n",
        "for i in np.random.choice(np.arange(0, len(y_test)), size=(16,)):\n",
        " \n",
        "  test_img = (X_test[i])\n",
        "  H1 = feature.hog(test_img, orientations=9, pixels_per_cell=(10, 10),\n",
        "                  cells_per_block=(2, 2), transform_sqrt=True, block_norm=\"L2-Hys\")\n",
        "  pred = model.predict(H1.reshape(1, -1))[0]\n",
        "\n",
        "  label = labelNames[pred]\n",
        "  orig_labels.append(labelNames[y_test[i]])\n",
        "  color = (0, 255, 0)\n",
        "  test_img = cv2.merge([test_img] * 3)\n",
        "  test_img = cv2.resize(test_img, (96, 96), interpolation=cv2.INTER_LINEAR)\n",
        "  cv2.putText(test_img, label, (5, 20), cv2.FONT_HERSHEY_SIMPLEX, 0.50, color, 2)\n",
        "  images.append(test_img)"
      ],
      "execution_count": null,
      "outputs": []
    },
    {
      "cell_type": "code",
      "metadata": {
        "id": "gR5tfl-r4UUp",
        "colab_type": "code",
        "colab": {
          "base_uri": "https://localhost:8080/",
          "height": 34
        },
        "outputId": "0fb32617-91b9-4315-8d46-32b315ad1e42"
      },
      "source": [
        "np.shape(images[1])"
      ],
      "execution_count": null,
      "outputs": [
        {
          "output_type": "execute_result",
          "data": {
            "text/plain": [
              "(96, 96, 3)"
            ]
          },
          "metadata": {
            "tags": []
          },
          "execution_count": 18
        }
      ]
    },
    {
      "cell_type": "code",
      "metadata": {
        "id": "yZnVw8pg4W9h",
        "colab_type": "code",
        "colab": {
          "base_uri": "https://localhost:8080/",
          "height": 338
        },
        "outputId": "809562a2-6ce1-4bc0-d21a-d3eb459b9525"
      },
      "source": [
        "#Printing some tested samples\n",
        "fig = plt.figure()\n",
        "ax1 = fig.add_subplot(2,2,1)\n",
        "ax1.imshow(images[1])\n",
        "print(orig_labels[1])\n",
        "ax2 = fig.add_subplot(2,2,2)\n",
        "ax2.imshow(images[2])\n",
        "print(orig_labels[2])\n",
        "ax3 = fig.add_subplot(2,2,3)\n",
        "ax3.imshow(images[3])\n",
        "print(orig_labels[3])\n",
        "ax4 = fig.add_subplot(2,2,4)\n",
        "ax4.imshow(images[4])\n",
        "print(orig_labels[4])"
      ],
      "execution_count": null,
      "outputs": [
        {
          "output_type": "stream",
          "text": [
            "4\n",
            "5\n",
            "5\n",
            "1\n"
          ],
          "name": "stdout"
        },
        {
          "output_type": "display_data",
          "data": {
            "image/png": "[encoded data removed]",
            "text/plain": [
              "<Figure size 432x288 with 4 Axes>"
            ]
          },
          "metadata": {
            "tags": [],
            "needs_background": "light"
          }
        }
      ]
    },
    {
      "cell_type": "markdown",
      "metadata": {
        "id": "lpbHqagR32Al",
        "colab_type": "text"
      },
      "source": [
        "#KNN"
      ]
    },
    {
      "cell_type": "code",
      "metadata": {
        "id": "cLPcZ93O31xk",
        "colab_type": "code",
        "colab": {
          "base_uri": "https://localhost:8080/",
          "height": 52
        },
        "outputId": "669645d3-893c-45ff-d809-08adc728e2af"
      },
      "source": [
        "X_train=X_train.reshape(-1,28,28)\n",
        "X_test=X_test.reshape(-1,28,28)\n",
        "\n",
        "# print the size of the result reshaped train and test data splits\n",
        "\n",
        "print(\"Train dataset after reshaping:{}\".format(np.shape(X_train)))\n",
        "print(\"Test dataset after reshaping :{}\".format(np.shape(X_test)))"
      ],
      "execution_count": null,
      "outputs": [
        {
          "output_type": "stream",
          "text": [
            "Train dataset after reshaping:(60000, 28, 28)\n",
            "Test dataset after reshaping :(10000, 28, 28)\n"
          ],
          "name": "stdout"
        }
      ]
    },
    {
      "cell_type": "code",
      "metadata": {
        "id": "nz5sJPIdulQd",
        "colab_type": "code",
        "colab": {
          "base_uri": "https://localhost:8080/",
          "height": 69
        },
        "outputId": "a6ddf7d8-75a1-4030-d1bd-283b274887d1"
      },
      "source": [
        "print(\"Extracting features from training dataset...\")\n",
        "data_train = []\n",
        "labels_train = []\n",
        "\n",
        "for img_index in range(len(X_train)):\n",
        "\n",
        "  image = (X_train[img_index])\n",
        " \n",
        "  H = feature.hog(image, orientations=9, pixels_per_cell=(10, 10),\n",
        "                  cells_per_block=(2, 2), transform_sqrt=True, block_norm=\"L2-Hys\")\n",
        " \n",
        "\n",
        "  data_train.append(H)\n",
        "  labels_train.append(y_train[img_index])\n",
        "\n",
        "print(np.shape(data_train))\n",
        "print(np.shape(labels_train))"
      ],
      "execution_count": null,
      "outputs": [
        {
          "output_type": "stream",
          "text": [
            "Extracting features from training dataset...\n",
            "(60000, 36)\n",
            "(60000,)\n"
          ],
          "name": "stdout"
        }
      ]
    },
    {
      "cell_type": "code",
      "metadata": {
        "id": "VpkB4CbuTu9P",
        "colab_type": "code",
        "colab": {
          "base_uri": "https://localhost:8080/",
          "height": 69
        },
        "outputId": "d26339fc-6cca-4974-a1db-fa29a8c49ca1"
      },
      "source": [
        "model=KNeighborsClassifier(n_neighbors=15)\n",
        "model.fit(data_train,labels_train)\n"
      ],
      "execution_count": null,
      "outputs": [
        {
          "output_type": "execute_result",
          "data": {
            "text/plain": [
              "KNeighborsClassifier(algorithm='auto', leaf_size=30, metric='minkowski',\n",
              "                     metric_params=None, n_jobs=None, n_neighbors=15, p=2,\n",
              "                     weights='uniform')"
            ]
          },
          "metadata": {
            "tags": []
          },
          "execution_count": 14
        }
      ]
    },
    {
      "cell_type": "code",
      "metadata": {
        "id": "VrDOvD9UT6kc",
        "colab_type": "code",
        "colab": {
          "base_uri": "https://localhost:8080/",
          "height": 34
        },
        "outputId": "3b30576c-c9b9-4766-9ce1-fc25c71cb949"
      },
      "source": [
        "print(\"Train set Accuracy: {:.2f}\".format(model.score(data_train,labels_train)))"
      ],
      "execution_count": null,
      "outputs": [
        {
          "output_type": "stream",
          "text": [
            "Train set Accuracy: 0.89\n"
          ],
          "name": "stdout"
        }
      ]
    },
    {
      "cell_type": "code",
      "metadata": {
        "id": "ORETNUgnn6VD",
        "colab_type": "code",
        "colab": {
          "base_uri": "https://localhost:8080/",
          "height": 69
        },
        "outputId": "7534376f-2a99-4e75-b775-5d08734e4bf9"
      },
      "source": [
        "print(\"Extracting features from test dataset...\")\n",
        "predict_test = []\n",
        "labels_test = []\n",
        "data_test=[]\n",
        "for img_ind in range(len(X_test)):\n",
        "  img=X_test[img_ind]\n",
        "  H = feature.hog(img, orientations=9, pixels_per_cell=(10, 10),\n",
        "                  cells_per_block=(2, 2), transform_sqrt=True, block_norm=\"L2-Hys\")\n",
        "  pred = model.predict(H.reshape(1, -1))[0]\n",
        "  predict_test.append(pred)\n",
        "  data_test.append(H)\n",
        "  \n",
        "  labels_test.append(y_test[img_ind])\n",
        "  \n",
        "print(np.shape(predict_test))\n",
        "print(np.shape(labels_test))"
      ],
      "execution_count": null,
      "outputs": [
        {
          "output_type": "stream",
          "text": [
            "Extracting features from test dataset...\n",
            "(10000,)\n",
            "(10000,)\n"
          ],
          "name": "stdout"
        }
      ]
    },
    {
      "cell_type": "code",
      "metadata": {
        "id": "RAx1L_dkn9vd",
        "colab_type": "code",
        "colab": {
          "base_uri": "https://localhost:8080/",
          "height": 34
        },
        "outputId": "826653cf-ddc7-483f-e0b5-7551f477192d"
      },
      "source": [
        "# Test set Accuracy\n",
        "accuracy = metrics.accuracy_score(y_test, predict_test)\n",
        "print(\"Accuracy on test dataset:\",accuracy)"
      ],
      "execution_count": null,
      "outputs": [
        {
          "output_type": "stream",
          "text": [
            "Accuracy on test dataset: 0.8792\n"
          ],
          "name": "stdout"
        }
      ]
    },
    {
      "cell_type": "code",
      "metadata": {
        "id": "EujNtY22oBE2",
        "colab_type": "code",
        "colab": {
          "base_uri": "https://localhost:8080/",
          "height": 700
        },
        "outputId": "61b1f5b8-6c3a-4380-9a68-e2b42ad3496f"
      },
      "source": [
        "#confusion matrix\n",
        "cm  = metrics.confusion_matrix(y_test, predict_test)\n",
        "print(cm)\n",
        "\n",
        "#confusion matrix using seaborn library\n",
        "plt.figure(figsize=(9,9))\n",
        "sns.heatmap(cm, annot=True, fmt=\".3f\", linewidths=.5, square = True, cmap = 'Blues_r');\n",
        "plt.ylabel('Actual label');\n",
        "plt.xlabel('Predicted label');\n",
        "all_sample_title = 'Accuracy Score: {0}'.format(accuracy)\n",
        "plt.title(all_sample_title, size = 15);"
      ],
      "execution_count": null,
      "outputs": [
        {
          "output_type": "stream",
          "text": [
            "[[ 904    5    6    2    1    5   20    2   17   18]\n",
            " [   5 1120    2    2    1    0    4    0    1    0]\n",
            " [  18    3  879   45    7    3    3   40   16   18]\n",
            " [   4    1   55  833    0   31    0   22   50   14]\n",
            " [   3    4   13    1  840    1  103    0    6   11]\n",
            " [   6    3   16   46    2  754   17    0   33   15]\n",
            " [  21    2    5    2   43   17  855    1    5    7]\n",
            " [  22    7   47   43    1    8    1  869    8   22]\n",
            " [  53    1   25   48    3   32   24    4  729   55]\n",
            " [  19    3    4   16    4   12   10    7   41  893]]\n"
          ],
          "name": "stdout"
        },
        {
          "output_type": "display_data",
          "data": {
            "image/png": "[encoded data removed]",
            "text/plain": [
              "<Figure size 648x648 with 2 Axes>"
            ]
          },
          "metadata": {
            "tags": [],
            "needs_background": "light"
          }
        }
      ]
    },
    {
      "cell_type": "code",
      "metadata": {
        "id": "VB9jJY0M8G3b",
        "colab_type": "code",
        "colab": {}
      },
      "source": [
        "images = []\n",
        "orig_labels=[]\n",
        "\n",
        "for i in np.random.choice(np.arange(0, len(y_test)), size=(16,)):\n",
        "  \n",
        "  test_img = (X_test[i])\n",
        "  H1 = feature.hog(test_img, orientations=9, pixels_per_cell=(10, 10),\n",
        "                  cells_per_block=(2, 2), transform_sqrt=True, block_norm=\"L2-Hys\")\n",
        "  pred = model.predict(H1.reshape(1, -1))[0]\n",
        "\n",
        "  label = labelNames[pred]\n",
        "  orig_labels.append(labelNames[y_test[i]])\n",
        "  color = (0, 255, 0)\n",
        "  test_img = cv2.merge([test_img] * 3)\n",
        "  test_img = cv2.resize(test_img, (96, 96), interpolation=cv2.INTER_LINEAR)\n",
        "  cv2.putText(test_img, label, (5, 20), cv2.FONT_HERSHEY_SIMPLEX, 0.50, color, 2)\n",
        "  images.append(test_img)"
      ],
      "execution_count": null,
      "outputs": []
    },
    {
      "cell_type": "code",
      "metadata": {
        "id": "DLLrJx0X8McR",
        "colab_type": "code",
        "colab": {
          "base_uri": "https://localhost:8080/",
          "height": 338
        },
        "outputId": "f8471689-9d4c-4926-c314-f9956d1d202f"
      },
      "source": [
        "fig = plt.figure()\n",
        "ax1 = fig.add_subplot(2,2,1)\n",
        "ax1.imshow(images[1])\n",
        "print(orig_labels[1])\n",
        "ax2 = fig.add_subplot(2,2,2)\n",
        "ax2.imshow(images[2])\n",
        "print(orig_labels[2])\n",
        "ax3 = fig.add_subplot(2,2,3)\n",
        "ax3.imshow(images[3])\n",
        "print(orig_labels[3])\n",
        "ax4 = fig.add_subplot(2,2,4)\n",
        "ax4.imshow(images[4])\n",
        "print(orig_labels[4])"
      ],
      "execution_count": null,
      "outputs": [
        {
          "output_type": "stream",
          "text": [
            "6\n",
            "3\n",
            "3\n",
            "3\n"
          ],
          "name": "stdout"
        },
        {
          "output_type": "display_data",
          "data": {
            "image/png": "[encoded data removed]",
            "text/plain": [
              "<Figure size 432x288 with 4 Axes>"
            ]
          },
          "metadata": {
            "tags": [],
            "needs_background": "light"
          }
        }
      ]
    },
    {
      "cell_type": "markdown",
      "metadata": {
        "id": "vg_4PWv79Ghv",
        "colab_type": "text"
      },
      "source": [
        "#ANN"
      ]
    },
    {
      "cell_type": "code",
      "metadata": {
        "id": "IMyz84VjOBUZ",
        "colab_type": "code",
        "colab": {
          "base_uri": "https://localhost:8080/",
          "height": 52
        },
        "outputId": "34a7b620-88e3-4bf6-d60c-9f67113fa82e"
      },
      "source": [
        "X_train=X_train.reshape(-1,28,28)\n",
        "X_test=X_test.reshape(-1,28,28)\n",
        "\n",
        "print(\"Train dataset after reshaping:{}\".format(np.shape(X_train)))\n",
        "print(\"Test dataset after reshaping :{}\".format(np.shape(X_test)))"
      ],
      "execution_count": null,
      "outputs": [
        {
          "output_type": "stream",
          "text": [
            "Train dataset after reshaping:(60000, 28, 28)\n",
            "Test dataset after reshaping :(10000, 28, 28)\n"
          ],
          "name": "stdout"
        }
      ]
    },
    {
      "cell_type": "code",
      "metadata": {
        "id": "oixF6wTB9J5o",
        "colab_type": "code",
        "colab": {
          "base_uri": "https://localhost:8080/",
          "height": 86
        },
        "outputId": "c20a9e8c-adb4-43da-f80a-61b277eee82f"
      },
      "source": [
        "import os\n",
        "import numpy as np\n",
        "import tensorflow as tf\n",
        "from tensorflow import keras\n",
        "print(tf.__version__)\n",
        "print(keras.__version__)\n",
        "%load_ext tensorboard\n",
        "\n",
        "Mnist=tf.keras.datasets.mnist\n",
        "(train_images, train_labels), (test_images, test_labels) = Mnist.load_data()\n",
        "\n"
      ],
      "execution_count": null,
      "outputs": [
        {
          "output_type": "stream",
          "text": [
            "2.2.0-rc3\n",
            "2.3.0-tf\n",
            "Downloading data from https://storage.googleapis.com/tensorflow/tf-keras-datasets/mnist.npz\n",
            "11493376/11490434 [==============================] - 0s 0us/step\n"
          ],
          "name": "stdout"
        }
      ]
    },
    {
      "cell_type": "code",
      "metadata": {
        "id": "n_I1hCDMYWnm",
        "colab_type": "code",
        "colab": {
          "base_uri": "https://localhost:8080/",
          "height": 69
        },
        "outputId": "137dd13f-bbe7-4355-e9ec-5182371b8fc2"
      },
      "source": [
        "print(\"Extracting features from training dataset...\")\n",
        "data_train = []\n",
        "labels_train = []\n",
        "\n",
        "for img_index in range(len(train_images)):\n",
        "  image = (train_images[img_index])\n",
        "  H = feature.hog(image, orientations=9, pixels_per_cell=(10, 10),\n",
        "                  cells_per_block=(2, 2), transform_sqrt=True, block_norm=\"L2-Hys\")\n",
        " \n",
        "  data_train.append(H)\n",
        "  labels_train.append(train_labels[img_index])\n",
        "\n",
        "print(np.shape(data_train))\n",
        "print(np.shape(labels_train))"
      ],
      "execution_count": null,
      "outputs": [
        {
          "output_type": "stream",
          "text": [
            "Extracting features from training dataset...\n",
            "(60000, 36)\n",
            "(60000,)\n"
          ],
          "name": "stdout"
        }
      ]
    },
    {
      "cell_type": "code",
      "metadata": {
        "id": "7hEmat--Pyc5",
        "colab_type": "code",
        "colab": {
          "base_uri": "https://localhost:8080/",
          "height": 104
        },
        "outputId": "9ddb69b0-f1d7-4eb0-d49e-0e8b010f4fd2"
      },
      "source": [
        "data_train = np.float32(data_train)\n",
        "labels_train = np.float32(labels_train)\n",
        "\n",
        "valid_images= data_train[:5000]\n",
        "valid_labels = labels_train[:5000]\n",
        "\n",
        "\n",
        "train_images  = data_train[5000:]\n",
        "train_labels=labels_train[5000:]\n",
        "\n",
        "print(np.shape(train_images))\n",
        "print(np.shape(train_labels))\n",
        "print(np.shape(valid_images))\n",
        "print(np.shape(valid_labels))\n",
        "print(np.shape(test_images))\n"
      ],
      "execution_count": null,
      "outputs": [
        {
          "output_type": "stream",
          "text": [
            "(55000, 36)\n",
            "(55000,)\n",
            "(5000, 36)\n",
            "(5000,)\n",
            "(10000, 28, 28)\n"
          ],
          "name": "stdout"
        }
      ]
    },
    {
      "cell_type": "code",
      "metadata": {
        "id": "IypFR6Q-Yff4",
        "colab_type": "code",
        "colab": {}
      },
      "source": [
        "model = tf.keras.models.Sequential([tf.keras.layers.Flatten(input_shape=[36]), \n",
        "                                    tf.keras.layers.Dense(128, activation=tf.nn.relu), \n",
        "                                    tf.keras.layers.Dense(10, activation=tf.nn.softmax)])"
      ],
      "execution_count": null,
      "outputs": []
    },
    {
      "cell_type": "code",
      "metadata": {
        "id": "e63DdBzwOf32",
        "colab_type": "code",
        "colab": {
          "base_uri": "https://localhost:8080/",
          "height": 1000
        },
        "outputId": "09134f50-4d63-4bf4-90b3-f3428c2f37b0"
      },
      "source": [
        "model.compile(optimizer = tf.optimizers.Adam(),\n",
        "              loss = 'sparse_categorical_crossentropy',\n",
        "              metrics=['accuracy'])\n",
        "\n",
        "H=model.fit(train_images, train_labels, epochs=50,validation_data=(valid_images, valid_labels))"
      ],
      "execution_count": null,
      "outputs": [
        {
          "output_type": "stream",
          "text": [
            "Epoch 1/50\n",
            "1719/1719 [==============================] - 3s 1ms/step - loss: 0.8159 - accuracy: 0.7744 - val_loss: 0.5213 - val_accuracy: 0.8338\n",
            "Epoch 2/50\n",
            "1719/1719 [==============================] - 2s 1ms/step - loss: 0.5115 - accuracy: 0.8374 - val_loss: 0.4665 - val_accuracy: 0.8510\n",
            "Epoch 3/50\n",
            "1719/1719 [==============================] - 2s 1ms/step - loss: 0.4648 - accuracy: 0.8512 - val_loss: 0.4251 - val_accuracy: 0.8600\n",
            "Epoch 4/50\n",
            "1719/1719 [==============================] - 2s 1ms/step - loss: 0.4273 - accuracy: 0.8635 - val_loss: 0.3907 - val_accuracy: 0.8736\n",
            "Epoch 5/50\n",
            "1719/1719 [==============================] - 2s 1ms/step - loss: 0.3990 - accuracy: 0.8717 - val_loss: 0.3646 - val_accuracy: 0.8796\n",
            "Epoch 6/50\n",
            "1719/1719 [==============================] - 2s 1ms/step - loss: 0.3771 - accuracy: 0.8790 - val_loss: 0.3528 - val_accuracy: 0.8806\n",
            "Epoch 7/50\n",
            "1719/1719 [==============================] - 2s 1ms/step - loss: 0.3611 - accuracy: 0.8833 - val_loss: 0.3384 - val_accuracy: 0.8890\n",
            "Epoch 8/50\n",
            "1719/1719 [==============================] - 2s 1ms/step - loss: 0.3480 - accuracy: 0.8870 - val_loss: 0.3169 - val_accuracy: 0.8958\n",
            "Epoch 9/50\n",
            "1719/1719 [==============================] - 2s 1ms/step - loss: 0.3373 - accuracy: 0.8897 - val_loss: 0.3172 - val_accuracy: 0.8958\n",
            "Epoch 10/50\n",
            "1719/1719 [==============================] - 2s 1ms/step - loss: 0.3281 - accuracy: 0.8929 - val_loss: 0.3046 - val_accuracy: 0.9004\n",
            "Epoch 11/50\n",
            "1719/1719 [==============================] - 2s 1ms/step - loss: 0.3199 - accuracy: 0.8952 - val_loss: 0.2974 - val_accuracy: 0.9014\n",
            "Epoch 12/50\n",
            "1719/1719 [==============================] - 2s 1ms/step - loss: 0.3127 - accuracy: 0.8978 - val_loss: 0.2992 - val_accuracy: 0.9008\n",
            "Epoch 13/50\n",
            "1719/1719 [==============================] - 2s 1ms/step - loss: 0.3068 - accuracy: 0.8998 - val_loss: 0.2923 - val_accuracy: 0.9018\n",
            "Epoch 14/50\n",
            "1719/1719 [==============================] - 2s 1ms/step - loss: 0.3013 - accuracy: 0.9012 - val_loss: 0.2847 - val_accuracy: 0.9036\n",
            "Epoch 15/50\n",
            "1719/1719 [==============================] - 3s 1ms/step - loss: 0.2958 - accuracy: 0.9023 - val_loss: 0.2921 - val_accuracy: 0.9030\n",
            "Epoch 16/50\n",
            "1719/1719 [==============================] - 3s 2ms/step - loss: 0.2917 - accuracy: 0.9047 - val_loss: 0.2802 - val_accuracy: 0.9064\n",
            "Epoch 17/50\n",
            "1719/1719 [==============================] - 3s 1ms/step - loss: 0.2876 - accuracy: 0.9055 - val_loss: 0.2794 - val_accuracy: 0.9064\n",
            "Epoch 18/50\n",
            "1719/1719 [==============================] - 2s 1ms/step - loss: 0.2840 - accuracy: 0.9067 - val_loss: 0.2778 - val_accuracy: 0.9060\n",
            "Epoch 19/50\n",
            "1719/1719 [==============================] - 2s 1ms/step - loss: 0.2810 - accuracy: 0.9070 - val_loss: 0.2716 - val_accuracy: 0.9052\n",
            "Epoch 20/50\n",
            "1719/1719 [==============================] - 2s 1ms/step - loss: 0.2773 - accuracy: 0.9083 - val_loss: 0.2712 - val_accuracy: 0.9084\n",
            "Epoch 21/50\n",
            "1719/1719 [==============================] - 2s 1ms/step - loss: 0.2750 - accuracy: 0.9093 - val_loss: 0.2702 - val_accuracy: 0.9084\n",
            "Epoch 22/50\n",
            "1719/1719 [==============================] - 2s 1ms/step - loss: 0.2727 - accuracy: 0.9100 - val_loss: 0.2656 - val_accuracy: 0.9092\n",
            "Epoch 23/50\n",
            "1719/1719 [==============================] - 2s 1ms/step - loss: 0.2691 - accuracy: 0.9112 - val_loss: 0.2675 - val_accuracy: 0.9110\n",
            "Epoch 24/50\n",
            "1719/1719 [==============================] - 2s 1ms/step - loss: 0.2673 - accuracy: 0.9117 - val_loss: 0.2690 - val_accuracy: 0.9096\n",
            "Epoch 25/50\n",
            "1719/1719 [==============================] - 2s 1ms/step - loss: 0.2648 - accuracy: 0.9126 - val_loss: 0.2640 - val_accuracy: 0.9108\n",
            "Epoch 26/50\n",
            "1719/1719 [==============================] - 2s 1ms/step - loss: 0.2628 - accuracy: 0.9133 - val_loss: 0.2613 - val_accuracy: 0.9118\n",
            "Epoch 27/50\n",
            "1719/1719 [==============================] - 2s 1ms/step - loss: 0.2615 - accuracy: 0.9146 - val_loss: 0.2630 - val_accuracy: 0.9114\n",
            "Epoch 28/50\n",
            "1719/1719 [==============================] - 2s 1ms/step - loss: 0.2583 - accuracy: 0.9149 - val_loss: 0.2645 - val_accuracy: 0.9100\n",
            "Epoch 29/50\n",
            "1719/1719 [==============================] - 2s 1ms/step - loss: 0.2564 - accuracy: 0.9148 - val_loss: 0.2668 - val_accuracy: 0.9120\n",
            "Epoch 30/50\n",
            "1719/1719 [==============================] - 2s 1ms/step - loss: 0.2544 - accuracy: 0.9164 - val_loss: 0.2547 - val_accuracy: 0.9132\n",
            "Epoch 31/50\n",
            "1719/1719 [==============================] - 2s 1ms/step - loss: 0.2529 - accuracy: 0.9164 - val_loss: 0.2605 - val_accuracy: 0.9130\n",
            "Epoch 32/50\n",
            "1719/1719 [==============================] - 2s 1ms/step - loss: 0.2517 - accuracy: 0.9170 - val_loss: 0.2560 - val_accuracy: 0.9166\n",
            "Epoch 33/50\n",
            "1719/1719 [==============================] - 2s 1ms/step - loss: 0.2496 - accuracy: 0.9173 - val_loss: 0.2601 - val_accuracy: 0.9130\n",
            "Epoch 34/50\n",
            "1719/1719 [==============================] - 2s 1ms/step - loss: 0.2483 - accuracy: 0.9181 - val_loss: 0.2582 - val_accuracy: 0.9128\n",
            "Epoch 35/50\n",
            "1719/1719 [==============================] - 2s 1ms/step - loss: 0.2469 - accuracy: 0.9175 - val_loss: 0.2552 - val_accuracy: 0.9154\n",
            "Epoch 36/50\n",
            "1719/1719 [==============================] - 2s 1ms/step - loss: 0.2451 - accuracy: 0.9194 - val_loss: 0.2555 - val_accuracy: 0.9138\n",
            "Epoch 37/50\n",
            "1719/1719 [==============================] - 2s 1ms/step - loss: 0.2438 - accuracy: 0.9203 - val_loss: 0.2559 - val_accuracy: 0.9152\n",
            "Epoch 38/50\n",
            "1719/1719 [==============================] - 2s 1ms/step - loss: 0.2434 - accuracy: 0.9193 - val_loss: 0.2615 - val_accuracy: 0.9106\n",
            "Epoch 39/50\n",
            "1719/1719 [==============================] - 2s 1ms/step - loss: 0.2417 - accuracy: 0.9207 - val_loss: 0.2611 - val_accuracy: 0.9136\n",
            "Epoch 40/50\n",
            "1719/1719 [==============================] - 2s 1ms/step - loss: 0.2403 - accuracy: 0.9204 - val_loss: 0.2562 - val_accuracy: 0.9148\n",
            "Epoch 41/50\n",
            "1719/1719 [==============================] - 2s 1ms/step - loss: 0.2390 - accuracy: 0.9208 - val_loss: 0.2555 - val_accuracy: 0.9130\n",
            "Epoch 42/50\n",
            "1719/1719 [==============================] - 2s 1ms/step - loss: 0.2383 - accuracy: 0.9219 - val_loss: 0.2539 - val_accuracy: 0.9170\n",
            "Epoch 43/50\n",
            "1719/1719 [==============================] - 2s 1ms/step - loss: 0.2364 - accuracy: 0.9226 - val_loss: 0.2571 - val_accuracy: 0.9142\n",
            "Epoch 44/50\n",
            "1719/1719 [==============================] - 2s 1ms/step - loss: 0.2356 - accuracy: 0.9223 - val_loss: 0.2533 - val_accuracy: 0.9158\n",
            "Epoch 45/50\n",
            "1719/1719 [==============================] - 2s 1ms/step - loss: 0.2348 - accuracy: 0.9231 - val_loss: 0.2564 - val_accuracy: 0.9136\n",
            "Epoch 46/50\n",
            "1719/1719 [==============================] - 2s 1ms/step - loss: 0.2335 - accuracy: 0.9229 - val_loss: 0.2612 - val_accuracy: 0.9154\n",
            "Epoch 47/50\n",
            "1719/1719 [==============================] - 2s 1ms/step - loss: 0.2321 - accuracy: 0.9233 - val_loss: 0.2527 - val_accuracy: 0.9156\n",
            "Epoch 48/50\n",
            "1719/1719 [==============================] - 2s 1ms/step - loss: 0.2316 - accuracy: 0.9233 - val_loss: 0.2613 - val_accuracy: 0.9140\n",
            "Epoch 49/50\n",
            "1719/1719 [==============================] - 2s 1ms/step - loss: 0.2308 - accuracy: 0.9235 - val_loss: 0.2520 - val_accuracy: 0.9172\n",
            "Epoch 50/50\n",
            "1719/1719 [==============================] - 2s 1ms/step - loss: 0.2297 - accuracy: 0.9244 - val_loss: 0.2534 - val_accuracy: 0.9174\n"
          ],
          "name": "stdout"
        }
      ]
    },
    {
      "cell_type": "code",
      "metadata": {
        "id": "3f3sOVJRcr6T",
        "colab_type": "code",
        "colab": {
          "base_uri": "https://localhost:8080/",
          "height": 364
        },
        "outputId": "437e5826-1821-4571-a96a-f921b07e446b"
      },
      "source": [
        "##Trying SGD\n",
        "model1 = tf.keras.models.Sequential([tf.keras.layers.Flatten(input_shape=[36]), \n",
        "                                    tf.keras.layers.Dense(128, activation=tf.nn.relu), \n",
        "                                    tf.keras.layers.Dense(10, activation=tf.nn.softmax)])\n",
        "\n",
        "model1.compile(optimizer = tf.optimizers.SGD(0.01),\n",
        "              loss = 'sparse_categorical_crossentropy',\n",
        "              metrics=['accuracy'])\n",
        "\n",
        "H=model1.fit(train_images, train_labels, epochs=10,validation_data=(valid_images, valid_labels))\n"
      ],
      "execution_count": null,
      "outputs": [
        {
          "output_type": "stream",
          "text": [
            "Epoch 1/10\n",
            "1563/1563 [==============================] - 2s 1ms/step - loss: 2.1481 - accuracy: 0.3786 - val_loss: 1.9673 - val_accuracy: 0.5582\n",
            "Epoch 2/10\n",
            "1563/1563 [==============================] - 2s 1ms/step - loss: 1.7586 - accuracy: 0.6344 - val_loss: 1.5625 - val_accuracy: 0.6864\n",
            "Epoch 3/10\n",
            "1563/1563 [==============================] - 2s 1ms/step - loss: 1.3804 - accuracy: 0.7084 - val_loss: 1.2329 - val_accuracy: 0.7244\n",
            "Epoch 4/10\n",
            "1563/1563 [==============================] - 2s 1ms/step - loss: 1.1070 - accuracy: 0.7423 - val_loss: 1.0191 - val_accuracy: 0.7468\n",
            "Epoch 5/10\n",
            "1563/1563 [==============================] - 2s 1ms/step - loss: 0.9358 - accuracy: 0.7607 - val_loss: 0.8879 - val_accuracy: 0.7618\n",
            "Epoch 6/10\n",
            "1563/1563 [==============================] - 2s 1ms/step - loss: 0.8288 - accuracy: 0.7733 - val_loss: 0.8045 - val_accuracy: 0.7666\n",
            "Epoch 7/10\n",
            "1563/1563 [==============================] - 2s 1ms/step - loss: 0.7595 - accuracy: 0.7815 - val_loss: 0.7479 - val_accuracy: 0.7760\n",
            "Epoch 8/10\n",
            "1563/1563 [==============================] - 2s 1ms/step - loss: 0.7117 - accuracy: 0.7889 - val_loss: 0.7084 - val_accuracy: 0.7810\n",
            "Epoch 9/10\n",
            "1563/1563 [==============================] - 2s 1ms/step - loss: 0.6773 - accuracy: 0.7949 - val_loss: 0.6780 - val_accuracy: 0.7864\n",
            "Epoch 10/10\n",
            "1563/1563 [==============================] - 2s 1ms/step - loss: 0.6515 - accuracy: 0.8004 - val_loss: 0.6554 - val_accuracy: 0.7924\n"
          ],
          "name": "stdout"
        }
      ]
    },
    {
      "cell_type": "code",
      "metadata": {
        "id": "tKrXUfqEdMcN",
        "colab_type": "code",
        "colab": {
          "base_uri": "https://localhost:8080/",
          "height": 260
        },
        "outputId": "bd5c695f-7253-4027-a1c5-0e0441c55654"
      },
      "source": [
        "model.summary()"
      ],
      "execution_count": null,
      "outputs": [
        {
          "output_type": "stream",
          "text": [
            "Model: \"sequential_21\"\n",
            "_________________________________________________________________\n",
            "Layer (type)                 Output Shape              Param #   \n",
            "=================================================================\n",
            "flatten_16 (Flatten)         (None, 36)                0         \n",
            "_________________________________________________________________\n",
            "dense_42 (Dense)             (None, 128)               4736      \n",
            "_________________________________________________________________\n",
            "dense_43 (Dense)             (None, 10)                1290      \n",
            "=================================================================\n",
            "Total params: 6,026\n",
            "Trainable params: 6,026\n",
            "Non-trainable params: 0\n",
            "_________________________________________________________________\n"
          ],
          "name": "stdout"
        }
      ]
    },
    {
      "cell_type": "code",
      "metadata": {
        "id": "7z6Xim0LdG0Z",
        "colab_type": "code",
        "colab": {
          "base_uri": "https://localhost:8080/",
          "height": 602
        },
        "outputId": "96884262-ea68-4cd2-c631-de16bf1bbe74"
      },
      "source": [
        "import pandas as pd\n",
        "import matplotlib.pyplot as plt\n",
        "pd.DataFrame(H.history).plot(figsize=(8, 5))\n",
        "plt.grid(True)\n",
        "plt.gca().set_ylim(0, 1) # set the vertical range to [0-1]\n",
        "plt.show()\n",
        "\n",
        "plt.plot(H.history['loss'])\n",
        "plt.ylabel('cost')\n",
        "plt.xlabel('Epochs')\n",
        "plt.title(\"Cost/Loss Curve\")\n",
        "plt.show()"
      ],
      "execution_count": null,
      "outputs": [
        {
          "output_type": "display_data",
          "data": {
            "image/png": "[encoded data removed]",
            "text/plain": [
              "<Figure size 576x360 with 1 Axes>"
            ]
          },
          "metadata": {
            "tags": [],
            "needs_background": "light"
          }
        },
        {
          "output_type": "display_data",
          "data": {
            "image/png": "[encoded data removed]",
            "text/plain": [
              "<Figure size 432x288 with 1 Axes>"
            ]
          },
          "metadata": {
            "tags": [],
            "needs_background": "light"
          }
        }
      ]
    },
    {
      "cell_type": "code",
      "metadata": {
        "id": "_0X4lAi-dUFe",
        "colab_type": "code",
        "colab": {
          "base_uri": "https://localhost:8080/",
          "height": 86
        },
        "outputId": "9aae37b9-0241-433e-b361-9a5f024bda8d"
      },
      "source": [
        "\n",
        "print(\"Extracting features from test dataset...\")\n",
        "predict_test = []\n",
        "labels_test = []\n",
        "data_test=[]\n",
        "\n",
        "for img_ind in range(len(test_images)):\n",
        "  img=test_images[img_ind]\n",
        "  H = feature.hog(img, orientations=9, pixels_per_cell=(10, 10),\n",
        "                  cells_per_block=(2, 2), transform_sqrt=True, block_norm=\"L2-Hys\")\n",
        "  pred = model.predict(H.reshape(1, -1))[0]\n",
        "  predict_test.append(pred)\n",
        "  data_test.append(H)\n",
        "  \n",
        "  labels_test.append(test_labels[img_ind])\n",
        "\n",
        "print(np.shape(data_test)) \n",
        "print(np.shape(predict_test))\n",
        "print(np.shape(labels_test))"
      ],
      "execution_count": null,
      "outputs": [
        {
          "output_type": "stream",
          "text": [
            "Extracting features from test dataset...\n",
            "(10000, 36)\n",
            "(10000, 10)\n",
            "(10000,)\n"
          ],
          "name": "stdout"
        }
      ]
    },
    {
      "cell_type": "code",
      "metadata": {
        "id": "3QzFPtm2d1Ul",
        "colab_type": "code",
        "colab": {}
      },
      "source": [
        "data_test = np.float32(data_test)\n",
        "labels_test = np.float32(labels_test)\n",
        "\n",
        "test_images=data_test\n",
        "test_labels=labels_test"
      ],
      "execution_count": null,
      "outputs": []
    },
    {
      "cell_type": "code",
      "metadata": {
        "id": "lfGm4ImAdYue",
        "colab_type": "code",
        "colab": {
          "base_uri": "https://localhost:8080/",
          "height": 52
        },
        "outputId": "8a0d843b-bdf3-4c0d-8f3a-b09869cd9590"
      },
      "source": [
        "model.evaluate(test_images, test_labels)"
      ],
      "execution_count": null,
      "outputs": [
        {
          "output_type": "stream",
          "text": [
            "313/313 [==============================] - 0s 1ms/step - loss: 0.3113 - accuracy: 0.8961\n"
          ],
          "name": "stdout"
        },
        {
          "output_type": "execute_result",
          "data": {
            "text/plain": [
              "[0.31127429008483887, 0.8960999846458435]"
            ]
          },
          "metadata": {
            "tags": []
          },
          "execution_count": 224
        }
      ]
    }
  ]
}