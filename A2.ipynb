{
  "nbformat": 4,
  "nbformat_minor": 0,
  "metadata": {
    "colab": {
      "name": "A2.ipynb",
      "provenance": [],
      "collapsed_sections": [],
      "include_colab_link": true
    },
    "kernelspec": {
      "name": "python3",
      "display_name": "Python 3"
    }
  },
  "cells": [
    {
      "cell_type": "markdown",
      "metadata": {
        "id": "view-in-github",
        "colab_type": "text"
      },
      "source": [
        "<a href=\"https://colab.research.google.com/github/nazmul-kaonine/UTS_ML2019_ID13300912/blob/master/A2.ipynb\" target=\"_parent\"><img src=\"https://colab.research.google.com/assets/colab-badge.svg\" alt=\"Open In Colab\"/></a>"
      ]
    },
    {
      "cell_type": "markdown",
      "metadata": {
        "id": "m2QcnV4tSEnY",
        "colab_type": "text"
      },
      "source": [
        "#Assignment 2 - Practical Machine Learning Project\n",
        "##32513 - Machine Learning Spring 2019 \n",
        "###Nazmul Kaonine - 13300912\n",
        "###Omkar Dhamal - 13073921\n",
        "\n",
        "Links:\n",
        "Report:https://github.com/nazmul-kaonine/UTS_ML2019_ID13300912/blob/master/A2.ipynb\n",
        "\n",
        "Full Code:\n",
        "\n",
        "CSV File (more than 25 mb so not supported in github):\n",
        "https://drive.google.com/open?id=1whpphl7iN9dyKWDAG239Our_kV61YsD3"
      ]
    },
    {
      "cell_type": "markdown",
      "metadata": {
        "id": "ZcNkkI_lNNbk",
        "colab_type": "text"
      },
      "source": [
        "\n",
        "##Section 1: Introduction\n",
        "\n",
        "It is predicted that the world population will reach 9.7 billion by the end of 2050 (i.e. 30% increase to compared to current population which is 7.7 billion). It took 200,000 years for humans to reach the population of 1 billion and only one century to reach 7 Billion. This means that the food consumption will be increasing rapidly too. Moreover, the population is expected to increase in developed locations rather than regional, which implies that there will be more demand for fast food or meat-based products than regional staple food. (https://www.sciencedirect.com/science/article/pii/S0092867415003062)\n",
        "\n",
        "\n",
        "More than 50 percent of daily human calories come from Rice, maize, barley etc. and to produce one kilogram of meat it takes around 10kg of feed. This indicates that there will be massive rise in food consumption. Currently the world is suffering from food crisis and the reason behind it is improper crop cultivation which leads to shortage of one crop and other ends up in surplus. This needs to be uniform depending on the consumption of every country. (https://www.kaggle.com/mariammohamed/simple-data-exploration/data)\n",
        "\n",
        "Based on past 50 years data, crop production for the future years can be predicted using various prediction models. This in turn can help to regulate the crop production in every country depending on its consumption and can also reduce the selective food shortage.    \n",
        "For the prediction of optimal crop production we have used FAO crop production data as the input. Additionally, the prediction is specific to the item (crop) produced and the element (e.g. yield) produced. To make things more specific, our model will also give crop production levels specific to the area (country). "
      ]
    },
    {
      "cell_type": "markdown",
      "metadata": {
        "id": "cQsGCQ_0R6Qh",
        "colab_type": "text"
      },
      "source": [
        "##Section 2: Exploration\n",
        "\n",
        "###Data Description\n",
        "The data set has 49,370 rows and 64 columns without flags and 121 with flagged data for each year.\n",
        "The dataset contains the following data to be used as inputs related to food production; a detailed description of the attributes is given below.\n",
        "\n",
        "•\tArea code – Code associated with each country\n",
        "\n",
        "•\tArea – Name of the country, the dataset consists of 258 countries in total.\n",
        "\n",
        "•\tItem – Crop name \n",
        "\n",
        "•\tElement – Area harvested, Yield and Production\n",
        "\n",
        "•\tUnit - The Area harvested is displayed in hectares (ha), Production is in tonnes i.e. 1000kg and Yield is depicted as hectograms per hectare (hg/ha).\n",
        "\n",
        "•\tYear – This column presents the total of every element in each country for each item from years 1961 to 2017\n",
        "\n",
        "•\tFlags – The flags in this column represent whether the data is official (), unofficial (*), FAO Estimate (F), calculated (Fc), aggregated (A) or not available (M). But in this analysis report we have ignored the flags and have assumed all provided values as reliable values.\n",
        "\n",
        "The ouput is simply saying if the specific item or food will be produced in optimal amounts for that country in that year.\n",
        "By optimal, we take the average amount of each item per element over 56 years. If the amount produced is greater than or equal to the average value, the amount produced is considered to be optimum. Ofcourse, No input data of the amount is taken in the testing set.\n",
        "###Data Exploration:\n",
        "\n",
        "The libraries are imported and tested. The dataset was uploaded in correct forma to colab from the local drive. The following piece of code shows the importing process.\n",
        "\n",
        "\n",
        "\n"
      ]
    },
    {
      "cell_type": "markdown",
      "metadata": {
        "id": "exXQ2qq5exWV",
        "colab_type": "text"
      },
      "source": [
        "## Section 2.1: Initializing"
      ]
    },
    {
      "cell_type": "code",
      "metadata": {
        "id": "-xRfwxoj7fdx",
        "colab_type": "code",
        "colab": {}
      },
      "source": [
        "#Importing all Libraries needed\n",
        "%matplotlib inline\n",
        "import pandas as pd\n",
        "import matplotlib.pyplot as plt\n",
        "import numpy as np\n",
        "import pylab as p\n",
        "import matplotlib\n",
        "import seaborn as sns\n",
        "import plotly.express as px\n",
        "from sklearn import preprocessing\n",
        "from scipy import stats\n",
        "from sklearn.linear_model import LinearRegression\n",
        "from sklearn.model_selection import train_test_split\n",
        "from sklearn.ensemble import RandomForestClassifier\n",
        "from sklearn.metrics import confusion_matrix\n",
        "from sklearn.metrics import classification_report\n",
        "from sklearn.metrics import roc_curve\n",
        "from IPython.display import display, HTML\n",
        "from keras.models import Sequential\n",
        "from keras.layers import Dense, Activation, Flatten\n",
        "from keras.callbacks import ModelCheckpoint\n",
        "from sklearn.neighbors import KNeighborsClassifier\n",
        "from sklearn.impute import SimpleImputer\n",
        "from sklearn.metrics import accuracy_score\n",
        "from sklearn.model_selection import train_test_split\n",
        "from sklearn.tree import DecisionTreeClassifier"
      ],
      "execution_count": 0,
      "outputs": []
    },
    {
      "cell_type": "code",
      "metadata": {
        "id": "ukQt8Q7OhjsP",
        "colab_type": "code",
        "colab": {}
      },
      "source": [
        "#Changing scientific values to number\n",
        "pd.options.display.float_format = '{:.2f}'.format\n"
      ],
      "execution_count": 0,
      "outputs": []
    },
    {
      "cell_type": "code",
      "metadata": {
        "id": "nH6KPGzXDHUh",
        "colab_type": "code",
        "colab": {}
      },
      "source": [
        "#Checking if matlib & numpy libraries have been called\n",
        "plt.plot(np.arange(5))"
      ],
      "execution_count": 0,
      "outputs": []
    },
    {
      "cell_type": "markdown",
      "metadata": {
        "id": "JydmqYEFhUZb",
        "colab_type": "text"
      },
      "source": [
        "## Importing the NOFLAG Food Production Dataset\n",
        "We are assuming that the data provided is reliable and the flags are outweighed by its existence in case of unofficial & previous year flags"
      ]
    },
    {
      "cell_type": "code",
      "metadata": {
        "id": "x-ijoIYCS2YJ",
        "colab_type": "code",
        "outputId": "d688ab4b-4122-4bd4-d97c-90986f81f3ca",
        "colab": {
          "resources": {
            "http://localhost:8080/nbextensions/google.colab/files.js": {
              "data": "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",
              "ok": true,
              "headers": [
                [
                  "content-type",
                  "application/javascript"
                ]
              ],
              "status": 200,
              "status_text": ""
            }
          },
          "base_uri": "https://localhost:8080/",
          "height": 75
        }
      },
      "source": [
        "#Importing from local drive\n",
        "from google.colab import files\n",
        "uploaded = files.upload()"
      ],
      "execution_count": 9,
      "outputs": [
        {
          "output_type": "display_data",
          "data": {
            "text/html": [
              "\n",
              "     <input type=\"file\" id=\"files-66916236-3642-4839-8c78-47681420024b\" name=\"files[]\" multiple disabled />\n",
              "     <output id=\"result-66916236-3642-4839-8c78-47681420024b\">\n",
              "      Upload widget is only available when the cell has been executed in the\n",
              "      current browser session. Please rerun this cell to enable.\n",
              "      </output>\n",
              "      <script src=\"/nbextensions/google.colab/files.js\"></script> "
            ],
            "text/plain": [
              "<IPython.core.display.HTML object>"
            ]
          },
          "metadata": {
            "tags": []
          }
        },
        {
          "output_type": "stream",
          "text": [
            "Saving Production_Crops_E_All_Data_NOFLAG.csv to Production_Crops_E_All_Data_NOFLAG (1).csv\n"
          ],
          "name": "stdout"
        }
      ]
    },
    {
      "cell_type": "code",
      "metadata": {
        "id": "_xRv0q7m8n5K",
        "colab_type": "code",
        "colab": {}
      },
      "source": [
        "#storing in pandas dataframe in latin-1 encoding to make it readable in dataframe (not utf-8)\n",
        "import io\n",
        "df=pd.read_csv('Production_Crops_E_All_Data_NOFLAG (1).csv',encoding='latin-1')\n",
        "# Dataset is now stored in a Pandas Dataframe"
      ],
      "execution_count": 0,
      "outputs": []
    },
    {
      "cell_type": "markdown",
      "metadata": {
        "id": "lg3gOBzk0cjr",
        "colab_type": "text"
      },
      "source": [
        "##Section 2.2: INITIAL DATA EXPLORATION\n",
        "The data is explored in various ways in the following codes and the structure is made familiar. The length  of unique values are measured. e.g. the data shows a number of 258 countries. The number of rows and columns in the data, the max,min, mean and standard deviation values along with data types are also derived. The barplots shows the size of each element and items inside the dataset. The item barplot is very unorganized and therefore we move on to data preprocessing."
      ]
    },
    {
      "cell_type": "code",
      "metadata": {
        "id": "LmHgtO_1Anf4",
        "colab_type": "code",
        "colab": {
          "base_uri": "https://localhost:8080/",
          "height": 395
        },
        "outputId": "9fa6c73e-b6ae-485d-cd93-409e82306b22"
      },
      "source": [
        "#lets look at the structure of the data\n",
        "df.head(5)"
      ],
      "execution_count": 65,
      "outputs": [
        {
          "output_type": "execute_result",
          "data": {
            "text/html": [
              "<div>\n",
              "<style scoped>\n",
              "    .dataframe tbody tr th:only-of-type {\n",
              "        vertical-align: middle;\n",
              "    }\n",
              "\n",
              "    .dataframe tbody tr th {\n",
              "        vertical-align: top;\n",
              "    }\n",
              "\n",
              "    .dataframe thead th {\n",
              "        text-align: right;\n",
              "    }\n",
              "</style>\n",
              "<table border=\"1\" class=\"dataframe\">\n",
              "  <thead>\n",
              "    <tr style=\"text-align: right;\">\n",
              "      <th></th>\n",
              "      <th>Area Code</th>\n",
              "      <th>Area</th>\n",
              "      <th>Item Code</th>\n",
              "      <th>Item</th>\n",
              "      <th>Element Code</th>\n",
              "      <th>Element</th>\n",
              "      <th>Unit</th>\n",
              "      <th>Y1961</th>\n",
              "      <th>Y1962</th>\n",
              "      <th>Y1963</th>\n",
              "      <th>Y1964</th>\n",
              "      <th>Y1965</th>\n",
              "      <th>Y1966</th>\n",
              "      <th>Y1967</th>\n",
              "      <th>Y1968</th>\n",
              "      <th>Y1969</th>\n",
              "      <th>Y1970</th>\n",
              "      <th>Y1971</th>\n",
              "      <th>Y1972</th>\n",
              "      <th>Y1973</th>\n",
              "      <th>Y1974</th>\n",
              "      <th>Y1975</th>\n",
              "      <th>Y1976</th>\n",
              "      <th>Y1977</th>\n",
              "      <th>Y1978</th>\n",
              "      <th>Y1979</th>\n",
              "      <th>Y1980</th>\n",
              "      <th>Y1981</th>\n",
              "      <th>Y1982</th>\n",
              "      <th>Y1983</th>\n",
              "      <th>Y1984</th>\n",
              "      <th>Y1985</th>\n",
              "      <th>Y1986</th>\n",
              "      <th>Y1987</th>\n",
              "      <th>Y1988</th>\n",
              "      <th>Y1989</th>\n",
              "      <th>Y1990</th>\n",
              "      <th>Y1991</th>\n",
              "      <th>Y1992</th>\n",
              "      <th>Y1993</th>\n",
              "      <th>Y1994</th>\n",
              "      <th>Y1995</th>\n",
              "      <th>Y1996</th>\n",
              "      <th>Y1997</th>\n",
              "      <th>Y1998</th>\n",
              "      <th>Y1999</th>\n",
              "      <th>Y2000</th>\n",
              "      <th>Y2001</th>\n",
              "      <th>Y2002</th>\n",
              "      <th>Y2003</th>\n",
              "      <th>Y2004</th>\n",
              "      <th>Y2005</th>\n",
              "      <th>Y2006</th>\n",
              "      <th>Y2007</th>\n",
              "      <th>Y2008</th>\n",
              "      <th>Y2009</th>\n",
              "      <th>Y2010</th>\n",
              "      <th>Y2011</th>\n",
              "      <th>Y2012</th>\n",
              "      <th>Y2013</th>\n",
              "      <th>Y2014</th>\n",
              "      <th>Y2015</th>\n",
              "      <th>Y2016</th>\n",
              "      <th>Y2017</th>\n",
              "    </tr>\n",
              "  </thead>\n",
              "  <tbody>\n",
              "    <tr>\n",
              "      <th>0</th>\n",
              "      <td>2</td>\n",
              "      <td>Afghanistan</td>\n",
              "      <td>221</td>\n",
              "      <td>Almonds, with shell</td>\n",
              "      <td>5312</td>\n",
              "      <td>Area harvested</td>\n",
              "      <td>ha</td>\n",
              "      <td>nan</td>\n",
              "      <td>nan</td>\n",
              "      <td>nan</td>\n",
              "      <td>nan</td>\n",
              "      <td>nan</td>\n",
              "      <td>nan</td>\n",
              "      <td>nan</td>\n",
              "      <td>nan</td>\n",
              "      <td>nan</td>\n",
              "      <td>nan</td>\n",
              "      <td>nan</td>\n",
              "      <td>nan</td>\n",
              "      <td>nan</td>\n",
              "      <td>nan</td>\n",
              "      <td>0.00</td>\n",
              "      <td>5900.00</td>\n",
              "      <td>6000.00</td>\n",
              "      <td>6000.00</td>\n",
              "      <td>6000.00</td>\n",
              "      <td>5800.00</td>\n",
              "      <td>5800.00</td>\n",
              "      <td>5800.00</td>\n",
              "      <td>5700.00</td>\n",
              "      <td>5700.00</td>\n",
              "      <td>5600.00</td>\n",
              "      <td>5500.00</td>\n",
              "      <td>5500.00</td>\n",
              "      <td>5400.00</td>\n",
              "      <td>5400.00</td>\n",
              "      <td>6037.00</td>\n",
              "      <td>5500.00</td>\n",
              "      <td>5500.00</td>\n",
              "      <td>5500.00</td>\n",
              "      <td>5500.00</td>\n",
              "      <td>5500.00</td>\n",
              "      <td>5500.00</td>\n",
              "      <td>5500.00</td>\n",
              "      <td>5500.00</td>\n",
              "      <td>5500.00</td>\n",
              "      <td>7000.00</td>\n",
              "      <td>9000.00</td>\n",
              "      <td>5500.00</td>\n",
              "      <td>5700.00</td>\n",
              "      <td>12000.00</td>\n",
              "      <td>11768.00</td>\n",
              "      <td>12000.00</td>\n",
              "      <td>12000.00</td>\n",
              "      <td>12000.00</td>\n",
              "      <td>11029.00</td>\n",
              "      <td>11210.00</td>\n",
              "      <td>13469.00</td>\n",
              "      <td>13490.00</td>\n",
              "      <td>14114.00</td>\n",
              "      <td>13703.00</td>\n",
              "      <td>14676.00</td>\n",
              "      <td>19481.00</td>\n",
              "      <td>19793.00</td>\n",
              "    </tr>\n",
              "    <tr>\n",
              "      <th>1</th>\n",
              "      <td>2</td>\n",
              "      <td>Afghanistan</td>\n",
              "      <td>221</td>\n",
              "      <td>Almonds, with shell</td>\n",
              "      <td>5419</td>\n",
              "      <td>Yield</td>\n",
              "      <td>hg/ha</td>\n",
              "      <td>nan</td>\n",
              "      <td>nan</td>\n",
              "      <td>nan</td>\n",
              "      <td>nan</td>\n",
              "      <td>nan</td>\n",
              "      <td>nan</td>\n",
              "      <td>nan</td>\n",
              "      <td>nan</td>\n",
              "      <td>nan</td>\n",
              "      <td>nan</td>\n",
              "      <td>nan</td>\n",
              "      <td>nan</td>\n",
              "      <td>nan</td>\n",
              "      <td>nan</td>\n",
              "      <td>nan</td>\n",
              "      <td>16610.00</td>\n",
              "      <td>15000.00</td>\n",
              "      <td>20000.00</td>\n",
              "      <td>17500.00</td>\n",
              "      <td>17069.00</td>\n",
              "      <td>13793.00</td>\n",
              "      <td>18966.00</td>\n",
              "      <td>17018.00</td>\n",
              "      <td>18421.00</td>\n",
              "      <td>16071.00</td>\n",
              "      <td>18182.00</td>\n",
              "      <td>16364.00</td>\n",
              "      <td>16667.00</td>\n",
              "      <td>16296.00</td>\n",
              "      <td>15736.00</td>\n",
              "      <td>16364.00</td>\n",
              "      <td>18000.00</td>\n",
              "      <td>16364.00</td>\n",
              "      <td>16364.00</td>\n",
              "      <td>16364.00</td>\n",
              "      <td>16364.00</td>\n",
              "      <td>16364.00</td>\n",
              "      <td>16364.00</td>\n",
              "      <td>20000.00</td>\n",
              "      <td>17143.00</td>\n",
              "      <td>16667.00</td>\n",
              "      <td>21407.00</td>\n",
              "      <td>24561.00</td>\n",
              "      <td>12250.00</td>\n",
              "      <td>13281.00</td>\n",
              "      <td>16667.00</td>\n",
              "      <td>26234.00</td>\n",
              "      <td>35000.00</td>\n",
              "      <td>39154.00</td>\n",
              "      <td>49955.00</td>\n",
              "      <td>45000.00</td>\n",
              "      <td>45960.00</td>\n",
              "      <td>29910.00</td>\n",
              "      <td>19996.00</td>\n",
              "      <td>16521.00</td>\n",
              "      <td>16859.00</td>\n",
              "      <td>13788.00</td>\n",
              "    </tr>\n",
              "    <tr>\n",
              "      <th>2</th>\n",
              "      <td>2</td>\n",
              "      <td>Afghanistan</td>\n",
              "      <td>221</td>\n",
              "      <td>Almonds, with shell</td>\n",
              "      <td>5510</td>\n",
              "      <td>Production</td>\n",
              "      <td>tonnes</td>\n",
              "      <td>nan</td>\n",
              "      <td>nan</td>\n",
              "      <td>nan</td>\n",
              "      <td>nan</td>\n",
              "      <td>nan</td>\n",
              "      <td>nan</td>\n",
              "      <td>nan</td>\n",
              "      <td>nan</td>\n",
              "      <td>nan</td>\n",
              "      <td>nan</td>\n",
              "      <td>nan</td>\n",
              "      <td>nan</td>\n",
              "      <td>nan</td>\n",
              "      <td>nan</td>\n",
              "      <td>0.00</td>\n",
              "      <td>9800.00</td>\n",
              "      <td>9000.00</td>\n",
              "      <td>12000.00</td>\n",
              "      <td>10500.00</td>\n",
              "      <td>9900.00</td>\n",
              "      <td>8000.00</td>\n",
              "      <td>11000.00</td>\n",
              "      <td>9700.00</td>\n",
              "      <td>10500.00</td>\n",
              "      <td>9000.00</td>\n",
              "      <td>10000.00</td>\n",
              "      <td>9000.00</td>\n",
              "      <td>9000.00</td>\n",
              "      <td>8800.00</td>\n",
              "      <td>9500.00</td>\n",
              "      <td>9000.00</td>\n",
              "      <td>9900.00</td>\n",
              "      <td>9000.00</td>\n",
              "      <td>9000.00</td>\n",
              "      <td>9000.00</td>\n",
              "      <td>9000.00</td>\n",
              "      <td>9000.00</td>\n",
              "      <td>9000.00</td>\n",
              "      <td>11000.00</td>\n",
              "      <td>12000.00</td>\n",
              "      <td>15000.00</td>\n",
              "      <td>11774.00</td>\n",
              "      <td>14000.00</td>\n",
              "      <td>14700.00</td>\n",
              "      <td>15630.00</td>\n",
              "      <td>20000.00</td>\n",
              "      <td>31481.00</td>\n",
              "      <td>42000.00</td>\n",
              "      <td>43183.00</td>\n",
              "      <td>56000.00</td>\n",
              "      <td>60611.00</td>\n",
              "      <td>62000.00</td>\n",
              "      <td>42215.00</td>\n",
              "      <td>27400.00</td>\n",
              "      <td>24246.00</td>\n",
              "      <td>32843.00</td>\n",
              "      <td>27291.00</td>\n",
              "    </tr>\n",
              "    <tr>\n",
              "      <th>3</th>\n",
              "      <td>2</td>\n",
              "      <td>Afghanistan</td>\n",
              "      <td>711</td>\n",
              "      <td>Anise, badian, fennel, coriander</td>\n",
              "      <td>5312</td>\n",
              "      <td>Area harvested</td>\n",
              "      <td>ha</td>\n",
              "      <td>nan</td>\n",
              "      <td>nan</td>\n",
              "      <td>nan</td>\n",
              "      <td>nan</td>\n",
              "      <td>nan</td>\n",
              "      <td>nan</td>\n",
              "      <td>nan</td>\n",
              "      <td>nan</td>\n",
              "      <td>nan</td>\n",
              "      <td>nan</td>\n",
              "      <td>nan</td>\n",
              "      <td>nan</td>\n",
              "      <td>nan</td>\n",
              "      <td>nan</td>\n",
              "      <td>nan</td>\n",
              "      <td>nan</td>\n",
              "      <td>nan</td>\n",
              "      <td>nan</td>\n",
              "      <td>nan</td>\n",
              "      <td>nan</td>\n",
              "      <td>nan</td>\n",
              "      <td>nan</td>\n",
              "      <td>nan</td>\n",
              "      <td>nan</td>\n",
              "      <td>nan</td>\n",
              "      <td>700.00</td>\n",
              "      <td>700.00</td>\n",
              "      <td>300.00</td>\n",
              "      <td>1100.00</td>\n",
              "      <td>1300.00</td>\n",
              "      <td>1882.00</td>\n",
              "      <td>700.00</td>\n",
              "      <td>2270.00</td>\n",
              "      <td>2871.00</td>\n",
              "      <td>3000.00</td>\n",
              "      <td>7000.00</td>\n",
              "      <td>4000.00</td>\n",
              "      <td>12000.00</td>\n",
              "      <td>11311.00</td>\n",
              "      <td>4000.00</td>\n",
              "      <td>1600.00</td>\n",
              "      <td>3300.00</td>\n",
              "      <td>6800.00</td>\n",
              "      <td>15000.00</td>\n",
              "      <td>16000.00</td>\n",
              "      <td>17432.00</td>\n",
              "      <td>28000.00</td>\n",
              "      <td>15000.00</td>\n",
              "      <td>17748.00</td>\n",
              "      <td>17000.00</td>\n",
              "      <td>19500.00</td>\n",
              "      <td>18500.00</td>\n",
              "      <td>18500.00</td>\n",
              "      <td>30000.00</td>\n",
              "      <td>25000.00</td>\n",
              "      <td>26019.00</td>\n",
              "      <td>28873.00</td>\n",
              "    </tr>\n",
              "    <tr>\n",
              "      <th>4</th>\n",
              "      <td>2</td>\n",
              "      <td>Afghanistan</td>\n",
              "      <td>711</td>\n",
              "      <td>Anise, badian, fennel, coriander</td>\n",
              "      <td>5419</td>\n",
              "      <td>Yield</td>\n",
              "      <td>hg/ha</td>\n",
              "      <td>nan</td>\n",
              "      <td>nan</td>\n",
              "      <td>nan</td>\n",
              "      <td>nan</td>\n",
              "      <td>nan</td>\n",
              "      <td>nan</td>\n",
              "      <td>nan</td>\n",
              "      <td>nan</td>\n",
              "      <td>nan</td>\n",
              "      <td>nan</td>\n",
              "      <td>nan</td>\n",
              "      <td>nan</td>\n",
              "      <td>nan</td>\n",
              "      <td>nan</td>\n",
              "      <td>nan</td>\n",
              "      <td>nan</td>\n",
              "      <td>nan</td>\n",
              "      <td>nan</td>\n",
              "      <td>nan</td>\n",
              "      <td>nan</td>\n",
              "      <td>nan</td>\n",
              "      <td>nan</td>\n",
              "      <td>nan</td>\n",
              "      <td>nan</td>\n",
              "      <td>nan</td>\n",
              "      <td>7143.00</td>\n",
              "      <td>7143.00</td>\n",
              "      <td>6667.00</td>\n",
              "      <td>7273.00</td>\n",
              "      <td>7692.00</td>\n",
              "      <td>7072.00</td>\n",
              "      <td>7143.00</td>\n",
              "      <td>6854.00</td>\n",
              "      <td>6761.00</td>\n",
              "      <td>6667.00</td>\n",
              "      <td>6000.00</td>\n",
              "      <td>6250.00</td>\n",
              "      <td>5917.00</td>\n",
              "      <td>6189.00</td>\n",
              "      <td>6250.00</td>\n",
              "      <td>6250.00</td>\n",
              "      <td>6061.00</td>\n",
              "      <td>6029.00</td>\n",
              "      <td>6000.00</td>\n",
              "      <td>6250.00</td>\n",
              "      <td>6222.00</td>\n",
              "      <td>6071.00</td>\n",
              "      <td>6000.00</td>\n",
              "      <td>6203.00</td>\n",
              "      <td>6000.00</td>\n",
              "      <td>6414.00</td>\n",
              "      <td>6757.00</td>\n",
              "      <td>6757.00</td>\n",
              "      <td>7167.00</td>\n",
              "      <td>7200.00</td>\n",
              "      <td>6923.00</td>\n",
              "      <td>6830.00</td>\n",
              "    </tr>\n",
              "  </tbody>\n",
              "</table>\n",
              "</div>"
            ],
            "text/plain": [
              "   Area Code         Area  Item Code  ...    Y2015    Y2016    Y2017\n",
              "0          2  Afghanistan        221  ... 14676.00 19481.00 19793.00\n",
              "1          2  Afghanistan        221  ... 16521.00 16859.00 13788.00\n",
              "2          2  Afghanistan        221  ... 24246.00 32843.00 27291.00\n",
              "3          2  Afghanistan        711  ... 25000.00 26019.00 28873.00\n",
              "4          2  Afghanistan        711  ...  7200.00  6923.00  6830.00\n",
              "\n",
              "[5 rows x 64 columns]"
            ]
          },
          "metadata": {
            "tags": []
          },
          "execution_count": 65
        }
      ]
    },
    {
      "cell_type": "code",
      "metadata": {
        "id": "Uo3KoKn2C69V",
        "colab_type": "code",
        "colab": {}
      },
      "source": [
        "df.tail()"
      ],
      "execution_count": 0,
      "outputs": []
    },
    {
      "cell_type": "code",
      "metadata": {
        "id": "P9D5pQDjC9cI",
        "colab_type": "code",
        "colab": {}
      },
      "source": [
        "#getting count,mean standard deviation and max values of each numerical column (specially years)\n",
        "df.describe()"
      ],
      "execution_count": 0,
      "outputs": []
    },
    {
      "cell_type": "code",
      "metadata": {
        "id": "WL_7SgELWZEb",
        "colab_type": "code",
        "colab": {}
      },
      "source": [
        "#Lets check the data shape (4937 rows and64 columns)\n",
        "df.shape"
      ],
      "execution_count": 0,
      "outputs": []
    },
    {
      "cell_type": "code",
      "metadata": {
        "id": "VS4hKP7zadWH",
        "colab_type": "code",
        "colab": {}
      },
      "source": [
        "#data types\n",
        "df.info()"
      ],
      "execution_count": 0,
      "outputs": []
    },
    {
      "cell_type": "code",
      "metadata": {
        "id": "hsyhjFjZagEP",
        "colab_type": "code",
        "outputId": "5e045b84-0443-46a4-8b24-63815ef41ec8",
        "colab": {
          "base_uri": "https://localhost:8080/",
          "height": 35
        }
      },
      "source": [
        "#number of countries in the data\n",
        "len(df['Area'].unique())"
      ],
      "execution_count": 73,
      "outputs": [
        {
          "output_type": "execute_result",
          "data": {
            "text/plain": [
              "258"
            ]
          },
          "metadata": {
            "tags": []
          },
          "execution_count": 73
        }
      ]
    },
    {
      "cell_type": "code",
      "metadata": {
        "id": "6p_k9hrQa301",
        "colab_type": "code",
        "colab": {}
      },
      "source": [
        "# list of nonrepeated items\n",
        "df['Item'].unique()"
      ],
      "execution_count": 0,
      "outputs": []
    },
    {
      "cell_type": "code",
      "metadata": {
        "id": "KTM6LVlEvhNo",
        "colab_type": "code",
        "colab": {}
      },
      "source": [
        "#number of items\n",
        "len(df['Item'].unique())"
      ],
      "execution_count": 0,
      "outputs": []
    },
    {
      "cell_type": "code",
      "metadata": {
        "id": "bJVdcipcwYTp",
        "colab_type": "code",
        "colab": {}
      },
      "source": [
        "#Number of times Items were in focus\n",
        "df['Item'].value_counts()"
      ],
      "execution_count": 0,
      "outputs": []
    },
    {
      "cell_type": "code",
      "metadata": {
        "id": "pM4r7QVwikB3",
        "colab_type": "code",
        "colab": {}
      },
      "source": [
        "#Lets draw a barplot of the three elements and see how they compare to each other\n",
        "el_size = df.groupby('Element').agg('size')"
      ],
      "execution_count": 0,
      "outputs": []
    },
    {
      "cell_type": "code",
      "metadata": {
        "id": "CZRSwJeYjt3z",
        "colab_type": "code",
        "colab": {}
      },
      "source": [
        "el_size.values"
      ],
      "execution_count": 0,
      "outputs": []
    },
    {
      "cell_type": "code",
      "metadata": {
        "id": "FaNwdDte1IlU",
        "colab_type": "code",
        "outputId": "bdfb438b-5f43-402e-e2c6-3ad5962f55f2",
        "colab": {
          "base_uri": "https://localhost:8080/",
          "height": 283
        }
      },
      "source": [
        "sns.barplot(el_size.index, el_size.values)\n",
        "plt.show()"
      ],
      "execution_count": 70,
      "outputs": [
        {
          "output_type": "display_data",
          "data": {
            "image/png": "[encoded data removed]",
            "text/plain": [
              "<Figure size 432x288 with 1 Axes>"
            ]
          },
          "metadata": {
            "tags": []
          }
        }
      ]
    },
    {
      "cell_type": "code",
      "metadata": {
        "id": "1bWYI4zJzGy8",
        "colab_type": "code",
        "colab": {}
      },
      "source": [
        "#lets do the same with the items\n",
        "item_size = df.groupby('Item').agg('size')"
      ],
      "execution_count": 0,
      "outputs": []
    },
    {
      "cell_type": "code",
      "metadata": {
        "id": "neIGkxmOMtKx",
        "colab_type": "code",
        "colab": {}
      },
      "source": [
        "item_size.values"
      ],
      "execution_count": 0,
      "outputs": []
    },
    {
      "cell_type": "code",
      "metadata": {
        "id": "CTADGFmZ1rMD",
        "colab_type": "code",
        "colab": {}
      },
      "source": [
        "sns.barplot(item_size.index, item_size.values)\n",
        "plt.show()"
      ],
      "execution_count": 0,
      "outputs": []
    },
    {
      "cell_type": "code",
      "metadata": {
        "id": "5TfT_Tg12d-W",
        "colab_type": "code",
        "colab": {}
      },
      "source": [
        " df.head(5)"
      ],
      "execution_count": 0,
      "outputs": []
    },
    {
      "cell_type": "markdown",
      "metadata": {
        "id": "WHN0FqHuA5H0",
        "colab_type": "text"
      },
      "source": [
        "This is by no means clear. So lets do some data preprocessing."
      ]
    },
    {
      "cell_type": "markdown",
      "metadata": {
        "id": "9pF-kE_V2s-s",
        "colab_type": "text"
      },
      "source": [
        "##Section 2.3: DATA PREPROCESSING"
      ]
    },
    {
      "cell_type": "markdown",
      "metadata": {
        "id": "iKtLVFYH3eJ9",
        "colab_type": "text"
      },
      "source": [
        "In this section, the missing values are cleaned, and an aggregate of the values over 56 years of each item is calculated in a separate column. This is done to see which item has been harvested, yielded and produced the most. Since there are a lot of haphazard year columns we put it in a single column. Additionally, all elements are transformed to numerical values (one-hot values) and spread out into 3 columns. The \"Y\" character that remained inside the values has also been removed to ensure cleansing. Furthermore, Sum Years that was previously calculated has been normalized as it contains large values. This is done so that its effect in the model does not dominate over the other inputs. Finally, the mean values are derived for each element over the years for every country. Each and every amount of food is then compared to its corresponding mean values (optimal value). If amount is greated than or equal to mean then the corresponding output 'Y' is '1'. Otherwise, its '0'. We also keep a watch for the outliers."
      ]
    },
    {
      "cell_type": "code",
      "metadata": {
        "id": "BivbtLdDBBM9",
        "colab_type": "code",
        "colab": {}
      },
      "source": [
        "#Lets check out the missing values\n",
        "df.isna().sum()"
      ],
      "execution_count": 0,
      "outputs": []
    },
    {
      "cell_type": "code",
      "metadata": {
        "id": "9YBOs_2VHerN",
        "colab_type": "code",
        "colab": {}
      },
      "source": [
        "df=df.dropna()"
      ],
      "execution_count": 0,
      "outputs": []
    },
    {
      "cell_type": "code",
      "metadata": {
        "id": "rHBH5n2_QIhZ",
        "colab_type": "code",
        "outputId": "00b31946-a4c0-489a-d5bb-6e10b6f667a4",
        "colab": {
          "base_uri": "https://localhost:8080/",
          "height": 35
        }
      },
      "source": [
        "df.shape"
      ],
      "execution_count": 39,
      "outputs": [
        {
          "output_type": "execute_result",
          "data": {
            "text/plain": [
              "(29876, 65)"
            ]
          },
          "metadata": {
            "tags": []
          },
          "execution_count": 39
        }
      ]
    },
    {
      "cell_type": "markdown",
      "metadata": {
        "id": "ejgFNNxv23kJ",
        "colab_type": "text"
      },
      "source": [
        "Lets make another column which is the aggregate of all amounts from every year and lets look at what the biggest item that has been produced."
      ]
    },
    {
      "cell_type": "code",
      "metadata": {
        "id": "-X_vwaoG1fNF",
        "colab_type": "code",
        "colab": {}
      },
      "source": [
        "#Lets see the total elements of each item from 1961 to 2017\n",
        "df['Sum Years'] = 0\n",
        "for year in range(1961, 2017):\n",
        "    col = 'Y' + str(year)\n",
        "    df['Sum Years'] = df['Sum Years'] + df[col]"
      ],
      "execution_count": 0,
      "outputs": []
    },
    {
      "cell_type": "code",
      "metadata": {
        "id": "qcbkGl6l4Qht",
        "colab_type": "code",
        "colab": {}
      },
      "source": [
        "df.head(5)"
      ],
      "execution_count": 0,
      "outputs": []
    },
    {
      "cell_type": "code",
      "metadata": {
        "id": "JN-aLRisa6kf",
        "colab_type": "code",
        "colab": {}
      },
      "source": [
        "#Transforming all year columns to a single column\n",
        "df1= pd.melt(df, id_vars=[\"Area Code\",\"Area\",\"Item Code\",\"Item\",\"Element Code\", \"Element\", \"Unit\", \"Sum Years\"], \n",
        "...         var_name=\"Year\", value_name=\"Amount\")"
      ],
      "execution_count": 0,
      "outputs": []
    },
    {
      "cell_type": "code",
      "metadata": {
        "id": "eLC9E7wsg-gt",
        "colab_type": "code",
        "colab": {}
      },
      "source": [
        "df1.tail(5)"
      ],
      "execution_count": 0,
      "outputs": []
    },
    {
      "cell_type": "markdown",
      "metadata": {
        "id": "ZGvPx6LN3Lph",
        "colab_type": "text"
      },
      "source": [
        "This is where we put the yield, harvest & production elements from Elements column into columns of their own with 0 or 1 values. (Good for data modelling)"
      ]
    },
    {
      "cell_type": "code",
      "metadata": {
        "id": "Y1XUnrHBhNq9",
        "colab_type": "code",
        "colab": {}
      },
      "source": [
        "element=df1.pop('Element')"
      ],
      "execution_count": 0,
      "outputs": []
    },
    {
      "cell_type": "code",
      "metadata": {
        "id": "lON3BDjhgGmr",
        "colab_type": "code",
        "colab": {}
      },
      "source": [
        "df1['Area harvested']=(element=='Area harvested')*1.0\n",
        "df1['Production']=(element=='Production')*1.0\n",
        "df1['Yield']=(element=='Yield')*1.0"
      ],
      "execution_count": 0,
      "outputs": []
    },
    {
      "cell_type": "code",
      "metadata": {
        "id": "TD9NT24Oh-G3",
        "colab_type": "code",
        "colab": {}
      },
      "source": [
        "df1.head(5)"
      ],
      "execution_count": 0,
      "outputs": []
    },
    {
      "cell_type": "code",
      "metadata": {
        "id": "dQcUtw46-Hgp",
        "colab_type": "code",
        "colab": {}
      },
      "source": [
        "# lets remove the extra Y from the Year column\n",
        "df1['Year'] = df1['Year'].map(lambda x: x.lstrip('Y').rstrip('aAbBcC'))"
      ],
      "execution_count": 0,
      "outputs": []
    },
    {
      "cell_type": "markdown",
      "metadata": {
        "id": "p_vgFvpKKSEF",
        "colab_type": "text"
      },
      "source": [
        "The amount data has been checked for outliers."
      ]
    },
    {
      "cell_type": "code",
      "metadata": {
        "id": "i_32Su6MB65g",
        "colab_type": "code",
        "colab": {}
      },
      "source": [
        "#now, lets normalize the big values such as Sum Years to ensure equal contribution to our model\n",
        "cols_to_norm = ['Sum Years']\n",
        "df1[cols_to_norm] = df1[cols_to_norm].apply(lambda x: (x - x.min()) / (x.max() - x.min()))"
      ],
      "execution_count": 0,
      "outputs": []
    },
    {
      "cell_type": "code",
      "metadata": {
        "id": "m6vApl7GEQ5O",
        "colab_type": "code",
        "colab": {}
      },
      "source": [
        "df1.tail(5)"
      ],
      "execution_count": 0,
      "outputs": []
    },
    {
      "cell_type": "code",
      "metadata": {
        "id": "4fOMUlFbFsR9",
        "colab_type": "code",
        "colab": {}
      },
      "source": [
        "#lets find out the mean values of each item by year\n",
        "df1['mean']=df1.groupby(['Item Code','Element Code','Area'])['Amount'].transform('mean')\n"
      ],
      "execution_count": 0,
      "outputs": []
    },
    {
      "cell_type": "code",
      "metadata": {
        "id": "gzJimMV90evq",
        "colab_type": "code",
        "colab": {}
      },
      "source": [
        "#Creating the Final Y column which denotes if amount is optimal or not.\n",
        "#Amount is optimal if its greater than mean.\n",
        "df1['Y'] = np.where(df1['Amount']>=df1['mean'], '1', '0')\n"
      ],
      "execution_count": 0,
      "outputs": []
    },
    {
      "cell_type": "code",
      "metadata": {
        "id": "5Tx2k5b-Qq1P",
        "colab_type": "code",
        "colab": {}
      },
      "source": [
        "#Now that we have the Optimal values, we predict if the amount is going to be optimal for the unknown\n",
        "df1.head(5)"
      ],
      "execution_count": 0,
      "outputs": []
    },
    {
      "cell_type": "markdown",
      "metadata": {
        "id": "Z7hjf3RyYe58",
        "colab_type": "text"
      },
      "source": [
        "##Section 3: Methodology"
      ]
    },
    {
      "cell_type": "markdown",
      "metadata": {
        "id": "Tg4v-P1_emi0",
        "colab_type": "text"
      },
      "source": [
        "In the data modeling process, we first inspect the data as a pairplot and start with a basic K-Nearest Neighbor Classifier. We move on to a decision tree algorithm and we finish off with the random forest classifier.\n",
        "\n",
        "First we divide the data in a training and test set with specific parameters. The training set is given 70% of the data whereas the test set is given 30%. Afterwards, we move on to importing sckitlearn to call the K-Nearest Neighbor classifier. In this way we can call the function and implement the algorithm successfully into our data.\n",
        "\n",
        "But first, we selected the optimal features that we want to pass through the model. We have selected the neumerical values of Year, Area Code, Item Code, Sum Years and Amount. The year gives a better understanding of the changes during every year and KNN can choose its nearest neighbor more faithfully as it highly depends on the objects close to it..\n",
        "\n",
        "The Area Code gives an understanding of the area the crop is more abundant in to the classifier. The item code talks simple about the item being produced which is mandatory for differentiating. Sum Years gives a view of the total amount derived over the years and gives the classifieers a tendency of choosing the highest regarded total. The amount is also beneficial as a criteria since this is closely related to Final Y. The parameters for KNN here are: leaf size= 30,n_neighbors=5, p=2, weights='uniform'.\n",
        "\n",
        "For the decision tree algorithm, the tree branches out between the years values, the item codes, the area codes, the sum year values and the amounts. The path can be chosen inside the tree to predict the unknown. The parameter for the decision tree is put in a loop for optimization between 2 to 20 since decision trees are mostly about making way through the branches.\n",
        "\n",
        "Finally, random forest provides an ensemble of decision trees thus is expected to give a higher accuracy. A multitude of decision trees using our selected parameters is also tested without using th 'Amount' and the 'Y' values. The number of n estimators have been calculated. (n_estimators=30)"
      ]
    },
    {
      "cell_type": "code",
      "metadata": {
        "id": "6MiYe64JYEge",
        "colab_type": "code",
        "colab": {}
      },
      "source": [
        "#lets try a predictive model one but first lets inspect the data\n",
        "sns.pairplot(df1[[\"Year\",\"Area Code\",\"Item Code\",\"Sum Years\",\"Amount\"]], diag_kind=\"kde\")\n",
        "plt.show()"
      ],
      "execution_count": 0,
      "outputs": []
    },
    {
      "cell_type": "markdown",
      "metadata": {
        "id": "Nh3-YsWhdj4b",
        "colab_type": "text"
      },
      "source": [
        "##K-Nearest Neighbor"
      ]
    },
    {
      "cell_type": "code",
      "metadata": {
        "id": "6DaYa519DAAR",
        "colab_type": "code",
        "colab": {}
      },
      "source": [
        "df1.info()"
      ],
      "execution_count": 0,
      "outputs": []
    },
    {
      "cell_type": "code",
      "metadata": {
        "id": "gLEOeBdFmoAW",
        "colab_type": "code",
        "colab": {}
      },
      "source": [
        "X=df1[['Area Code','Item Code','Sum Years','Element Code','Amount']]\n",
        "Y=df1['Y']\n",
        "X_train,X_test,y_train,y_test=train_test_split(X,Y,random_state=0)"
      ],
      "execution_count": 0,
      "outputs": []
    },
    {
      "cell_type": "code",
      "metadata": {
        "id": "IsAv6aoXny2z",
        "colab_type": "code",
        "colab": {}
      },
      "source": [
        "knn=KNeighborsClassifier()"
      ],
      "execution_count": 0,
      "outputs": []
    },
    {
      "cell_type": "code",
      "metadata": {
        "id": "4WWSc9Bqn1kw",
        "colab_type": "code",
        "colab": {
          "base_uri": "https://localhost:8080/",
          "height": 69
        },
        "outputId": "9ee746a5-e1d9-4c15-d71b-37a630a429e3"
      },
      "source": [
        "knn.fit(X_train,y_train)"
      ],
      "execution_count": 90,
      "outputs": [
        {
          "output_type": "execute_result",
          "data": {
            "text/plain": [
              "KNeighborsClassifier(algorithm='auto', leaf_size=30, metric='minkowski',\n",
              "                     metric_params=None, n_jobs=None, n_neighbors=5, p=2,\n",
              "                     weights='uniform')"
            ]
          },
          "metadata": {
            "tags": []
          },
          "execution_count": 90
        }
      ]
    },
    {
      "cell_type": "code",
      "metadata": {
        "id": "1TF3S7z5qJfT",
        "colab_type": "code",
        "colab": {
          "base_uri": "https://localhost:8080/",
          "height": 35
        },
        "outputId": "84164eb9-7baa-4bda-f989-97ebcb9aa52a"
      },
      "source": [
        "knn.score(X_test,y_test)"
      ],
      "execution_count": 92,
      "outputs": [
        {
          "output_type": "execute_result",
          "data": {
            "text/plain": [
              "0.7882522613938783"
            ]
          },
          "metadata": {
            "tags": []
          },
          "execution_count": 92
        }
      ]
    },
    {
      "cell_type": "markdown",
      "metadata": {
        "id": "pKYHjX32qfpg",
        "colab_type": "text"
      },
      "source": [
        "##Accuracy is 78.82% for KNN"
      ]
    },
    {
      "cell_type": "markdown",
      "metadata": {
        "id": "F9sNtXECqU4K",
        "colab_type": "text"
      },
      "source": [
        "##Decision Tree Classifier"
      ]
    },
    {
      "cell_type": "code",
      "metadata": {
        "id": "sTKU6yajqa1u",
        "colab_type": "code",
        "colab": {}
      },
      "source": [
        "features = ['Year','Area Code','Item Code','Sum Years','Element Code','Amount'] "
      ],
      "execution_count": 0,
      "outputs": []
    },
    {
      "cell_type": "code",
      "metadata": {
        "id": "OQTFIEN6roYm",
        "colab_type": "code",
        "colab": {}
      },
      "source": [
        "X = df1[features].copy()\n",
        "y = df1['Y'].copy()"
      ],
      "execution_count": 0,
      "outputs": []
    },
    {
      "cell_type": "code",
      "metadata": {
        "id": "62wYI4ppr8lS",
        "colab_type": "code",
        "colab": {}
      },
      "source": [
        "X = pd.get_dummies(X)"
      ],
      "execution_count": 0,
      "outputs": []
    },
    {
      "cell_type": "code",
      "metadata": {
        "id": "-vTbcIfTr8by",
        "colab_type": "code",
        "colab": {}
      },
      "source": [
        "first_imputer = SimpleImputer(missing_values=np.nan,strategy='mean')\n",
        "X = pd.DataFrame(first_imputer.fit_transform(X))"
      ],
      "execution_count": 0,
      "outputs": []
    },
    {
      "cell_type": "code",
      "metadata": {
        "id": "bej9p5bgsPom",
        "colab_type": "code",
        "colab": {}
      },
      "source": [
        "Xtrain, Xtest, ytrain, ytest = train_test_split(X,y,random_state=1,test_size=0.30)"
      ],
      "execution_count": 0,
      "outputs": []
    },
    {
      "cell_type": "code",
      "metadata": {
        "id": "R3ieyT3msUxs",
        "colab_type": "code",
        "colab": {
          "base_uri": "https://localhost:8080/",
          "height": 537
        },
        "outputId": "4c8315da-83b7-4722-c331-a5757fd65dd7"
      },
      "source": [
        "def AccuracyTracker(Xtrain,Xtest,ytrain,ytest,n):\n",
        "    model = DecisionTreeClassifier(max_leaf_nodes=n,random_state=1)\n",
        "    model.fit(Xtrain,ytrain)\n",
        "    print(n,accuracy_score(ytest,model.predict(Xtest)))\n",
        "    predictionDTC=model.predict(Xtest)\n",
        "for i in range(2,20):\n",
        "    AccuracyTracker(Xtrain,Xtest,ytrain,ytest,i)"
      ],
      "execution_count": 98,
      "outputs": [
        {
          "output_type": "stream",
          "text": [
            "2 0.7160429063576573\n",
            "3 0.7160429063576573\n",
            "4 0.7160429063576573\n",
            "5 0.7482168023802067\n",
            "6 0.7482168023802067\n",
            "7 0.7570623238333856\n",
            "8 0.7605191042906357\n",
            "9 0.7605191042906357\n",
            "10 0.7605191042906357\n",
            "11 0.7611219855934858\n",
            "12 0.7699968681490761\n"
          ],
          "name": "stdout"
        },
        {
          "output_type": "error",
          "ename": "KeyboardInterrupt",
          "evalue": "ignored",
          "traceback": [
            "\u001b[0;31m---------------------------------------------------------------------------\u001b[0m",
            "\u001b[0;31mKeyboardInterrupt\u001b[0m                         Traceback (most recent call last)",
            "\u001b[0;32m<ipython-input-98-5654328b164b>\u001b[0m in \u001b[0;36m<module>\u001b[0;34m()\u001b[0m\n\u001b[1;32m      5\u001b[0m     \u001b[0mpredictionDTC\u001b[0m\u001b[0;34m=\u001b[0m\u001b[0mmodel\u001b[0m\u001b[0;34m.\u001b[0m\u001b[0mpredict\u001b[0m\u001b[0;34m(\u001b[0m\u001b[0mXtest\u001b[0m\u001b[0;34m)\u001b[0m\u001b[0;34m\u001b[0m\u001b[0;34m\u001b[0m\u001b[0m\n\u001b[1;32m      6\u001b[0m \u001b[0;32mfor\u001b[0m \u001b[0mi\u001b[0m \u001b[0;32min\u001b[0m \u001b[0mrange\u001b[0m\u001b[0;34m(\u001b[0m\u001b[0;36m2\u001b[0m\u001b[0;34m,\u001b[0m\u001b[0;36m20\u001b[0m\u001b[0;34m)\u001b[0m\u001b[0;34m:\u001b[0m\u001b[0;34m\u001b[0m\u001b[0;34m\u001b[0m\u001b[0m\n\u001b[0;32m----> 7\u001b[0;31m     \u001b[0mAccuracyTracker\u001b[0m\u001b[0;34m(\u001b[0m\u001b[0mXtrain\u001b[0m\u001b[0;34m,\u001b[0m\u001b[0mXtest\u001b[0m\u001b[0;34m,\u001b[0m\u001b[0mytrain\u001b[0m\u001b[0;34m,\u001b[0m\u001b[0mytest\u001b[0m\u001b[0;34m,\u001b[0m\u001b[0mi\u001b[0m\u001b[0;34m)\u001b[0m\u001b[0;34m\u001b[0m\u001b[0;34m\u001b[0m\u001b[0m\n\u001b[0m",
            "\u001b[0;32m<ipython-input-98-5654328b164b>\u001b[0m in \u001b[0;36mAccuracyTracker\u001b[0;34m(Xtrain, Xtest, ytrain, ytest, n)\u001b[0m\n\u001b[1;32m      1\u001b[0m \u001b[0;32mdef\u001b[0m \u001b[0mAccuracyTracker\u001b[0m\u001b[0;34m(\u001b[0m\u001b[0mXtrain\u001b[0m\u001b[0;34m,\u001b[0m\u001b[0mXtest\u001b[0m\u001b[0;34m,\u001b[0m\u001b[0mytrain\u001b[0m\u001b[0;34m,\u001b[0m\u001b[0mytest\u001b[0m\u001b[0;34m,\u001b[0m\u001b[0mn\u001b[0m\u001b[0;34m)\u001b[0m\u001b[0;34m:\u001b[0m\u001b[0;34m\u001b[0m\u001b[0;34m\u001b[0m\u001b[0m\n\u001b[1;32m      2\u001b[0m     \u001b[0mmodel\u001b[0m \u001b[0;34m=\u001b[0m \u001b[0mDecisionTreeClassifier\u001b[0m\u001b[0;34m(\u001b[0m\u001b[0mmax_leaf_nodes\u001b[0m\u001b[0;34m=\u001b[0m\u001b[0mn\u001b[0m\u001b[0;34m,\u001b[0m\u001b[0mrandom_state\u001b[0m\u001b[0;34m=\u001b[0m\u001b[0;36m1\u001b[0m\u001b[0;34m)\u001b[0m\u001b[0;34m\u001b[0m\u001b[0;34m\u001b[0m\u001b[0m\n\u001b[0;32m----> 3\u001b[0;31m     \u001b[0mmodel\u001b[0m\u001b[0;34m.\u001b[0m\u001b[0mfit\u001b[0m\u001b[0;34m(\u001b[0m\u001b[0mXtrain\u001b[0m\u001b[0;34m,\u001b[0m\u001b[0mytrain\u001b[0m\u001b[0;34m)\u001b[0m\u001b[0;34m\u001b[0m\u001b[0;34m\u001b[0m\u001b[0m\n\u001b[0m\u001b[1;32m      4\u001b[0m     \u001b[0mprint\u001b[0m\u001b[0;34m(\u001b[0m\u001b[0mn\u001b[0m\u001b[0;34m,\u001b[0m\u001b[0maccuracy_score\u001b[0m\u001b[0;34m(\u001b[0m\u001b[0mytest\u001b[0m\u001b[0;34m,\u001b[0m\u001b[0mmodel\u001b[0m\u001b[0;34m.\u001b[0m\u001b[0mpredict\u001b[0m\u001b[0;34m(\u001b[0m\u001b[0mXtest\u001b[0m\u001b[0;34m)\u001b[0m\u001b[0;34m)\u001b[0m\u001b[0;34m)\u001b[0m\u001b[0;34m\u001b[0m\u001b[0;34m\u001b[0m\u001b[0m\n\u001b[1;32m      5\u001b[0m     \u001b[0mpredictionDTC\u001b[0m\u001b[0;34m=\u001b[0m\u001b[0mmodel\u001b[0m\u001b[0;34m.\u001b[0m\u001b[0mpredict\u001b[0m\u001b[0;34m(\u001b[0m\u001b[0mXtest\u001b[0m\u001b[0;34m)\u001b[0m\u001b[0;34m\u001b[0m\u001b[0;34m\u001b[0m\u001b[0m\n",
            "\u001b[0;32m/usr/local/lib/python3.6/dist-packages/sklearn/tree/tree.py\u001b[0m in \u001b[0;36mfit\u001b[0;34m(self, X, y, sample_weight, check_input, X_idx_sorted)\u001b[0m\n\u001b[1;32m    814\u001b[0m             \u001b[0msample_weight\u001b[0m\u001b[0;34m=\u001b[0m\u001b[0msample_weight\u001b[0m\u001b[0;34m,\u001b[0m\u001b[0;34m\u001b[0m\u001b[0;34m\u001b[0m\u001b[0m\n\u001b[1;32m    815\u001b[0m             \u001b[0mcheck_input\u001b[0m\u001b[0;34m=\u001b[0m\u001b[0mcheck_input\u001b[0m\u001b[0;34m,\u001b[0m\u001b[0;34m\u001b[0m\u001b[0;34m\u001b[0m\u001b[0m\n\u001b[0;32m--> 816\u001b[0;31m             X_idx_sorted=X_idx_sorted)\n\u001b[0m\u001b[1;32m    817\u001b[0m         \u001b[0;32mreturn\u001b[0m \u001b[0mself\u001b[0m\u001b[0;34m\u001b[0m\u001b[0;34m\u001b[0m\u001b[0m\n\u001b[1;32m    818\u001b[0m \u001b[0;34m\u001b[0m\u001b[0m\n",
            "\u001b[0;32m/usr/local/lib/python3.6/dist-packages/sklearn/tree/tree.py\u001b[0m in \u001b[0;36mfit\u001b[0;34m(self, X, y, sample_weight, check_input, X_idx_sorted)\u001b[0m\n\u001b[1;32m    378\u001b[0m                                            min_impurity_split)\n\u001b[1;32m    379\u001b[0m \u001b[0;34m\u001b[0m\u001b[0m\n\u001b[0;32m--> 380\u001b[0;31m         \u001b[0mbuilder\u001b[0m\u001b[0;34m.\u001b[0m\u001b[0mbuild\u001b[0m\u001b[0;34m(\u001b[0m\u001b[0mself\u001b[0m\u001b[0;34m.\u001b[0m\u001b[0mtree_\u001b[0m\u001b[0;34m,\u001b[0m \u001b[0mX\u001b[0m\u001b[0;34m,\u001b[0m \u001b[0my\u001b[0m\u001b[0;34m,\u001b[0m \u001b[0msample_weight\u001b[0m\u001b[0;34m,\u001b[0m \u001b[0mX_idx_sorted\u001b[0m\u001b[0;34m)\u001b[0m\u001b[0;34m\u001b[0m\u001b[0;34m\u001b[0m\u001b[0m\n\u001b[0m\u001b[1;32m    381\u001b[0m \u001b[0;34m\u001b[0m\u001b[0m\n\u001b[1;32m    382\u001b[0m         \u001b[0;32mif\u001b[0m \u001b[0mself\u001b[0m\u001b[0;34m.\u001b[0m\u001b[0mn_outputs_\u001b[0m \u001b[0;34m==\u001b[0m \u001b[0;36m1\u001b[0m\u001b[0;34m:\u001b[0m\u001b[0;34m\u001b[0m\u001b[0;34m\u001b[0m\u001b[0m\n",
            "\u001b[0;31mKeyboardInterrupt\u001b[0m: "
          ]
        }
      ]
    },
    {
      "cell_type": "code",
      "metadata": {
        "id": "fbyB0rvFBmbu",
        "colab_type": "code",
        "colab": {}
      },
      "source": [
        "confusion_matrix(ytest, Xtest)\n",
        "print(classification_report(ytest,Xtest))"
      ],
      "execution_count": 0,
      "outputs": []
    },
    {
      "cell_type": "markdown",
      "metadata": {
        "id": "piQSeAJejNHz",
        "colab_type": "text"
      },
      "source": [
        "Accuracy is maximum 76.11 for n=11"
      ]
    },
    {
      "cell_type": "markdown",
      "metadata": {
        "id": "VtRsdfz7v85M",
        "colab_type": "text"
      },
      "source": [
        "##Using the same upper values the Random Forest Classifier gives an accuracy of 93.55%"
      ]
    },
    {
      "cell_type": "code",
      "metadata": {
        "id": "N-P_dLRcs9Ri",
        "colab_type": "code",
        "colab": {
          "base_uri": "https://localhost:8080/",
          "height": 35
        },
        "outputId": "e2b9f23b-a7a0-4eea-984a-25968857cfcf"
      },
      "source": [
        "model = RandomForestClassifier(n_estimators=30)\n",
        "model.fit(Xtrain,ytrain)\n",
        "accuracy_score(ytest,model.predict(Xtest))"
      ],
      "execution_count": 99,
      "outputs": [
        {
          "output_type": "execute_result",
          "data": {
            "text/plain": [
              "0.9355621672408393"
            ]
          },
          "metadata": {
            "tags": []
          },
          "execution_count": 99
        }
      ]
    },
    {
      "cell_type": "markdown",
      "metadata": {
        "id": "n6ExQEbOjfEC",
        "colab_type": "text"
      },
      "source": [
        "##Section 4: Evaluation\n",
        "After choosing the relevant parameters,the algorithms were implemented and the data models were put through its learning phase using 70% of the dataset. Then the rest of the 30% of the reserved test set wast put through the algorithm.\n",
        "After all the models have been tested in accordance to its test sets, the results suggest a clear winner. The means of evaluating the classifiers are accuracy, classification report which gives the precision and f1-score. The f1-score is highly significant in choosing the best model. Nevertheless, KNN produced 78.82% of right classification as depicted by its accuracy. Decision trees at n=11 gave an accuracy of 76.11. But Random Forest clearly made the mark by giving a 93.56% of correctly predicted results. In addition to this,\n",
        "It is faster to train than decision trees because we are working only on a subset of features in this model. We can easily work with hundreds of features. Prediction speed is significantly faster than training speed because we can save generated forests for future uses.\n",
        "Whereas KNN came second to Random Forest and Decision Trees made the last position, Random Forest proved to be an outstanding algorithm to predict food production datasets."
      ]
    },
    {
      "cell_type": "markdown",
      "metadata": {
        "id": "KMiTRXbGe7Ie",
        "colab_type": "text"
      },
      "source": [
        "##Section 6: Ethics\n",
        "Data analysis raises various ethical issues, particularly as organizations start using their information for supervenient purposes other than the relation to those for which the information was gathered at first. There are a few principals that need to be followed while forecasting or predicting data.\n",
        "1.\tPrivate information and identity ought to stay private. \n",
        "2.\tCommon private data ought to be dealt with confidentiality. \n",
        "3.\tClients ought to have a straightforward perspective on how their information is being utilized or sold. \n",
        "4.\tBig Data should not meddle with human will: Big data analysis can direct and even figure out who we are before we make up our own personalities. \n",
        "\n",
        "The following are a few approaches which can be used to check if the prediction we are presenting is ethical or not.\n",
        "1.\tThe Utilitarian Approach:  This approach is based on the concept of “Happiness or Pleasure”. According to this approach, if sacrificing one good for the happiness of others is acceptable. For food data prediction we forecast if the production of a particular crop is optimal or not. If it is not optimal then the farmers can be advised to grow the crop which is in deficit. \n",
        "But the primary problem arises when the farmer doesn’t want to grow the crop in deficit. Consider a farmer has been growing cereals but suddenly, he is asked to grow Apples. Implementing the action of requesting farmers to grow another crop is acceptable in utilitarian approach as it is good for the larger population. But practically forcing farmers is not possible.\n",
        "2.\tThe Duty based approach or the Kant approach: According to this approach, making the wisest decision isn't about the outcomes of our activities but it is about having the best possible intension in dispensing out the activity. The Food prediction can be considered ethical because it clearly follows this approach, the intension of forecasting the values of the food production is helpful as it can solve the problem of food crisis and also, it will be beneficial for a country as it can reduce its import liabilities. Since, this intension is positive the food production data forecasting can be considered ethical."
      ]
    },
    {
      "cell_type": "markdown",
      "metadata": {
        "id": "7XNWtLTTe61a",
        "colab_type": "text"
      },
      "source": [
        ""
      ]
    }
  ]
}