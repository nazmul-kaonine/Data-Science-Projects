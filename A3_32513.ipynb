{
  "nbformat": 4,
  "nbformat_minor": 0,
  "metadata": {
    "colab": {
      "name": "A3_32513.ipynb",
      "provenance": [],
      "collapsed_sections": [],
      "include_colab_link": true
    },
    "kernelspec": {
      "name": "python3",
      "display_name": "Python 3"
    }
  },
  "cells": [
    {
      "cell_type": "markdown",
      "metadata": {
        "id": "view-in-github",
        "colab_type": "text"
      },
      "source": [
        "<a href=\"https://colab.research.google.com/github/nazmul-kaonine/UTS_ML2019_ID13300912/blob/master/A3_32513.ipynb\" target=\"_parent\"><img src=\"https://colab.research.google.com/assets/colab-badge.svg\" alt=\"Open In Colab\"/></a>"
      ]
    },
    {
      "cell_type": "markdown",
      "metadata": {
        "id": "koDhzpztKUpd",
        "colab_type": "text"
      },
      "source": [
        "# To provide Australian consumers a fully automated and personalized grocery shopping experience preventing foreseeable disruption in the local retail market\n",
        "\n",
        "####Name & ID: Nazmul Kaonine 13300912\n",
        "\n",
        "Link to Github Notebook File:\n",
        "\n",
        "https://github.com/nazmul-kaonine/UTS_ML2019_ID13300912/blob/master/A3.ipynb\n",
        "\n",
        "Video Pitch Link: https://youtu.be/khSHQDRn-VM\n",
        "\n",
        "\n",
        "## AIMS\n",
        "The future of retail can be solely described as consumer choices becoming less complicated and stress-free. The potential and very practical future retail industry seems to be the one that has screens, robotic machinery, virtual dressing rooms, visualizations of the product benefits and tailored product services. This surely requires retailers to become intimidating players in the AI space (Manyika 2017). With international retail giants like Amazon knocking on the door of the Australian local market, disruption in the retail industry is forecasted by experts. The blueprint of this disruption is Amazon's robust people-tracking system and data-collecting approach that enables this organization to facilitate checkout-free retail services. The service called \"Amazon Go\" that detects products taken by the customer and automatically charging their Amazon account is to be rolled out to 3000 stores in the US alone by 2021 (Polacco & Backes 2018). This document proposes a different approach to counter-act Amazon's new service by providing customers a hassle-free shopping experience through tailored \"pick-up and leave\" grocery service using transaction data. This is one step ahead of Amazon's idea in the sense that customers do not need to physically handle the items or search through the supermarket. They will receive an accurate list of grocery items that they only need to approve before they are handed over making it incredibly convenient for the work-indulged consumers. To achieve this, the objectives of this project have been divided into 3 sections: \n",
        "\n",
        "1) The data-collection process from purchase summaries of selected grocery items bought in large amounts including customer's demographics. \n",
        "\n",
        "2) Evaluate several models that will outline the customer's future purchases of various products thereby providing individualzied offers on different items. \n",
        "\n",
        "3) After modelling, it is crucial to validate this approach and gradually deploying it in the Australian retail industry in online and offline space.\n",
        "\n",
        "## BACKGROUND\n",
        "\n",
        "The use of artificial intelligence in retail is not a new invention. Replacing human labor by machines that can simulate human behavior have proven to be successful in numerous instances (Murdoch 1990). IBM Watson's \"Gifts When You Need (GWYN)\" model\n",
        "takes information provided by consumers about the gift recipient and tailors its recommendation by matching with gifts purchased by similar recipients. A company named \"1-800 Flowers.com\" adapted this approach  and resulted in 70% of online orders through GWYN in the first two months. Another company called \"NorthFace\" also used this approach converted 75% of its total sales by recommending jackets based on the consumer's location and gender.\n",
        "Although chatbots have proven to be a technology that might no longer be used to address customer intents, another form of AI that replicates a sales agent is making groundbreaking progress. This automated sales assistant \"Rachel\" from the company \"Conversica\" achieved 30% email response rate within hours after identifying and communicating with customers on the internet (Terry et al. 2019). Furthermore, it saves their data automatically and customers enjoy this experience.\n",
        "In 2010 a 70% increase in foot traffic in a store in California was recorded due to the involvement of a humanoid robot named \"Pepper\" that can understand human emotions and interact accordingly.\n",
        "\n",
        "The proposed project implements a system that is closely related to the above scenarios. It requires an implementation of screens inside supermarkets just like one the \"Pepper\" robot carries. Customers can tap their rewards/ flybuy cards and receive a machine-discovered list of their everyday grocery items that they can approve with a single click. The model will check previous grocery sales history of everyday items and suggest similar items where the previous supply has run out. This recommendation works in a similar way like IBM's GWYN. Furthermore this \"Rachel-like\" sales agent will also provide relevant promotions on new items inside the indiviudals space of interest and pass grocery reminders online. At the end of their shopping, customers can pick up their grocery from the checkout by matching their rewards card with their purchased order or simply get home delivery through automated online order.\n",
        "\n",
        "## RESEARCH PROJECT\n",
        "\n",
        "###Significance\n",
        "While the world is implementing AI to solve their tiniest problems, the Australian local market is still following traditional retail measures. It is not a surprise that this industry collects customer data in a huge amount. This data has the potential to revolutionise retail procedures increasing revenue and forecasting sales. Unfortunately, in the offline space, the fruits of this knowledge have not been utilised. With online retail giants like Amazon emerging into the offline space, the local supermarkets such as Coles, Woolworths and Aldi need to implement similar practices to enchant customers with the most comfortable shopping experience within a short time frame.\n",
        "\n",
        "###Innovation\n",
        "The project uses the biggest advantage that Australian retailers have over entry-level international organizations i.e. existing customer data. This is just the beginning of shortlisting customer's preferences and implementing a \"pick-up and leave service\". Since over 5 million Australians prefer to buy their groceries online, this change can provide a \"queue free online-like\" experience as opposed to traditional online cart scenarios where customers undergo prolonged browsing and selecting efforts. \n",
        "\n",
        "\n",
        "###Project plan\n",
        "This project involves machine learning at its core. The data from a customer's purchase summary shown below are taken as inputs\n",
        "\n",
        "1. purchase amounts on grocery\n",
        "\n",
        "2. interval between purchases\n",
        "\n",
        "3. price and quantity of items\n",
        "\n",
        "4. Combination of items under categories\n",
        "\n",
        "5. expiry date of items\n",
        "\n",
        "6. duration of probable consumption\n",
        "\n",
        "7. high volume products from last month \n",
        "\n",
        "This data is combined with the customer's demographics that are combined together to get insights such as food habits, average expenditure on groceries and regular items flags (Turner, Morrin & Gilbert 2006).\n",
        "\n",
        "8. age\n",
        "\n",
        "9. gender\n",
        "\n",
        "10. marital_status\n",
        "\n",
        "11. number_of_dependants\n",
        "\n",
        "12. city_type\n",
        "\n",
        "13. city_name\n",
        "\n",
        "14. holiday_events\n",
        "\n",
        "15. email_address\n",
        "\n",
        "16. weather\n",
        "\n",
        "Taking this input data from the last 5 years, the final output is the customer's highest purchase amount dedicated towards each item. Items having the highest purchase amounts are listed and shown to the customer upon arrival. The algorithm is implemented using Python programming language in a notebook environment after calling certain useful libraries such as numpy, skitlearn, pandas, seaborn, matplotlib, scipy, etc. To give a brief idea about the coding language we show some pieces of similar code to be used in the process:\n"
      ]
    },
    {
      "cell_type": "code",
      "metadata": {
        "id": "pjl_iGi4C0eI",
        "colab_type": "code",
        "outputId": "70c947f2-c624-43ac-85ca-79fa38fc2d84",
        "colab": {
          "resources": {
            "http://localhost:8080/nbextensions/google.colab/files.js": {
              "data": "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",
              "ok": true,
              "headers": [
                [
                  "content-type",
                  "application/javascript"
                ]
              ],
              "status": 200,
              "status_text": ""
            }
          },
          "base_uri": "https://localhost:8080/",
          "height": 75
        }
      },
      "source": [
        "import pandas as pd\n",
        "#loading the dataset\n",
        "\n",
        "from google.colab import files\n",
        "uploaded = files.upload()"
      ],
      "execution_count": 0,
      "outputs": [
        {
          "output_type": "display_data",
          "data": {
            "text/html": [
              "\n",
              "     <input type=\"file\" id=\"files-6800f90e-ee1f-4467-a1c0-a742d651ca95\" name=\"files[]\" multiple disabled />\n",
              "     <output id=\"result-6800f90e-ee1f-4467-a1c0-a742d651ca95\">\n",
              "      Upload widget is only available when the cell has been executed in the\n",
              "      current browser session. Please rerun this cell to enable.\n",
              "      </output>\n",
              "      <script src=\"/nbextensions/google.colab/files.js\"></script> "
            ],
            "text/plain": [
              "<IPython.core.display.HTML object>"
            ]
          },
          "metadata": {
            "tags": []
          }
        },
        {
          "output_type": "stream",
          "text": [
            "Saving Budget.csv to Budget.csv\n"
          ],
          "name": "stdout"
        }
      ]
    },
    {
      "cell_type": "markdown",
      "metadata": {
        "id": "WkM2B6U9KRY5",
        "colab_type": "text"
      },
      "source": [
        "If the data is successfully loaded we can visualize it using the following code."
      ]
    },
    {
      "cell_type": "code",
      "metadata": {
        "id": "HtIH6wQZKaLx",
        "colab_type": "code",
        "outputId": "1307de75-0f07-4d0a-d8f6-19fd6bc2479c",
        "colab": {
          "base_uri": "https://localhost:8080/",
          "height": 287
        }
      },
      "source": [
        "#The data we are going to use will look something like this and then we can visualize the data\n",
        "data.head(5)\n"
      ],
      "execution_count": 0,
      "outputs": [
        {
          "output_type": "execute_result",
          "data": {
            "text/html": [
              "<div>\n",
              "<style scoped>\n",
              "    .dataframe tbody tr th:only-of-type {\n",
              "        vertical-align: middle;\n",
              "    }\n",
              "\n",
              "    .dataframe tbody tr th {\n",
              "        vertical-align: top;\n",
              "    }\n",
              "\n",
              "    .dataframe thead th {\n",
              "        text-align: right;\n",
              "    }\n",
              "</style>\n",
              "<table border=\"1\" class=\"dataframe\">\n",
              "  <thead>\n",
              "    <tr style=\"text-align: right;\">\n",
              "      <th></th>\n",
              "      <th>User_ID</th>\n",
              "      <th>Product_ID</th>\n",
              "      <th>Gender</th>\n",
              "      <th>Age</th>\n",
              "      <th>Occupation</th>\n",
              "      <th>City_Category</th>\n",
              "      <th>Stay_In_Current_City_Years</th>\n",
              "      <th>Marital_Status</th>\n",
              "      <th>Product_Category_1</th>\n",
              "      <th>Product_Category_2</th>\n",
              "      <th>Product_Category_3</th>\n",
              "      <th>Purchase</th>\n",
              "    </tr>\n",
              "  </thead>\n",
              "  <tbody>\n",
              "    <tr>\n",
              "      <th>0</th>\n",
              "      <td>1000001</td>\n",
              "      <td>P00069042</td>\n",
              "      <td>F</td>\n",
              "      <td>0-17</td>\n",
              "      <td>10</td>\n",
              "      <td>A</td>\n",
              "      <td>2</td>\n",
              "      <td>0</td>\n",
              "      <td>3</td>\n",
              "      <td>NaN</td>\n",
              "      <td>NaN</td>\n",
              "      <td>8370</td>\n",
              "    </tr>\n",
              "    <tr>\n",
              "      <th>1</th>\n",
              "      <td>1000001</td>\n",
              "      <td>P00248942</td>\n",
              "      <td>F</td>\n",
              "      <td>0-17</td>\n",
              "      <td>10</td>\n",
              "      <td>A</td>\n",
              "      <td>2</td>\n",
              "      <td>0</td>\n",
              "      <td>1</td>\n",
              "      <td>6.0</td>\n",
              "      <td>14.0</td>\n",
              "      <td>15200</td>\n",
              "    </tr>\n",
              "    <tr>\n",
              "      <th>2</th>\n",
              "      <td>1000001</td>\n",
              "      <td>P00087842</td>\n",
              "      <td>F</td>\n",
              "      <td>0-17</td>\n",
              "      <td>10</td>\n",
              "      <td>A</td>\n",
              "      <td>2</td>\n",
              "      <td>0</td>\n",
              "      <td>12</td>\n",
              "      <td>NaN</td>\n",
              "      <td>NaN</td>\n",
              "      <td>1422</td>\n",
              "    </tr>\n",
              "    <tr>\n",
              "      <th>3</th>\n",
              "      <td>1000001</td>\n",
              "      <td>P00085442</td>\n",
              "      <td>F</td>\n",
              "      <td>0-17</td>\n",
              "      <td>10</td>\n",
              "      <td>A</td>\n",
              "      <td>2</td>\n",
              "      <td>0</td>\n",
              "      <td>12</td>\n",
              "      <td>14.0</td>\n",
              "      <td>NaN</td>\n",
              "      <td>1057</td>\n",
              "    </tr>\n",
              "    <tr>\n",
              "      <th>4</th>\n",
              "      <td>1000002</td>\n",
              "      <td>P00285442</td>\n",
              "      <td>M</td>\n",
              "      <td>55+</td>\n",
              "      <td>16</td>\n",
              "      <td>C</td>\n",
              "      <td>4+</td>\n",
              "      <td>0</td>\n",
              "      <td>8</td>\n",
              "      <td>NaN</td>\n",
              "      <td>NaN</td>\n",
              "      <td>7969</td>\n",
              "    </tr>\n",
              "  </tbody>\n",
              "</table>\n",
              "</div>"
            ],
            "text/plain": [
              "   User_ID Product_ID Gender  ... Product_Category_2  Product_Category_3 Purchase\n",
              "0  1000001  P00069042      F  ...                NaN                 NaN     8370\n",
              "1  1000001  P00248942      F  ...                6.0                14.0    15200\n",
              "2  1000001  P00087842      F  ...                NaN                 NaN     1422\n",
              "3  1000001  P00085442      F  ...               14.0                 NaN     1057\n",
              "4  1000002  P00285442      M  ...                NaN                 NaN     7969\n",
              "\n",
              "[5 rows x 12 columns]"
            ]
          },
          "metadata": {
            "tags": []
          },
          "execution_count": 60
        }
      ]
    },
    {
      "cell_type": "code",
      "metadata": {
        "id": "0KTpUxoV3L9_",
        "colab_type": "code",
        "outputId": "e5d01c1b-c262-4186-f104-c4e91dc720a3",
        "colab": {
          "base_uri": "https://localhost:8080/",
          "height": 267
        }
      },
      "source": [
        "data['Gender'].value_counts().plot(kind='bar');"
      ],
      "execution_count": 0,
      "outputs": [
        {
          "output_type": "display_data",
          "data": {
            "image/png": "[encoded data removed]",
            "text/plain": [
              "<Figure size 432x288 with 1 Axes>"
            ]
          },
          "metadata": {
            "tags": []
          }
        }
      ]
    },
    {
      "cell_type": "markdown",
      "metadata": {
        "id": "DZ7X7Cx2C1Ti",
        "colab_type": "text"
      },
      "source": [
        "The above visualization shows the number of male to female ratios between the customers. Next, the data taken are split into training and testing sets. This is done to make the predictive model and evaluate its performance upon different classifiers. Since, there are many dimensions of data taken, we will run feature engineering. For this, we need to combine the train and test sets and later divide them again."
      ]
    },
    {
      "cell_type": "code",
      "metadata": {
        "id": "mUXcy30T6djK",
        "colab_type": "code",
        "colab": {}
      },
      "source": [
        "train=pd.read_csv(\"../input/traines/train.csv\")\n",
        "test=pd.read_csv(\"../input/testses/test.csv\")\n",
        "\n",
        "train['source']='train'\n",
        "test['source']='test'\n",
        "data = pd.concat([train, test],ignore_index=True)\n"
      ],
      "execution_count": 0,
      "outputs": []
    },
    {
      "cell_type": "markdown",
      "metadata": {
        "id": "HJuHifsH7Qad",
        "colab_type": "text"
      },
      "source": [
        "####Missing values: The dataset in consideration will certainly contain missing values and therefore they needs to be cleaned. \n",
        "####Normalization: We also perform other preprocessing methods such as normalization in order to make our model more accurate by controlling the effects of big values such as customer total purchase records. \n",
        "\n",
        "####Binarization: Furthermore, binarization is needed to convert values to numerical for easier computation.\n",
        "\n",
        "Next, we build classifiers such as Linear Regression.The classifier is run on the training set bearing in mind that the training set will contain the purchase details of each item. While running the classifier on the test set, the purchase values are not provided and the classifiers are meant to compete on predicting the correct values for the rest. A slight tweaking is done here by implementing a validation data set inside the training set in order to further develop the model. Lastly, we check the accuracy alone using the following piece of code:"
      ]
    },
    {
      "cell_type": "code",
      "metadata": {
        "id": "x3X7C8Jy91ON",
        "colab_type": "code",
        "colab": {}
      },
      "source": [
        "X_train, X_test, Y_train, Y_test = cross_validation.train_test_split(X, Y, test_size=0.2)"
      ],
      "execution_count": 0,
      "outputs": []
    },
    {
      "cell_type": "code",
      "metadata": {
        "id": "5bM5zNw8-GdD",
        "colab_type": "code",
        "colab": {}
      },
      "source": [
        "clf = LinearRegression(n_jobs=-1)\n",
        "clf.fit(X_train, Y_train)\n",
        "accuracy = clf.score(X_test, Y_test)\n",
        "print(accuracy)"
      ],
      "execution_count": 0,
      "outputs": []
    },
    {
      "cell_type": "markdown",
      "metadata": {
        "id": "x1u82Vdh-ZDb",
        "colab_type": "text"
      },
      "source": [
        "Next, we compare each classifier based on their accuracy in predicting the values. Some predetermined classifiers to check are:\n",
        "\n",
        "####Linear Regression:\n",
        "This is a model that investigates the relationship linearly between multiple variables in a casual way.\n",
        "\n",
        "####Random forest:\n",
        "Individual decision-making trees work together in this classifier. Each tree makes a class prediction. The model simply predicts the class with the most votes.\n",
        "\n",
        "####Nerual Networks: This classifier labels or clusters raw inputs in a way the human-brain recognizes patterns (Adeli 1999).\n",
        "\n",
        "####K-Nearest Neighbor: This is a storage of all available cases and classifies data rows based on the similarity with other data points.\n",
        "\n",
        "Once we select our best model we look at the confusion matrix for each of our classifiers to solidify our choice. Data from the current project year is then taken to train and test the algorithm one more time in order to reassure the investor.\n",
        "\n",
        "### Timeline\n",
        "The project time estimate has been shown below:\n"
      ]
    },
    {
      "cell_type": "code",
      "metadata": {
        "id": "gYjj6dugdfUT",
        "colab_type": "code",
        "cellView": "form",
        "outputId": "0d8971f9-ddbd-45aa-dfcc-d5332cf48dde",
        "colab": {
          "base_uri": "https://localhost:8080/",
          "height": 637
        }
      },
      "source": [
        "#@title Gantt chart showing the timeline of the project \n",
        "import plotly.figure_factory as ff\n",
        "\n",
        "df = [dict(Task=\"Design & plan the layout\", Start='2020-01-01', Finish='2020-01-30'),\n",
        "      dict(Task=\"Hiring required professionals upon priority basis\", Start='2020-01-15', Finish='2020-05-15'),\n",
        "      dict(Task=\"Purchase all hardware, computers, servers & network devices\", Start='2020-02-01', Finish='2020-07-30'),\n",
        "      dict(Task=\"Collect relevant customer data from supermarket database\", Start='2020-02-15', Finish='2020-03-30'),\n",
        "      dict(Task=\"Build the model\", Start='2020-04-01', Finish='2020-05-30'),\n",
        "      dict(Task=\"Evaluate  & further develop the model each month over the next 5 months\", Start='2020-06-01', Finish='2020-11-30'),\n",
        "      dict(Task=\"Build the software model for supermarket screens\", Start='2020-08-01', Finish='2020-09-30'),\n",
        "      dict(Task=\"Build the website configurations for online ordering\", Start='2020-08-01', Finish='2020-09-30'),\n",
        "      dict(Task=\"Create the user interface & front end visuals\", Start='2020-10-01', Finish='2020-10-30'),\n",
        "      dict(Task=\"Build network connections in store and between online servers\", Start='2020-11-01', Finish='2020-11-30'),\n",
        "      dict(Task=\"Social media advertisements, campaigns and awareness\", Start='2020-11-01', Finish='2020-12-30'),\n",
        "      dict(Task=\"Perform store staff & IT training\", Start='2020-12-01', Finish='2020-12-30'),\n",
        "     dict(Task=\"Close project\", Start='2020-12-15', Finish='2020-12-30')\n",
        "     ]\n",
        "\n",
        "fig = ff.create_gantt(df)\n",
        "fig.show()\n"
      ],
      "execution_count": 0,
      "outputs": [
        {
          "output_type": "display_data",
          "data": {
            "text/html": [
              "<html>\n",
              "<head><meta charset=\"utf-8\" /></head>\n",
              "<body>\n",
              "    <div>\n",
              "            <script src=\"https://cdnjs.cloudflare.com/ajax/libs/mathjax/2.7.5/MathJax.js?config=TeX-AMS-MML_SVG\"></script><script type=\"text/javascript\">if (window.MathJax) {MathJax.Hub.Config({SVG: {font: \"STIX-Web\"}});}</script>\n",
              "                <script type=\"text/javascript\">window.PlotlyConfig = {MathJaxConfig: 'local'};</script>\n",
              "        <script src=\"https://cdn.plot.ly/plotly-latest.min.js\"></script>    \n",
              "            <div id=\"248922cb-a0a3-4164-be36-eb1326e465e7\" class=\"plotly-graph-div\" style=\"height:600px; width:100%;\"></div>\n",
              "            <script type=\"text/javascript\">\n",
              "                \n",
              "                    window.PLOTLYENV=window.PLOTLYENV || {};\n",
              "                    \n",
              "                if (document.getElementById(\"248922cb-a0a3-4164-be36-eb1326e465e7\")) {\n",
              "                    Plotly.newPlot(\n",
              "                        '248922cb-a0a3-4164-be36-eb1326e465e7',\n",
              "                        [{\"fill\": \"toself\", \"fillcolor\": \"rgb(127, 127, 127)\", \"hoverinfo\": \"name\", \"legendgroup\": \"rgb(127, 127, 127)\", \"mode\": \"none\", \"name\": \"Build the website configurations for online ordering\", \"type\": \"scatter\", \"x\": [\"2020-08-01\", \"2020-09-30\", \"2020-09-30\", \"2020-08-01\"], \"y\": [6.8, 6.8, 7.2, 7.2]}, {\"fill\": \"toself\", \"fillcolor\": \"rgb(140, 86, 75)\", \"hoverinfo\": \"name\", \"legendgroup\": \"rgb(140, 86, 75)\", \"mode\": \"none\", \"name\": \"Evaluate  & further develop the model each month over the next 5 months\", \"type\": \"scatter\", \"x\": [\"2020-06-01\", \"2020-11-30\", \"2020-11-30\", \"2020-06-01\"], \"y\": [4.8, 4.8, 5.2, 5.2]}, {\"fill\": \"toself\", \"fillcolor\": \"rgb(148, 103, 189)\", \"hoverinfo\": \"name\", \"legendgroup\": \"rgb(148, 103, 189)\", \"mode\": \"none\", \"name\": \"Build the model\", \"type\": \"scatter\", \"x\": [\"2020-04-01\", \"2020-05-30\", \"2020-05-30\", \"2020-04-01\"], \"y\": [3.8, 3.8, 4.2, 4.2]}, {\"fill\": \"toself\", \"fillcolor\": \"rgb(188, 189, 34)\", \"hoverinfo\": \"name\", \"legendgroup\": \"rgb(188, 189, 34)\", \"mode\": \"none\", \"name\": \"Create the user interface & front end visuals\", \"type\": \"scatter\", \"x\": [\"2020-10-01\", \"2020-10-30\", \"2020-10-30\", \"2020-10-01\"], \"y\": [7.8, 7.8, 8.2, 8.2]}, {\"fill\": \"toself\", \"fillcolor\": \"rgb(214, 39, 40)\", \"hoverinfo\": \"name\", \"legendgroup\": \"rgb(214, 39, 40)\", \"mode\": \"none\", \"name\": \"Collect relevant customer data from supermarket database\", \"type\": \"scatter\", \"x\": [\"2020-02-15\", \"2020-03-30\", \"2020-03-30\", \"2020-02-15\"], \"y\": [2.8, 2.8, 3.2, 3.2]}, {\"fill\": \"toself\", \"fillcolor\": \"rgb(227, 119, 194)\", \"hoverinfo\": \"name\", \"legendgroup\": \"rgb(227, 119, 194)\", \"mode\": \"none\", \"name\": \"Build the software model for supermarket screens\", \"type\": \"scatter\", \"x\": [\"2020-08-01\", \"2020-09-30\", \"2020-09-30\", \"2020-08-01\"], \"y\": [5.8, 5.8, 6.2, 6.2]}, {\"fill\": \"toself\", \"fillcolor\": \"rgb(23, 190, 207)\", \"hoverinfo\": \"name\", \"legendgroup\": \"rgb(23, 190, 207)\", \"mode\": \"none\", \"name\": \"Build network connections in store and between online servers\", \"type\": \"scatter\", \"x\": [\"2020-11-01\", \"2020-11-30\", \"2020-11-30\", \"2020-11-01\"], \"y\": [8.8, 8.8, 9.2, 9.2]}, {\"fill\": \"toself\", \"fillcolor\": \"rgb(255, 127, 14)\", \"hoverinfo\": \"name\", \"legendgroup\": \"rgb(255, 127, 14)\", \"mode\": \"none\", \"name\": \"Perform store staff & IT training\", \"type\": \"scatter\", \"x\": [\"2020-01-15\", \"2020-05-15\", \"2020-05-15\", \"2020-01-15\", \"2020-01-15\", \"2020-12-01\", \"2020-12-30\", \"2020-12-30\", \"2020-12-01\"], \"y\": [0.8, 0.8, 1.2, 1.2, null, 10.8, 10.8, 11.2, 11.2]}, {\"fill\": \"toself\", \"fillcolor\": \"rgb(31, 119, 180)\", \"hoverinfo\": \"name\", \"legendgroup\": \"rgb(31, 119, 180)\", \"mode\": \"none\", \"name\": \"Social media advertisements, campaigns and awareness\", \"type\": \"scatter\", \"x\": [\"2020-01-01\", \"2020-01-30\", \"2020-01-30\", \"2020-01-01\", \"2020-01-01\", \"2020-11-01\", \"2020-12-30\", \"2020-12-30\", \"2020-11-01\"], \"y\": [-0.2, -0.2, 0.2, 0.2, null, 9.8, 9.8, 10.2, 10.2]}, {\"fill\": \"toself\", \"fillcolor\": \"rgb(44, 160, 44)\", \"hoverinfo\": \"name\", \"legendgroup\": \"rgb(44, 160, 44)\", \"mode\": \"none\", \"name\": \"Close project\", \"type\": \"scatter\", \"x\": [\"2020-02-01\", \"2020-07-30\", \"2020-07-30\", \"2020-02-01\", \"2020-02-01\", \"2020-12-15\", \"2020-12-30\", \"2020-12-30\", \"2020-12-15\"], \"y\": [1.8, 1.8, 2.2, 2.2, null, 11.8, 11.8, 12.2, 12.2]}, {\"legendgroup\": \"rgb(127, 127, 127)\", \"marker\": {\"color\": \"rgb(127, 127, 127)\", \"opacity\": 0, \"size\": 1}, \"mode\": \"markers\", \"name\": \"\", \"showlegend\": false, \"text\": [null, null], \"type\": \"scatter\", \"x\": [\"2020-08-01\", \"2020-09-30\"], \"y\": [7, 7]}, {\"legendgroup\": \"rgb(140, 86, 75)\", \"marker\": {\"color\": \"rgb(140, 86, 75)\", \"opacity\": 0, \"size\": 1}, \"mode\": \"markers\", \"name\": \"\", \"showlegend\": false, \"text\": [null, null], \"type\": \"scatter\", \"x\": [\"2020-06-01\", \"2020-11-30\"], \"y\": [5, 5]}, {\"legendgroup\": \"rgb(148, 103, 189)\", \"marker\": {\"color\": \"rgb(148, 103, 189)\", \"opacity\": 0, \"size\": 1}, \"mode\": \"markers\", \"name\": \"\", \"showlegend\": false, \"text\": [null, null], \"type\": \"scatter\", \"x\": [\"2020-04-01\", \"2020-05-30\"], \"y\": [4, 4]}, {\"legendgroup\": \"rgb(188, 189, 34)\", \"marker\": {\"color\": \"rgb(188, 189, 34)\", \"opacity\": 0, \"size\": 1}, \"mode\": \"markers\", \"name\": \"\", \"showlegend\": false, \"text\": [null, null], \"type\": \"scatter\", \"x\": [\"2020-10-01\", \"2020-10-30\"], \"y\": [8, 8]}, {\"legendgroup\": \"rgb(214, 39, 40)\", \"marker\": {\"color\": \"rgb(214, 39, 40)\", \"opacity\": 0, \"size\": 1}, \"mode\": \"markers\", \"name\": \"\", \"showlegend\": false, \"text\": [null, null], \"type\": \"scatter\", \"x\": [\"2020-02-15\", \"2020-03-30\"], \"y\": [3, 3]}, {\"legendgroup\": \"rgb(227, 119, 194)\", \"marker\": {\"color\": \"rgb(227, 119, 194)\", \"opacity\": 0, \"size\": 1}, \"mode\": \"markers\", \"name\": \"\", \"showlegend\": false, \"text\": [null, null], \"type\": \"scatter\", \"x\": [\"2020-08-01\", \"2020-09-30\"], \"y\": [6, 6]}, {\"legendgroup\": \"rgb(23, 190, 207)\", \"marker\": {\"color\": \"rgb(23, 190, 207)\", \"opacity\": 0, \"size\": 1}, \"mode\": \"markers\", \"name\": \"\", \"showlegend\": false, \"text\": [null, null], \"type\": \"scatter\", \"x\": [\"2020-11-01\", \"2020-11-30\"], \"y\": [9, 9]}, {\"legendgroup\": \"rgb(255, 127, 14)\", \"marker\": {\"color\": \"rgb(255, 127, 14)\", \"opacity\": 0, \"size\": 1}, \"mode\": \"markers\", \"name\": \"\", \"showlegend\": false, \"text\": [null, null, null, null], \"type\": \"scatter\", \"x\": [\"2020-01-15\", \"2020-05-15\", \"2020-12-01\", \"2020-12-30\"], \"y\": [1, 1, 11, 11]}, {\"legendgroup\": \"rgb(31, 119, 180)\", \"marker\": {\"color\": \"rgb(31, 119, 180)\", \"opacity\": 0, \"size\": 1}, \"mode\": \"markers\", \"name\": \"\", \"showlegend\": false, \"text\": [null, null, null, null], \"type\": \"scatter\", \"x\": [\"2020-01-01\", \"2020-01-30\", \"2020-11-01\", \"2020-12-30\"], \"y\": [0, 0, 10, 10]}, {\"legendgroup\": \"rgb(44, 160, 44)\", \"marker\": {\"color\": \"rgb(44, 160, 44)\", \"opacity\": 0, \"size\": 1}, \"mode\": \"markers\", \"name\": \"\", \"showlegend\": false, \"text\": [null, null, null, null], \"type\": \"scatter\", \"x\": [\"2020-02-01\", \"2020-07-30\", \"2020-12-15\", \"2020-12-30\"], \"y\": [2, 2, 12, 12]}],\n",
              "                        {\"height\": 600, \"hovermode\": \"closest\", \"showlegend\": false, \"template\": {\"data\": {\"bar\": [{\"error_x\": {\"color\": \"#2a3f5f\"}, \"error_y\": {\"color\": \"#2a3f5f\"}, \"marker\": {\"line\": {\"color\": \"#E5ECF6\", \"width\": 0.5}}, \"type\": \"bar\"}], \"barpolar\": [{\"marker\": {\"line\": {\"color\": \"#E5ECF6\", \"width\": 0.5}}, \"type\": \"barpolar\"}], \"carpet\": [{\"aaxis\": {\"endlinecolor\": \"#2a3f5f\", \"gridcolor\": \"white\", \"linecolor\": \"white\", \"minorgridcolor\": \"white\", \"startlinecolor\": \"#2a3f5f\"}, \"baxis\": {\"endlinecolor\": \"#2a3f5f\", \"gridcolor\": \"white\", \"linecolor\": \"white\", \"minorgridcolor\": \"white\", \"startlinecolor\": \"#2a3f5f\"}, \"type\": \"carpet\"}], \"choropleth\": [{\"colorbar\": {\"outlinewidth\": 0, \"ticks\": \"\"}, \"type\": \"choropleth\"}], \"contour\": [{\"colorbar\": {\"outlinewidth\": 0, \"ticks\": \"\"}, \"colorscale\": [[0.0, \"#0d0887\"], [0.1111111111111111, \"#46039f\"], [0.2222222222222222, \"#7201a8\"], [0.3333333333333333, \"#9c179e\"], [0.4444444444444444, \"#bd3786\"], [0.5555555555555556, \"#d8576b\"], [0.6666666666666666, \"#ed7953\"], [0.7777777777777778, \"#fb9f3a\"], [0.8888888888888888, \"#fdca26\"], [1.0, \"#f0f921\"]], \"type\": \"contour\"}], \"contourcarpet\": [{\"colorbar\": {\"outlinewidth\": 0, \"ticks\": \"\"}, \"type\": \"contourcarpet\"}], \"heatmap\": [{\"colorbar\": {\"outlinewidth\": 0, \"ticks\": \"\"}, \"colorscale\": [[0.0, \"#0d0887\"], [0.1111111111111111, \"#46039f\"], [0.2222222222222222, \"#7201a8\"], [0.3333333333333333, \"#9c179e\"], [0.4444444444444444, \"#bd3786\"], [0.5555555555555556, \"#d8576b\"], [0.6666666666666666, \"#ed7953\"], [0.7777777777777778, \"#fb9f3a\"], [0.8888888888888888, \"#fdca26\"], [1.0, \"#f0f921\"]], \"type\": \"heatmap\"}], \"heatmapgl\": [{\"colorbar\": {\"outlinewidth\": 0, \"ticks\": \"\"}, \"colorscale\": [[0.0, \"#0d0887\"], [0.1111111111111111, \"#46039f\"], [0.2222222222222222, \"#7201a8\"], [0.3333333333333333, \"#9c179e\"], [0.4444444444444444, \"#bd3786\"], [0.5555555555555556, \"#d8576b\"], [0.6666666666666666, \"#ed7953\"], [0.7777777777777778, \"#fb9f3a\"], [0.8888888888888888, \"#fdca26\"], [1.0, \"#f0f921\"]], \"type\": \"heatmapgl\"}], \"histogram\": [{\"marker\": {\"colorbar\": {\"outlinewidth\": 0, \"ticks\": \"\"}}, \"type\": \"histogram\"}], \"histogram2d\": [{\"colorbar\": {\"outlinewidth\": 0, \"ticks\": \"\"}, \"colorscale\": [[0.0, \"#0d0887\"], [0.1111111111111111, \"#46039f\"], [0.2222222222222222, \"#7201a8\"], [0.3333333333333333, \"#9c179e\"], [0.4444444444444444, \"#bd3786\"], [0.5555555555555556, \"#d8576b\"], [0.6666666666666666, \"#ed7953\"], [0.7777777777777778, \"#fb9f3a\"], [0.8888888888888888, \"#fdca26\"], [1.0, \"#f0f921\"]], \"type\": \"histogram2d\"}], \"histogram2dcontour\": [{\"colorbar\": {\"outlinewidth\": 0, \"ticks\": \"\"}, \"colorscale\": [[0.0, \"#0d0887\"], [0.1111111111111111, \"#46039f\"], [0.2222222222222222, \"#7201a8\"], [0.3333333333333333, \"#9c179e\"], [0.4444444444444444, \"#bd3786\"], [0.5555555555555556, \"#d8576b\"], [0.6666666666666666, \"#ed7953\"], [0.7777777777777778, \"#fb9f3a\"], [0.8888888888888888, \"#fdca26\"], [1.0, \"#f0f921\"]], \"type\": \"histogram2dcontour\"}], \"mesh3d\": [{\"colorbar\": {\"outlinewidth\": 0, \"ticks\": \"\"}, \"type\": \"mesh3d\"}], \"parcoords\": [{\"line\": {\"colorbar\": {\"outlinewidth\": 0, \"ticks\": \"\"}}, \"type\": \"parcoords\"}], \"scatter\": [{\"marker\": {\"colorbar\": {\"outlinewidth\": 0, \"ticks\": \"\"}}, \"type\": \"scatter\"}], \"scatter3d\": [{\"line\": {\"colorbar\": {\"outlinewidth\": 0, \"ticks\": \"\"}}, \"marker\": {\"colorbar\": {\"outlinewidth\": 0, \"ticks\": \"\"}}, \"type\": \"scatter3d\"}], \"scattercarpet\": [{\"marker\": {\"colorbar\": {\"outlinewidth\": 0, \"ticks\": \"\"}}, \"type\": \"scattercarpet\"}], \"scattergeo\": [{\"marker\": {\"colorbar\": {\"outlinewidth\": 0, \"ticks\": \"\"}}, \"type\": \"scattergeo\"}], \"scattergl\": [{\"marker\": {\"colorbar\": {\"outlinewidth\": 0, \"ticks\": \"\"}}, \"type\": \"scattergl\"}], \"scattermapbox\": [{\"marker\": {\"colorbar\": {\"outlinewidth\": 0, \"ticks\": \"\"}}, \"type\": \"scattermapbox\"}], \"scatterpolar\": [{\"marker\": {\"colorbar\": {\"outlinewidth\": 0, \"ticks\": \"\"}}, \"type\": \"scatterpolar\"}], \"scatterpolargl\": [{\"marker\": {\"colorbar\": {\"outlinewidth\": 0, \"ticks\": \"\"}}, \"type\": \"scatterpolargl\"}], \"scatterternary\": [{\"marker\": {\"colorbar\": {\"outlinewidth\": 0, \"ticks\": \"\"}}, \"type\": \"scatterternary\"}], \"surface\": [{\"colorbar\": {\"outlinewidth\": 0, \"ticks\": \"\"}, \"colorscale\": [[0.0, \"#0d0887\"], [0.1111111111111111, \"#46039f\"], [0.2222222222222222, \"#7201a8\"], [0.3333333333333333, \"#9c179e\"], [0.4444444444444444, \"#bd3786\"], [0.5555555555555556, \"#d8576b\"], [0.6666666666666666, \"#ed7953\"], [0.7777777777777778, \"#fb9f3a\"], [0.8888888888888888, \"#fdca26\"], [1.0, \"#f0f921\"]], \"type\": \"surface\"}], \"table\": [{\"cells\": {\"fill\": {\"color\": \"#EBF0F8\"}, \"line\": {\"color\": \"white\"}}, \"header\": {\"fill\": {\"color\": \"#C8D4E3\"}, \"line\": {\"color\": \"white\"}}, \"type\": \"table\"}]}, \"layout\": {\"annotationdefaults\": {\"arrowcolor\": \"#2a3f5f\", \"arrowhead\": 0, \"arrowwidth\": 1}, \"colorscale\": {\"diverging\": [[0, \"#8e0152\"], [0.1, \"#c51b7d\"], [0.2, \"#de77ae\"], [0.3, \"#f1b6da\"], [0.4, \"#fde0ef\"], [0.5, \"#f7f7f7\"], [0.6, \"#e6f5d0\"], [0.7, \"#b8e186\"], [0.8, \"#7fbc41\"], [0.9, \"#4d9221\"], [1, \"#276419\"]], \"sequential\": [[0.0, \"#0d0887\"], [0.1111111111111111, \"#46039f\"], [0.2222222222222222, \"#7201a8\"], [0.3333333333333333, \"#9c179e\"], [0.4444444444444444, \"#bd3786\"], [0.5555555555555556, \"#d8576b\"], [0.6666666666666666, \"#ed7953\"], [0.7777777777777778, \"#fb9f3a\"], [0.8888888888888888, \"#fdca26\"], [1.0, \"#f0f921\"]], \"sequentialminus\": [[0.0, \"#0d0887\"], [0.1111111111111111, \"#46039f\"], [0.2222222222222222, \"#7201a8\"], [0.3333333333333333, \"#9c179e\"], [0.4444444444444444, \"#bd3786\"], [0.5555555555555556, \"#d8576b\"], [0.6666666666666666, \"#ed7953\"], [0.7777777777777778, \"#fb9f3a\"], [0.8888888888888888, \"#fdca26\"], [1.0, \"#f0f921\"]]}, \"colorway\": [\"#636efa\", \"#EF553B\", \"#00cc96\", \"#ab63fa\", \"#FFA15A\", \"#19d3f3\", \"#FF6692\", \"#B6E880\", \"#FF97FF\", \"#FECB52\"], \"font\": {\"color\": \"#2a3f5f\"}, \"geo\": {\"bgcolor\": \"white\", \"lakecolor\": \"white\", \"landcolor\": \"#E5ECF6\", \"showlakes\": true, \"showland\": true, \"subunitcolor\": \"white\"}, \"hoverlabel\": {\"align\": \"left\"}, \"hovermode\": \"closest\", \"mapbox\": {\"style\": \"light\"}, \"paper_bgcolor\": \"white\", \"plot_bgcolor\": \"#E5ECF6\", \"polar\": {\"angularaxis\": {\"gridcolor\": \"white\", \"linecolor\": \"white\", \"ticks\": \"\"}, \"bgcolor\": \"#E5ECF6\", \"radialaxis\": {\"gridcolor\": \"white\", \"linecolor\": \"white\", \"ticks\": \"\"}}, \"scene\": {\"xaxis\": {\"backgroundcolor\": \"#E5ECF6\", \"gridcolor\": \"white\", \"gridwidth\": 2, \"linecolor\": \"white\", \"showbackground\": true, \"ticks\": \"\", \"zerolinecolor\": \"white\"}, \"yaxis\": {\"backgroundcolor\": \"#E5ECF6\", \"gridcolor\": \"white\", \"gridwidth\": 2, \"linecolor\": \"white\", \"showbackground\": true, \"ticks\": \"\", \"zerolinecolor\": \"white\"}, \"zaxis\": {\"backgroundcolor\": \"#E5ECF6\", \"gridcolor\": \"white\", \"gridwidth\": 2, \"linecolor\": \"white\", \"showbackground\": true, \"ticks\": \"\", \"zerolinecolor\": \"white\"}}, \"shapedefaults\": {\"line\": {\"color\": \"#2a3f5f\"}}, \"ternary\": {\"aaxis\": {\"gridcolor\": \"white\", \"linecolor\": \"white\", \"ticks\": \"\"}, \"baxis\": {\"gridcolor\": \"white\", \"linecolor\": \"white\", \"ticks\": \"\"}, \"bgcolor\": \"#E5ECF6\", \"caxis\": {\"gridcolor\": \"white\", \"linecolor\": \"white\", \"ticks\": \"\"}}, \"title\": {\"x\": 0.05}, \"xaxis\": {\"automargin\": true, \"gridcolor\": \"white\", \"linecolor\": \"white\", \"ticks\": \"\", \"zerolinecolor\": \"white\", \"zerolinewidth\": 2}, \"yaxis\": {\"automargin\": true, \"gridcolor\": \"white\", \"linecolor\": \"white\", \"ticks\": \"\", \"zerolinecolor\": \"white\", \"zerolinewidth\": 2}}}, \"title\": {\"text\": \"Gantt Chart\"}, \"xaxis\": {\"rangeselector\": {\"buttons\": [{\"count\": 7, \"label\": \"1w\", \"step\": \"day\", \"stepmode\": \"backward\"}, {\"count\": 1, \"label\": \"1m\", \"step\": \"month\", \"stepmode\": \"backward\"}, {\"count\": 6, \"label\": \"6m\", \"step\": \"month\", \"stepmode\": \"backward\"}, {\"count\": 1, \"label\": \"YTD\", \"step\": \"year\", \"stepmode\": \"todate\"}, {\"count\": 1, \"label\": \"1y\", \"step\": \"year\", \"stepmode\": \"backward\"}, {\"step\": \"all\"}]}, \"showgrid\": false, \"type\": \"date\", \"zeroline\": false}, \"yaxis\": {\"autorange\": false, \"range\": [-1, 14], \"showgrid\": false, \"ticktext\": [\"Design & plan the layout\", \"Hiring required professionals upon priority basis\", \"Purchase all hardware, computers, servers & network devices\", \"Collect relevant customer data from supermarket database\", \"Build the model\", \"Evaluate  & further develop the model each month over the next 5 months\", \"Build the software model for supermarket screens\", \"Build the website configurations for online ordering\", \"Create the user interface & front end visuals\", \"Build network connections in store and between online servers\", \"Social media advertisements, campaigns and awareness\", \"Perform store staff & IT training\", \"Close project\"], \"tickvals\": [0, 1, 2, 3, 4, 5, 6, 7, 8, 9, 10, 11, 12], \"zeroline\": false}},\n",
              "                        {\"responsive\": true}\n",
              "                    ).then(function(){\n",
              "                            \n",
              "var gd = document.getElementById('248922cb-a0a3-4164-be36-eb1326e465e7');\n",
              "var x = new MutationObserver(function (mutations, observer) {{\n",
              "        var display = window.getComputedStyle(gd).display;\n",
              "        if (!display || display === 'none') {{\n",
              "            console.log([gd, 'removed!']);\n",
              "            Plotly.purge(gd);\n",
              "            observer.disconnect();\n",
              "        }}\n",
              "}});\n",
              "\n",
              "// Listen for the removal of the full notebook cells\n",
              "var notebookContainer = gd.closest('#notebook-container');\n",
              "if (notebookContainer) {{\n",
              "    x.observe(notebookContainer, {childList: true});\n",
              "}}\n",
              "\n",
              "// Listen for the clearing of the current output cell\n",
              "var outputEl = gd.closest('.output');\n",
              "if (outputEl) {{\n",
              "    x.observe(outputEl, {childList: true});\n",
              "}}\n",
              "\n",
              "                        })\n",
              "                };\n",
              "                \n",
              "            </script>\n",
              "        </div>\n",
              "</body>\n",
              "</html>"
            ]
          },
          "metadata": {
            "tags": []
          }
        }
      ]
    },
    {
      "cell_type": "markdown",
      "metadata": {
        "id": "Xhs7nrPYTJTi",
        "colab_type": "text"
      },
      "source": [
        "### Outcome\n",
        "The outcome of the project can be simply outlined by the following statements:\n",
        "\n",
        "1. A new algorithm for fully automated grocery shopping is developed (can be patented).\n",
        "\n",
        "2. Customers are more inclined towards the service due to its new and unique personalized approach (Anderson, Jolly & Fairhurst 2007).\n",
        "\n",
        "3. The predicted purchases data can be used as sales forecasting and thus pricing and promotions can be pre-planned.\n",
        "\n",
        "4. Supply chain management is carried out more efficiently due to useful insights.\n",
        "\n",
        "5. Disruptive innovation by big AI-involved retailers is prevented.\n",
        "\n",
        "5. Competitive advantage and monopolistic market dominance can be achieved (Chiou 2005)."
      ]
    },
    {
      "cell_type": "markdown",
      "metadata": {
        "id": "1Id8-jzXODEm",
        "colab_type": "text"
      },
      "source": [
        "##BUDGET\n",
        "\n"
      ]
    },
    {
      "cell_type": "code",
      "metadata": {
        "id": "beyYB0kkONcf",
        "colab_type": "code",
        "cellView": "form",
        "outputId": "2c0282ff-91f7-4856-ab73-393e4b6d5870",
        "colab": {
          "base_uri": "https://localhost:8080/",
          "height": 348
        }
      },
      "source": [
        "#@title Budget for the year-long project is broken down below: \n",
        "data_budget"
      ],
      "execution_count": 0,
      "outputs": [
        {
          "output_type": "execute_result",
          "data": {
            "text/html": [
              "<div>\n",
              "<style scoped>\n",
              "    .dataframe tbody tr th:only-of-type {\n",
              "        vertical-align: middle;\n",
              "    }\n",
              "\n",
              "    .dataframe tbody tr th {\n",
              "        vertical-align: top;\n",
              "    }\n",
              "\n",
              "    .dataframe thead th {\n",
              "        text-align: right;\n",
              "    }\n",
              "</style>\n",
              "<table border=\"1\" class=\"dataframe\">\n",
              "  <thead>\n",
              "    <tr style=\"text-align: right;\">\n",
              "      <th></th>\n",
              "      <th>Criteria</th>\n",
              "      <th>Cost</th>\n",
              "    </tr>\n",
              "  </thead>\n",
              "  <tbody>\n",
              "    <tr>\n",
              "      <th>0</th>\n",
              "      <td>Screens, network infrastructure (servers) and security components (RFP, purchase &amp; implementation)</td>\n",
              "      <td>2.5 millions</td>\n",
              "    </tr>\n",
              "    <tr>\n",
              "      <th>1</th>\n",
              "      <td>\"Pick -up your groceries &amp; leave Machine Learning Algorithm\"Implementation</td>\n",
              "      <td>0.8 millions</td>\n",
              "    </tr>\n",
              "    <tr>\n",
              "      <th>2</th>\n",
              "      <td>Software and User Interface Development &amp; Implementation (Outsourced)</td>\n",
              "      <td>1.2 millions</td>\n",
              "    </tr>\n",
              "    <tr>\n",
              "      <th>3</th>\n",
              "      <td>Database (purchase &amp; implementation)</td>\n",
              "      <td>0.6 millions</td>\n",
              "    </tr>\n",
              "    <tr>\n",
              "      <th>4</th>\n",
              "      <td>Migration of the required existing Purchase Data</td>\n",
              "      <td>0.9 millions</td>\n",
              "    </tr>\n",
              "    <tr>\n",
              "      <th>5</th>\n",
              "      <td>Project staff costs (IT Department Only)</td>\n",
              "      <td>2.7 millions</td>\n",
              "    </tr>\n",
              "    <tr>\n",
              "      <th>6</th>\n",
              "      <td>Awareness &amp; Advertising campaigns</td>\n",
              "      <td>0.5 million</td>\n",
              "    </tr>\n",
              "    <tr>\n",
              "      <th>7</th>\n",
              "      <td>Staff training (IT employees, Store Managers and Sales Staff)</td>\n",
              "      <td>0.5 millions</td>\n",
              "    </tr>\n",
              "    <tr>\n",
              "      <th>8</th>\n",
              "      <td>Contingency</td>\n",
              "      <td>1.8 millions</td>\n",
              "    </tr>\n",
              "    <tr>\n",
              "      <th>9</th>\n",
              "      <td>Total</td>\n",
              "      <td>11.5 millions</td>\n",
              "    </tr>\n",
              "  </tbody>\n",
              "</table>\n",
              "</div>"
            ],
            "text/plain": [
              "                                                                                             Criteria  \\\n",
              "0  Screens, network infrastructure (servers) and security components (RFP, purchase & implementation)   \n",
              "1  \"Pick -up your groceries & leave Machine Learning Algorithm\"Implementation                           \n",
              "2  Software and User Interface Development & Implementation (Outsourced)                                \n",
              "3  Database (purchase & implementation)                                                                 \n",
              "4  Migration of the required existing Purchase Data                                                     \n",
              "5  Project staff costs (IT Department Only)                                                             \n",
              "6  Awareness & Advertising campaigns                                                                    \n",
              "7  Staff training (IT employees, Store Managers and Sales Staff)                                        \n",
              "8  Contingency                                                                                          \n",
              "9  Total                                                                                                \n",
              "\n",
              "            Cost  \n",
              "0  2.5 millions   \n",
              "1  0.8 millions   \n",
              "2  1.2 millions   \n",
              "3  0.6 millions   \n",
              "4  0.9 millions   \n",
              "5  2.7 millions   \n",
              "6  0.5 million    \n",
              "7  0.5 millions   \n",
              "8  1.8 millions   \n",
              "9  11.5 millions  "
            ]
          },
          "metadata": {
            "tags": []
          },
          "execution_count": 64
        }
      ]
    },
    {
      "cell_type": "code",
      "metadata": {
        "id": "Q25lIe2St3_Q",
        "colab_type": "code",
        "cellView": "form",
        "outputId": "69fd5475-396f-484c-b57e-3a738ce3b7f8",
        "colab": {
          "base_uri": "https://localhost:8080/",
          "height": 378
        }
      },
      "source": [
        "#@title Project Staff costs have been broken down into employee types in the following table:\n",
        "data_pos_budget"
      ],
      "execution_count": 0,
      "outputs": [
        {
          "output_type": "execute_result",
          "data": {
            "text/html": [
              "<div>\n",
              "<style scoped>\n",
              "    .dataframe tbody tr th:only-of-type {\n",
              "        vertical-align: middle;\n",
              "    }\n",
              "\n",
              "    .dataframe tbody tr th {\n",
              "        vertical-align: top;\n",
              "    }\n",
              "\n",
              "    .dataframe thead th {\n",
              "        text-align: right;\n",
              "    }\n",
              "</style>\n",
              "<table border=\"1\" class=\"dataframe\">\n",
              "  <thead>\n",
              "    <tr style=\"text-align: right;\">\n",
              "      <th></th>\n",
              "      <th>Position</th>\n",
              "      <th>Salary (AUD)</th>\n",
              "    </tr>\n",
              "  </thead>\n",
              "  <tbody>\n",
              "    <tr>\n",
              "      <th>0</th>\n",
              "      <td>Data Scientist x1</td>\n",
              "      <td>120,000</td>\n",
              "    </tr>\n",
              "    <tr>\n",
              "      <th>1</th>\n",
              "      <td>Data Analysts x2</td>\n",
              "      <td>140,000</td>\n",
              "    </tr>\n",
              "    <tr>\n",
              "      <th>2</th>\n",
              "      <td>ICT Business Analyst x1</td>\n",
              "      <td>70,000</td>\n",
              "    </tr>\n",
              "    <tr>\n",
              "      <th>3</th>\n",
              "      <td>Network Engineer x2</td>\n",
              "      <td>120,000</td>\n",
              "    </tr>\n",
              "    <tr>\n",
              "      <th>4</th>\n",
              "      <td>IT Support Officers x3</td>\n",
              "      <td>150,000</td>\n",
              "    </tr>\n",
              "    <tr>\n",
              "      <th>5</th>\n",
              "      <td>Software Developer x2</td>\n",
              "      <td>130,000</td>\n",
              "    </tr>\n",
              "    <tr>\n",
              "      <th>6</th>\n",
              "      <td>Hardware Technician x2</td>\n",
              "      <td>10,000</td>\n",
              "    </tr>\n",
              "    <tr>\n",
              "      <th>7</th>\n",
              "      <td>Project Manager x1</td>\n",
              "      <td>90,000</td>\n",
              "    </tr>\n",
              "    <tr>\n",
              "      <th>8</th>\n",
              "      <td>ICT Consultant x1</td>\n",
              "      <td>50,000</td>\n",
              "    </tr>\n",
              "    <tr>\n",
              "      <th>9</th>\n",
              "      <td>Web Developer x1</td>\n",
              "      <td>70,000</td>\n",
              "    </tr>\n",
              "    <tr>\n",
              "      <th>10</th>\n",
              "      <td>Database Adminstrator x1</td>\n",
              "      <td>55,000</td>\n",
              "    </tr>\n",
              "  </tbody>\n",
              "</table>\n",
              "</div>"
            ],
            "text/plain": [
              "                    Position Salary (AUD)\n",
              "0   Data Scientist x1         120,000    \n",
              "1   Data Analysts x2          140,000    \n",
              "2   ICT Business Analyst x1   70,000     \n",
              "3   Network Engineer x2       120,000    \n",
              "4   IT Support Officers x3    150,000    \n",
              "5   Software Developer x2     130,000    \n",
              "6   Hardware Technician x2    10,000     \n",
              "7   Project Manager x1        90,000     \n",
              "8   ICT Consultant x1         50,000     \n",
              "9   Web Developer x1          70,000     \n",
              "10  Database Adminstrator x1  55,000     "
            ]
          },
          "metadata": {
            "tags": []
          },
          "execution_count": 73
        }
      ]
    },
    {
      "cell_type": "markdown",
      "metadata": {
        "id": "SZXzen-qxlfQ",
        "colab_type": "text"
      },
      "source": [
        "#Personnel"
      ]
    },
    {
      "cell_type": "code",
      "metadata": {
        "id": "F3gcdbdxaiaU",
        "colab_type": "code",
        "cellView": "form",
        "outputId": "928a90e6-2d46-4e1c-95f4-045c247a9fee",
        "colab": {
          "base_uri": "https://localhost:8080/",
          "height": 378
        }
      },
      "source": [
        "#@title The Roles and quantities of each personnel required to accomplish the \"Pick-up your groceries and Leave\" project have been shown below\n",
        "pd.set_option('display.max_colwidth', -1)\n",
        "data_roles"
      ],
      "execution_count": 0,
      "outputs": [
        {
          "output_type": "execute_result",
          "data": {
            "text/html": [
              "<div>\n",
              "<style scoped>\n",
              "    .dataframe tbody tr th:only-of-type {\n",
              "        vertical-align: middle;\n",
              "    }\n",
              "\n",
              "    .dataframe tbody tr th {\n",
              "        vertical-align: top;\n",
              "    }\n",
              "\n",
              "    .dataframe thead th {\n",
              "        text-align: right;\n",
              "    }\n",
              "</style>\n",
              "<table border=\"1\" class=\"dataframe\">\n",
              "  <thead>\n",
              "    <tr style=\"text-align: right;\">\n",
              "      <th></th>\n",
              "      <th>Role</th>\n",
              "      <th>Description</th>\n",
              "    </tr>\n",
              "  </thead>\n",
              "  <tbody>\n",
              "    <tr>\n",
              "      <th>0</th>\n",
              "      <td>Data Scientist x1</td>\n",
              "      <td>Make an adaptive algorithm over the project's demographics using certain evaluation criterias over a year's time</td>\n",
              "    </tr>\n",
              "    <tr>\n",
              "      <th>1</th>\n",
              "      <td>Data Analysts x2</td>\n",
              "      <td>Perform cleansing and preprocessing of the data along with documentation of the analysis</td>\n",
              "    </tr>\n",
              "    <tr>\n",
              "      <th>2</th>\n",
              "      <td>ICT Business Analyst x1</td>\n",
              "      <td>Get client requirements in the ICT space and facilitate project planning, evaluation and deployment in business terms</td>\n",
              "    </tr>\n",
              "    <tr>\n",
              "      <th>3</th>\n",
              "      <td>Network Engineer x2</td>\n",
              "      <td>Facilitate connection to database servers and software</td>\n",
              "    </tr>\n",
              "    <tr>\n",
              "      <th>4</th>\n",
              "      <td>IT Support Officers x3</td>\n",
              "      <td>Perform day-to-day IT support to store staff and customers</td>\n",
              "    </tr>\n",
              "    <tr>\n",
              "      <th>5</th>\n",
              "      <td>Software Developer x2</td>\n",
              "      <td>Develop and roll-out the smart screen software and user interface</td>\n",
              "    </tr>\n",
              "    <tr>\n",
              "      <th>6</th>\n",
              "      <td>Hardware Technician x2</td>\n",
              "      <td>Install the screens, network infrastructure, computers and servers</td>\n",
              "    </tr>\n",
              "    <tr>\n",
              "      <th>7</th>\n",
              "      <td>Project Manager x1</td>\n",
              "      <td>Manage the entire project</td>\n",
              "    </tr>\n",
              "    <tr>\n",
              "      <th>8</th>\n",
              "      <td>Web Developer x1</td>\n",
              "      <td>Roll out the same service on the web to help customers</td>\n",
              "    </tr>\n",
              "    <tr>\n",
              "      <th>9</th>\n",
              "      <td>Database Adminstrator x1</td>\n",
              "      <td>Take care of the ongoing database processes such as queries</td>\n",
              "    </tr>\n",
              "    <tr>\n",
              "      <th>10</th>\n",
              "      <td>ICT Consultant x1</td>\n",
              "      <td>Performs day-to-day communication with the clients</td>\n",
              "    </tr>\n",
              "  </tbody>\n",
              "</table>\n",
              "</div>"
            ],
            "text/plain": [
              "                        Role  \\\n",
              "0   Data Scientist x1          \n",
              "1   Data Analysts x2           \n",
              "2   ICT Business Analyst x1    \n",
              "3   Network Engineer x2        \n",
              "4   IT Support Officers x3     \n",
              "5   Software Developer x2      \n",
              "6   Hardware Technician x2     \n",
              "7   Project Manager x1         \n",
              "8   Web Developer x1           \n",
              "9   Database Adminstrator x1   \n",
              "10  ICT Consultant x1          \n",
              "\n",
              "                                                                                                              Description  \n",
              "0   Make an adaptive algorithm over the project's demographics using certain evaluation criterias over a year's time       \n",
              "1   Perform cleansing and preprocessing of the data along with documentation of the analysis                               \n",
              "2   Get client requirements in the ICT space and facilitate project planning, evaluation and deployment in business terms  \n",
              "3   Facilitate connection to database servers and software                                                                 \n",
              "4   Perform day-to-day IT support to store staff and customers                                                             \n",
              "5   Develop and roll-out the smart screen software and user interface                                                      \n",
              "6   Install the screens, network infrastructure, computers and servers                                                     \n",
              "7   Manage the entire project                                                                                              \n",
              "8   Roll out the same service on the web to help customers                                                                 \n",
              "9   Take care of the ongoing database processes such as queries                                                            \n",
              "10  Performs day-to-day communication with the clients                                                                     "
            ]
          },
          "metadata": {
            "tags": []
          },
          "execution_count": 76
        }
      ]
    },
    {
      "cell_type": "markdown",
      "metadata": {
        "id": "oSgGnHxjzbQw",
        "colab_type": "text"
      },
      "source": [
        "#References\n",
        "Adeli, H. 1999, 'Machine Learning‐Neural Networks, Genetic Algorithms and Fuzzy Systems', Kybernetes.\n",
        "\n",
        "\n",
        "Anderson, J.L., Jolly, L.D. & Fairhurst, A.E. 2007, 'Customer relationship management in retailing: A content analysis of retail trade journals', Journal of Retailing and Consumer Services, vol. 14, no. 6, pp. 394-9.\n",
        "\n",
        "Chiou, L. 2005, 'Empirical Analysis of Retail Competition: Spatial Differentiation at Wal-Mart, Amazon. com, and Their Competitors'.\n",
        "\n",
        "Manyika, J. 2017, 'A future that works: AI automation employment and productivity', McKinsey Global Institute Research, Tech. Rep.\n",
        "\n",
        "Murdoch, H. 1990, 'Choosing a problem—when is Artificial Intelligence appropriate for the retail industry?', Expert Systems, vol. 7, no. 1, pp. 42-9.\n",
        "\n",
        "Polacco, A. & Backes, K. 2018, 'The amazon go concept: Implications, applications, and sustainability', Journal of Business & Management, vol. 24, no. 1.\n",
        "\n",
        "Terry, G.A., Harriger, J.D., Koepf, W., Jonnalagadda, S.R., Webb-Purkis, W.D., Gainor, M.S. & Griffin, P.D. 2019, 'Systems and methods for enhanced natural language processing for machine learning conversations', Series Systems and methods for enhanced natural\n",
        " language processing for machine learning conversations Google Patents.\n",
        "\n",
        "Turner, K., Morrin, K. & Gilbert, J. 2006, 'System and method for identifying a retail customer's purchasing habits', Series System and method for identifying a retail customer's purchasing habits Google Patents.\n",
        "\n"
      ]
    }
  ]
}